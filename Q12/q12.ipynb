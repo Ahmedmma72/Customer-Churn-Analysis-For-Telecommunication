{
 "cells": [
  {
   "attachments": {},
   "cell_type": "markdown",
   "metadata": {},
   "source": [
    "#### Question: Can we predict whether a customer will refer a friend or not ?"
   ]
  },
  {
   "attachments": {},
   "cell_type": "markdown",
   "metadata": {},
   "source": [
    "#### Expectations:\n",
    "\n",
    "The question of predicting whether a customer will recommend the company, is closely related to Net Promoter Score (NPS),which can be extremely useful for the telecommunications company. The NPS is a widely used metric that measures customer loyalty and satisfaction, with a focus on the likelihood of customers recommending the company to others.\n",
    "\n",
    "There are several reasons why predicting the customer recommending the company can be valuable:\n",
    "\n",
    "Improving customer retention: Customers who are more likely to recommend the company are also more likely to stay with the company. So this can help identify customers who are at risk of leaving, allowing the company to take proactive measures to retain them.\n",
    "\n",
    "Identifying areas for improvement: Customers who are less likely to recommend the company may have specific pain points or areas of dissatisfaction. Answering this question can help the company identify these areas and prioritize efforts to address them.\n",
    "\n",
    "Driving growth: Customers who are more likely to recommend the company can help drive new customer acquisition and revenue growth through positive word-of-mouth referrals. Answering this question can help the company identify customers who are likely to be brand advocates and target them for additional promotions or incentives.\n",
    "\n",
    "In terms of expectations, predicting the NPS can help the company gain a deeper understanding of its customers and their preferences, as well as drive improvements in customer retention, satisfaction, and revenue growth. The insights gained from answering this question can be used to inform targeted marketing and customer retention strategies, ultimately leading to increased customer loyalty and business success."
   ]
  },
  {
   "attachments": {},
   "cell_type": "markdown",
   "metadata": {},
   "source": [
    "#### EDA:"
   ]
  },
  {
   "cell_type": "code",
   "execution_count": null,
   "metadata": {},
   "outputs": [],
   "source": [
    "# Importing the libraries\n",
    "import seaborn as sns\n",
    "import pandas as pd\n",
    "import matplotlib.pyplot as plt\n",
    "from sklearn.feature_selection import SequentialFeatureSelector\n",
    "from sklearn.linear_model import LogisticRegression\n",
    "from sklearn.model_selection import train_test_split\n",
    "from sklearn.metrics import classification_report\n",
    "from sklearn.ensemble import RandomForestClassifier\n",
    "from sklearn.svm import SVC\n",
    "from sklearn.model_selection import GridSearchCV\n",
    "from sklearn.metrics import accuracy_score\n",
    "from sklearn.metrics import f1_score\n",
    "from imblearn.over_sampling import ADASYN, BorderlineSMOTE\n",
    "from collections import Counter\n"
   ]
  },
  {
   "cell_type": "code",
   "execution_count": null,
   "metadata": {},
   "outputs": [],
   "source": [
    "# Load the first dataset from ../Dataset/Telco_customer_churn_services.xlsx\n",
    "services = pd.read_excel('../Dataset/Telco_customer_churn_services.xlsx')"
   ]
  },
  {
   "cell_type": "code",
   "execution_count": null,
   "metadata": {},
   "outputs": [],
   "source": [
    "# Load the second dataset from ../Dataset/Telco_customer_churn.xlsx\n",
    "compound = pd.read_excel('../Dataset/Telco_customer_churn.xlsx')"
   ]
  },
  {
   "cell_type": "code",
   "execution_count": null,
   "metadata": {},
   "outputs": [],
   "source": [
    "# Load the data from /Dataset/Telco_customer_churn_demographics.xlsx\n",
    "demographics = pd.read_excel('../Dataset/Telco_customer_churn_demographics.xlsx')"
   ]
  },
  {
   "cell_type": "code",
   "execution_count": null,
   "metadata": {},
   "outputs": [],
   "source": [
    "# rename the column to match the column name in the dataset\n",
    "compound.rename(columns={'CustomerID':'Customer ID'}, inplace=True)"
   ]
  },
  {
   "cell_type": "code",
   "execution_count": null,
   "metadata": {},
   "outputs": [],
   "source": [
    "# Join the two datasets on the column 'Customer ID'\n",
    "dataset1 = pd.merge(demographics, compound, on='Customer ID')"
   ]
  },
  {
   "cell_type": "code",
   "execution_count": null,
   "metadata": {},
   "outputs": [],
   "source": [
    "# check the data types of the columns\n",
    "dataset1.dtypes"
   ]
  },
  {
   "cell_type": "code",
   "execution_count": null,
   "metadata": {},
   "outputs": [],
   "source": [
    "my_columns = ['Gender_x', 'Age', 'Married',\n",
    "              'Number of Dependents', 'Churn Value', 'Tenure Months', 'Churn Score', 'Monthly Charges', 'Customer ID']\n",
    "\n",
    "dataset1 = dataset1[my_columns]"
   ]
  },
  {
   "cell_type": "code",
   "execution_count": null,
   "metadata": {},
   "outputs": [],
   "source": [
    "dataset = pd.merge(services, dataset1, on='Customer ID')"
   ]
  },
  {
   "cell_type": "code",
   "execution_count": null,
   "metadata": {},
   "outputs": [],
   "source": [
    "dataset.dtypes"
   ]
  },
  {
   "cell_type": "code",
   "execution_count": null,
   "metadata": {},
   "outputs": [],
   "source": [
    "my_columns += ['Phone Service', 'Internet Service', 'Multiple Lines',\n",
    "               'Online Security', 'Online Backup', 'Device Protection Plan', 'Premium Tech Support', 'Unlimited Data', 'Total Revenue', 'Referred a Friend']\n",
    "\n",
    "dataset = dataset[my_columns]"
   ]
  },
  {
   "cell_type": "code",
   "execution_count": null,
   "metadata": {},
   "outputs": [],
   "source": [
    "dataset.dtypes"
   ]
  },
  {
   "cell_type": "code",
   "execution_count": null,
   "metadata": {},
   "outputs": [],
   "source": [
    "# rename Gender_x to gender\n",
    "dataset.rename(columns={'Gender_x' : 'Gender'},inplace=True)"
   ]
  },
  {
   "cell_type": "code",
   "execution_count": null,
   "metadata": {},
   "outputs": [],
   "source": [
    "if 'Customer ID' in dataset.columns:\n",
    "    dataset.drop('Customer ID', axis=1, inplace=True)"
   ]
  },
  {
   "cell_type": "code",
   "execution_count": null,
   "metadata": {},
   "outputs": [],
   "source": [
    "dataset = pd.get_dummies(dataset,drop_first=True)"
   ]
  },
  {
   "cell_type": "code",
   "execution_count": null,
   "metadata": {},
   "outputs": [],
   "source": [
    "dataset.head()"
   ]
  },
  {
   "cell_type": "code",
   "execution_count": null,
   "metadata": {},
   "outputs": [],
   "source": [
    "if 'Married_Yes' in dataset.columns:\n",
    "    dataset.rename(columns={'Married_Yes':'Married','Gender_Male': 'Gender','Phone Service_Yes':'Phone Service', 'Internet Service_Yes':'Internet Service', 'Multiple Lines_Yes':'Multiple Lines',\n",
    "                        'Online Security_Yes':'Online Security', 'Online Backup_Yes':'Online Backup','Device Protection Plan_Yes':'Device Protection Plan',\n",
    "                        'Premium Tech Support_Yes':'Premium Tech Support','Unlimited Data_Yes':'Unlimited Data','Referred a Friend_Yes':'Referred a Friend'}, inplace=True)"
   ]
  },
  {
   "cell_type": "code",
   "execution_count": null,
   "metadata": {},
   "outputs": [],
   "source": [
    "dataset.head()"
   ]
  },
  {
   "cell_type": "code",
   "execution_count": null,
   "metadata": {},
   "outputs": [],
   "source": [
    "#visualize the distribution of the all features in the dataset\n",
    "dataset.hist(figsize=(20,20))\n",
    "plt.show()"
   ]
  },
  {
   "cell_type": "code",
   "execution_count": null,
   "metadata": {},
   "outputs": [],
   "source": [
    "#visualize the correlation between the features\n",
    "plt.figure(figsize=(20,20))\n",
    "sns.heatmap(dataset.corr(), annot=True, cmap='coolwarm')\n",
    "plt.show()"
   ]
  },
  {
   "cell_type": "code",
   "execution_count": null,
   "metadata": {},
   "outputs": [],
   "source": [
    "# visualize the correlation between the features and the target variable\n",
    "plt.figure(figsize=(20, 20))\n",
    "sns.heatmap(dataset.corr()[['Referred a Friend']].sort_values(\n",
    "    by='Referred a Friend', ascending=False), annot=True, fmt='.2f')\n",
    "plt.show()"
   ]
  },
  {
   "attachments": {},
   "cell_type": "markdown",
   "metadata": {},
   "source": [
    "##### Insights:\n",
    "\n",
    "Only feature worth looking at are : \n",
    "1. Married\n",
    "2. Tenure Months\n",
    "3. Total Revenue\n",
    "4. Number of Dependents"
   ]
  },
  {
   "cell_type": "code",
   "execution_count": null,
   "metadata": {},
   "outputs": [],
   "source": [
    "features = ['Married','Tenure Months','Total Revenue','Number of Dependents','Referred a Friend']\n",
    "dataset = dataset[features]"
   ]
  },
  {
   "cell_type": "code",
   "execution_count": null,
   "metadata": {},
   "outputs": [],
   "source": [
    "dataset.head()"
   ]
  },
  {
   "cell_type": "code",
   "execution_count": null,
   "metadata": {},
   "outputs": [],
   "source": [
    "# visualize the distribution of the features vs the target variable (Referred a Friend)\n",
    "for feature in features:\n",
    "    if feature == 'Referred a Friend':\n",
    "        continue\n",
    "    if feature == 'Married':\n",
    "        sns.countplot(x=feature, hue='Referred a Friend', data=dataset)\n",
    "        plt.show()\n",
    "    else:\n",
    "        sns.boxplot(x='Referred a Friend', y=feature, data=dataset)\n",
    "        plt.show()"
   ]
  },
  {
   "attachments": {},
   "cell_type": "markdown",
   "metadata": {},
   "source": [
    "##### Insights:\n",
    "1. Married customers are more likely to recommend the company.\n",
    "2. Total Revenue and Tenure Months are positively correlated with the likelihood of recommending the company. Which means that customers who have been with the company longer and have higher total revenue are more likely to recommend the company.\n"
   ]
  },
  {
   "attachments": {},
   "cell_type": "markdown",
   "metadata": {},
   "source": [
    "#### Building Model:"
   ]
  },
  {
   "cell_type": "code",
   "execution_count": null,
   "metadata": {},
   "outputs": [],
   "source": [
    "# split the dataset into train and test sets\n",
    "X = dataset.drop('Referred a Friend', axis=1)\n",
    "y = dataset['Referred a Friend']\n",
    "\n",
    "X_train, X_test, y_train, y_test = train_test_split(\n",
    "    X, y, test_size=0.2, random_state=101)"
   ]
  },
  {
   "cell_type": "code",
   "execution_count": null,
   "metadata": {},
   "outputs": [],
   "source": [
    "# this function takes in the model, trains it and evaluates it on the test set\n",
    "# it also uses SequentialFeatureSelector to select the best features for the model\n",
    "def trainModel(model, X_train, y_train, X_test, y_test):\n",
    "\n",
    "    # get features range\n",
    "    feature_range = range(1, len(X_train.columns))\n",
    "\n",
    "    best_model_accuracy = None\n",
    "    best_accuracy = 0.0\n",
    "    best_model_f1 = None\n",
    "    best_f1 = 0.0\n",
    "    best_features = None\n",
    "\n",
    "    # loop through all the features\n",
    "    for i in feature_range:\n",
    "        sfs = SequentialFeatureSelector(\n",
    "            model, n_features_to_select=i, direction='forward')\n",
    "\n",
    "        # train the model using the training sets\n",
    "        sfs.fit(X_train, y_train)\n",
    "\n",
    "        # transform the data sets so that only the selected features are retained\n",
    "        X_train_sfs = sfs.transform(X_train)\n",
    "        X_test_sfs = sfs.transform(X_test)\n",
    "\n",
    "        # Print the selected features\n",
    "        print(\"Selected Features for %d Features: %s\" %\n",
    "              (i, X_train.loc[:, sfs.support_].columns))\n",
    "\n",
    "        # calculate the accuracy of the model using the test sets\n",
    "        model.fit(X_train_sfs, y_train)\n",
    "\n",
    "        # predict the response for the test sets\n",
    "        y_pred = model.predict(X_test_sfs)\n",
    "        #save the best model and best features based on the accuracy\n",
    "        if best_accuracy < accuracy_score(y_test, y_pred):\n",
    "            best_accuracy = accuracy_score(y_test, y_pred)\n",
    "            best_model_accuracy = sfs\n",
    "            best_features = sfs.get_support()\n",
    "\n",
    "        #save the best model and best features based on the f1 score\n",
    "        if best_f1 < f1_score(y_test, y_pred, average='weighted'):\n",
    "            best_f1 = f1_score(y_test, y_pred, average='weighted')\n",
    "            best_model_f1 = sfs\n",
    "            best_features = sfs.get_support()\n",
    "\n",
    "    # Print the selected features based on the accuracy\n",
    "    print(\"Selected Features for Best Accuracy: %s\" %\n",
    "          (X.loc[:, best_model_accuracy.get_support()].columns))\n",
    "\n",
    "    # Print best accuracy\n",
    "    print(\"Best Accuracy: %f\" % (best_accuracy))\n",
    "\n",
    "    # Print the selected features based on the f1 score\n",
    "    print(\"Selected Features for Best F1 Score: %s\" %\n",
    "          (X.loc[:, best_model_f1.get_support()].columns))\n",
    "\n",
    "    # Print best f1 score\n",
    "    print(\"Best F1 Score: %f\" % (best_f1))"
   ]
  },
  {
   "cell_type": "code",
   "execution_count": null,
   "metadata": {},
   "outputs": [],
   "source": [
    "# train using a logistic regression model\n",
    "trainModel(LogisticRegression(), X_train, y_train, X_test, y_test)"
   ]
  },
  {
   "cell_type": "code",
   "execution_count": null,
   "metadata": {},
   "outputs": [],
   "source": [
    "# train using a random forest classifier model\n",
    "trainModel(RandomForestClassifier(), X_train, y_train, X_test, y_test)"
   ]
  },
  {
   "cell_type": "code",
   "execution_count": null,
   "metadata": {},
   "outputs": [],
   "source": [
    "# train using a svm model\n",
    "trainModel(SVC(), X_train, y_train, X_test, y_test)"
   ]
  }
 ],
 "metadata": {
  "kernelspec": {
   "display_name": "Python 3",
   "language": "python",
   "name": "python3"
  },
  "language_info": {
   "codemirror_mode": {
    "name": "ipython",
    "version": 3
   },
   "file_extension": ".py",
   "mimetype": "text/x-python",
   "name": "python",
   "nbconvert_exporter": "python",
   "pygments_lexer": "ipython3",
   "version": "3.9.6"
  },
  "orig_nbformat": 4
 },
 "nbformat": 4,
 "nbformat_minor": 2
}
