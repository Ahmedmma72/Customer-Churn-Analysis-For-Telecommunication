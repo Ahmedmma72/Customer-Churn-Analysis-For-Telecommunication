{
 "cells": [
  {
   "attachments": {},
   "cell_type": "markdown",
   "metadata": {},
   "source": [
    "#### Question: Does customer churn depend on the customer contract segment ?"
   ]
  },
  {
   "attachments": {},
   "cell_type": "markdown",
   "metadata": {},
   "source": [
    "##### Expectations:\n",
    "The result of the analysis would provide insights to the telecommunications company on which contract segments may be more vulnerable to churn and help in developing targeted retention strategies for specific customer segments.\n",
    "\n",
    "If the analysis shows that the contract segment is a significant predictor of churn, then the company can develop targeted retention strategies for specific customer segments."
   ]
  },
  {
   "attachments": {},
   "cell_type": "markdown",
   "metadata": {},
   "source": [
    "##### Information about the data:\n",
    "The data is stored in an Excel file named `Telco_customer_churn.xlsx`. The file contains 7043 rows. Each row represents a customer, each column contains customer’s attributes described on the column Metadata. The features we are interested in are:\n",
    "- `Contract`: Type of contract (Month-to-month, One year, Two year)\n",
    "- `Churn Value`: Whether the customer churned or not (1 for yes and 0 for no)"
   ]
  },
  {
   "attachments": {},
   "cell_type": "markdown",
   "metadata": {},
   "source": [
    "#### EDA"
   ]
  },
  {
   "cell_type": "code",
   "execution_count": 1,
   "metadata": {},
   "outputs": [],
   "source": [
    "# Importing the libraries\n",
    "import numpy as np\n",
    "import matplotlib.pyplot as plt\n",
    "import pandas as pd\n",
    "from sklearn.model_selection import train_test_split\n",
    "import seaborn as sns\n",
    "from scipy.stats import t"
   ]
  },
  {
   "cell_type": "code",
   "execution_count": 2,
   "metadata": {},
   "outputs": [],
   "source": [
    "# read the dataset\n",
    "dataset = pd.read_excel('../Dataset/Telco_customer_churn.xlsx')"
   ]
  },
  {
   "cell_type": "code",
   "execution_count": 3,
   "metadata": {},
   "outputs": [
    {
     "data": {
      "text/plain": [
       "Index(['CustomerID', 'Count', 'Country', 'State', 'City', 'Zip Code',\n",
       "       'Lat Long', 'Latitude', 'Longitude', 'Gender', 'Senior Citizen',\n",
       "       'Partner', 'Dependents', 'Tenure Months', 'Phone Service',\n",
       "       'Multiple Lines', 'Internet Service', 'Online Security',\n",
       "       'Online Backup', 'Device Protection', 'Tech Support', 'Streaming TV',\n",
       "       'Streaming Movies', 'Contract', 'Paperless Billing', 'Payment Method',\n",
       "       'Monthly Charges', 'Total Charges', 'Churn Label', 'Churn Value',\n",
       "       'Churn Score', 'CLTV', 'Churn Reason'],\n",
       "      dtype='object')"
      ]
     },
     "execution_count": 3,
     "metadata": {},
     "output_type": "execute_result"
    }
   ],
   "source": [
    "dataset.columns"
   ]
  },
  {
   "cell_type": "code",
   "execution_count": 4,
   "metadata": {},
   "outputs": [],
   "source": [
    "# taking only the required columns which are Contract and Churn Value\n",
    "dataset = dataset[['Contract','Churn Value']]"
   ]
  },
  {
   "cell_type": "code",
   "execution_count": 5,
   "metadata": {},
   "outputs": [
    {
     "data": {
      "text/plain": [
       "Contract       0\n",
       "Churn Value    0\n",
       "dtype: int64"
      ]
     },
     "execution_count": 5,
     "metadata": {},
     "output_type": "execute_result"
    }
   ],
   "source": [
    "# checking for null values\n",
    "dataset.isnull().sum()"
   ]
  },
  {
   "cell_type": "code",
   "execution_count": 6,
   "metadata": {},
   "outputs": [
    {
     "data": {
      "text/plain": [
       "Contract       object\n",
       "Churn Value     int64\n",
       "dtype: object"
      ]
     },
     "execution_count": 6,
     "metadata": {},
     "output_type": "execute_result"
    }
   ],
   "source": [
    "dataset.dtypes"
   ]
  },
  {
   "cell_type": "code",
   "execution_count": 8,
   "metadata": {},
   "outputs": [],
   "source": [
    "# converting the categorical values to numerical values\n",
    "data = dataset.copy()\n",
    "data['Contract'] = data['Contract'].map({'Month-to-month':0,'One year':1,'Two year':2})"
   ]
  },
  {
   "cell_type": "code",
   "execution_count": 9,
   "metadata": {},
   "outputs": [
    {
     "data": {
      "text/html": [
       "<style  type=\"text/css\" >\n",
       "#T_402ab_row0_col0,#T_402ab_row1_col1{\n",
       "            background-color:  #b40426;\n",
       "            color:  #f1f1f1;\n",
       "        }#T_402ab_row0_col1,#T_402ab_row1_col0{\n",
       "            background-color:  #3b4cc0;\n",
       "            color:  #f1f1f1;\n",
       "        }</style><table id=\"T_402ab_\" ><thead>    <tr>        <th class=\"blank level0\" ></th>        <th class=\"col_heading level0 col0\" >Contract</th>        <th class=\"col_heading level0 col1\" >Churn Value</th>    </tr></thead><tbody>\n",
       "                <tr>\n",
       "                        <th id=\"T_402ab_level0_row0\" class=\"row_heading level0 row0\" >Contract</th>\n",
       "                        <td id=\"T_402ab_row0_col0\" class=\"data row0 col0\" >1.000000</td>\n",
       "                        <td id=\"T_402ab_row0_col1\" class=\"data row0 col1\" >-0.396713</td>\n",
       "            </tr>\n",
       "            <tr>\n",
       "                        <th id=\"T_402ab_level0_row1\" class=\"row_heading level0 row1\" >Churn Value</th>\n",
       "                        <td id=\"T_402ab_row1_col0\" class=\"data row1 col0\" >-0.396713</td>\n",
       "                        <td id=\"T_402ab_row1_col1\" class=\"data row1 col1\" >1.000000</td>\n",
       "            </tr>\n",
       "    </tbody></table>"
      ],
      "text/plain": [
       "<pandas.io.formats.style.Styler at 0x2c30babce50>"
      ]
     },
     "execution_count": 9,
     "metadata": {},
     "output_type": "execute_result"
    }
   ],
   "source": [
    "# check the correlation between the features\n",
    "corr = data.corr()\n",
    "corr.style.background_gradient(cmap='coolwarm')"
   ]
  },
  {
   "cell_type": "code",
   "execution_count": 11,
   "metadata": {},
   "outputs": [
    {
     "data": {
      "text/html": [
       "<style  type=\"text/css\" >\n",
       "#T_a892a_row0_col0,#T_a892a_row1_col1{\n",
       "            background-color:  #b40426;\n",
       "            color:  #f1f1f1;\n",
       "        }#T_a892a_row0_col1,#T_a892a_row1_col0{\n",
       "            background-color:  #3b4cc0;\n",
       "            color:  #f1f1f1;\n",
       "        }</style><table id=\"T_a892a_\" ><thead>    <tr>        <th class=\"blank level0\" ></th>        <th class=\"col_heading level0 col0\" >Contract</th>        <th class=\"col_heading level0 col1\" >Churn Value</th>    </tr></thead><tbody>\n",
       "                <tr>\n",
       "                        <th id=\"T_a892a_level0_row0\" class=\"row_heading level0 row0\" >Contract</th>\n",
       "                        <td id=\"T_a892a_row0_col0\" class=\"data row0 col0\" >1.000000</td>\n",
       "                        <td id=\"T_a892a_row0_col1\" class=\"data row0 col1\" >-0.406262</td>\n",
       "            </tr>\n",
       "            <tr>\n",
       "                        <th id=\"T_a892a_level0_row1\" class=\"row_heading level0 row1\" >Churn Value</th>\n",
       "                        <td id=\"T_a892a_row1_col0\" class=\"data row1 col0\" >-0.406262</td>\n",
       "                        <td id=\"T_a892a_row1_col1\" class=\"data row1 col1\" >1.000000</td>\n",
       "            </tr>\n",
       "    </tbody></table>"
      ],
      "text/plain": [
       "<pandas.io.formats.style.Styler at 0x2c30babc910>"
      ]
     },
     "execution_count": 11,
     "metadata": {},
     "output_type": "execute_result"
    }
   ],
   "source": [
    "# Correlation with Spearman's Rank Correlation:\n",
    "corr = data.corr(method='spearman')\n",
    "corr.style.background_gradient(cmap='coolwarm')"
   ]
  },
  {
   "cell_type": "code",
   "execution_count": 12,
   "metadata": {},
   "outputs": [
    {
     "data": {
      "text/html": [
       "<style  type=\"text/css\" >\n",
       "#T_0879f_row0_col0,#T_0879f_row1_col1{\n",
       "            background-color:  #b40426;\n",
       "            color:  #f1f1f1;\n",
       "        }#T_0879f_row0_col1,#T_0879f_row1_col0{\n",
       "            background-color:  #3b4cc0;\n",
       "            color:  #f1f1f1;\n",
       "        }</style><table id=\"T_0879f_\" ><thead>    <tr>        <th class=\"blank level0\" ></th>        <th class=\"col_heading level0 col0\" >Contract</th>        <th class=\"col_heading level0 col1\" >Churn Value</th>    </tr></thead><tbody>\n",
       "                <tr>\n",
       "                        <th id=\"T_0879f_level0_row0\" class=\"row_heading level0 row0\" >Contract</th>\n",
       "                        <td id=\"T_0879f_row0_col0\" class=\"data row0 col0\" >1.000000</td>\n",
       "                        <td id=\"T_0879f_row0_col1\" class=\"data row0 col1\" >-0.386912</td>\n",
       "            </tr>\n",
       "            <tr>\n",
       "                        <th id=\"T_0879f_level0_row1\" class=\"row_heading level0 row1\" >Churn Value</th>\n",
       "                        <td id=\"T_0879f_row1_col0\" class=\"data row1 col0\" >-0.386912</td>\n",
       "                        <td id=\"T_0879f_row1_col1\" class=\"data row1 col1\" >1.000000</td>\n",
       "            </tr>\n",
       "    </tbody></table>"
      ],
      "text/plain": [
       "<pandas.io.formats.style.Styler at 0x2c30b940790>"
      ]
     },
     "execution_count": 12,
     "metadata": {},
     "output_type": "execute_result"
    }
   ],
   "source": [
    "# Correlation with Kendall's Rank Correlation:\n",
    "corr = data.corr(method='kendall')\n",
    "corr.style.background_gradient(cmap='coolwarm')"
   ]
  },
  {
   "cell_type": "code",
   "execution_count": 10,
   "metadata": {},
   "outputs": [
    {
     "data": {
      "text/html": [
       "<style  type=\"text/css\" >\n",
       "#T_fee60_row0_col0,#T_fee60_row1_col1{\n",
       "            background-color:  #b40426;\n",
       "            color:  #f1f1f1;\n",
       "        }#T_fee60_row0_col1,#T_fee60_row1_col0{\n",
       "            background-color:  #3b4cc0;\n",
       "            color:  #f1f1f1;\n",
       "        }</style><table id=\"T_fee60_\" ><thead>    <tr>        <th class=\"blank level0\" ></th>        <th class=\"col_heading level0 col0\" >Contract</th>        <th class=\"col_heading level0 col1\" >Churn Value</th>    </tr></thead><tbody>\n",
       "                <tr>\n",
       "                        <th id=\"T_fee60_level0_row0\" class=\"row_heading level0 row0\" >Contract</th>\n",
       "                        <td id=\"T_fee60_row0_col0\" class=\"data row0 col0\" >0.695148</td>\n",
       "                        <td id=\"T_fee60_row0_col1\" class=\"data row0 col1\" >-0.146051</td>\n",
       "            </tr>\n",
       "            <tr>\n",
       "                        <th id=\"T_fee60_level0_row1\" class=\"row_heading level0 row1\" >Churn Value</th>\n",
       "                        <td id=\"T_fee60_row1_col0\" class=\"data row1 col0\" >-0.146051</td>\n",
       "                        <td id=\"T_fee60_row1_col1\" class=\"data row1 col1\" >0.194976</td>\n",
       "            </tr>\n",
       "    </tbody></table>"
      ],
      "text/plain": [
       "<pandas.io.formats.style.Styler at 0x2c30bdad730>"
      ]
     },
     "execution_count": 10,
     "metadata": {},
     "output_type": "execute_result"
    }
   ],
   "source": [
    "# check the covariance between the features\n",
    "cov = data.cov()\n",
    "cov.style.background_gradient(cmap='coolwarm')"
   ]
  },
  {
   "cell_type": "code",
   "execution_count": 10,
   "metadata": {},
   "outputs": [],
   "source": [
    "# separate each category of contract type with its churn value\n",
    "month_to_month = dataset[dataset['Contract'] == 'Month-to-month']\n",
    "one_year = dataset[dataset['Contract'] == 'One year']\n",
    "two_year = dataset[dataset['Contract'] == 'Two year']"
   ]
  },
  {
   "attachments": {},
   "cell_type": "markdown",
   "metadata": {},
   "source": [
    "##### Initial observations:\n",
    "It is clear that `Contract` variable has negative correlation with `Churn Value` variable.\n",
    "So this is a good indicator that contract type/segement is a good predictor of churn. In other words, customers churn depends on the contract type, but we need to do a statistical test to confirm this."
   ]
  },
  {
   "attachments": {},
   "cell_type": "markdown",
   "metadata": {},
   "source": [
    "### Model building"
   ]
  },
  {
   "attachments": {},
   "cell_type": "markdown",
   "metadata": {},
   "source": [
    "##### Defining Hypothesises:\n",
    "- Null Hypothesis: Customer segemnts are independent of churn\n",
    "- Alternate Hypothesis: Customer segemnts are dependent of churn\n",
    "\n",
    "##### Statistical test:\n",
    "- we will use `Chi-square test of independence` to test the hypothesis.\n",
    "- We will use `0.05` as the significance level."
   ]
  },
  {
   "cell_type": "code",
   "execution_count": 14,
   "metadata": {},
   "outputs": [
    {
     "name": "stdout",
     "output_type": "stream",
     "text": [
      "Chi-square statistic 1184.597 p_value 0.000\n",
      "Degrees of freedom 2\n",
      "Expected values  [[2846.69175067 1028.30824933]\n",
      " [1082.11018032  390.88981968]\n",
      " [1245.198069    449.801931  ]]\n"
     ]
    }
   ],
   "source": [
    "# apply chi-square test to check if there is any relationship between contract type and churn value\n",
    "from scipy.stats import chi2_contingency\n",
    "chi2, p, dof, expected = chi2_contingency(pd.crosstab(dataset['Contract'], dataset['Churn Value']))\n",
    "\n",
    "print('Chi-square statistic %0.3f p_value %0.3f' % (chi2, p))\n",
    "print('Degrees of freedom %d' % dof)\n",
    "print('Expected values ', expected)\n"
   ]
  },
  {
   "cell_type": "code",
   "execution_count": 15,
   "metadata": {},
   "outputs": [
    {
     "name": "stdout",
     "output_type": "stream",
     "text": [
      "Critical value  2.919985580355516\n"
     ]
    }
   ],
   "source": [
    "# get the critical value for 0.05 significance level and 2 degrees of freedom\n",
    "critical_value = t.ppf(1-0.05, dof)\n",
    "print('Critical value ', critical_value)"
   ]
  },
  {
   "cell_type": "code",
   "execution_count": 16,
   "metadata": {},
   "outputs": [
    {
     "name": "stdout",
     "output_type": "stream",
     "text": [
      "Reject the null hypothesis\n"
     ]
    }
   ],
   "source": [
    "# check if the chi-square statistic is greater than the critical value\n",
    "if chi2 > critical_value:\n",
    "    print('Reject the null hypothesis')\n",
    "else:\n",
    "    print('Accept the null hypothesis')"
   ]
  },
  {
   "attachments": {},
   "cell_type": "markdown",
   "metadata": {},
   "source": [
    "### we managed to reject the null hypothesis and conclude that customer churn is dependent of customer segements."
   ]
  }
 ],
 "metadata": {
  "kernelspec": {
   "display_name": "base",
   "language": "python",
   "name": "python3"
  },
  "language_info": {
   "codemirror_mode": {
    "name": "ipython",
    "version": 3
   },
   "file_extension": ".py",
   "mimetype": "text/x-python",
   "name": "python",
   "nbconvert_exporter": "python",
   "pygments_lexer": "ipython3",
   "version": "3.8.8"
  },
  "orig_nbformat": 4
 },
 "nbformat": 4,
 "nbformat_minor": 2
}
