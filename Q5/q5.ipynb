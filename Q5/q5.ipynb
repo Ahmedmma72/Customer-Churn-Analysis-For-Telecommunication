{
 "cells": [
  {
   "attachments": {},
   "cell_type": "markdown",
   "metadata": {},
   "source": [
    "### Question: Does the distribution of Internet types follow (70%   20%  10%) for DSL, Cable and Fiber respectively ?"
   ]
  },
  {
   "attachments": {},
   "cell_type": "markdown",
   "metadata": {},
   "source": [
    "#### Expectations:\n",
    " the goal of this question is to provide insights into the distribution of Internet types in a given population or market and to assess whether the expected distribution of 70%, 20%, and 10% for DSL, Cable, and Fiber, respectively, is a reasonable approximation of the actual distribution. This information can be used to inform marketing and product development strategies for specific types of Internet services, and to identify potential areas for improvement in the distribution of Internet types.\n",
    "\n",
    "#### Note: \n",
    "this distribution is not by chance but rather a result of some research that resulted in that DSl internet is the most common as it's affordable then Cable internet then Fiber internet which is the most expensive."
   ]
  },
  {
   "attachments": {},
   "cell_type": "markdown",
   "metadata": {},
   "source": [
    "#### Information about the data:\n",
    "The data is stored in an Excel file named `Telco_customer_churn_service.xlsx`. The file contains 7043 rows. Each row represents a customer, each column contains customer’s attributes described on the column Metadata. The features we are interested in is\n",
    "`Internet Type`: Type of Internet service (DSL, Fiber optic, None)"
   ]
  },
  {
   "attachments": {},
   "cell_type": "markdown",
   "metadata": {},
   "source": [
    "### EDA:"
   ]
  },
  {
   "cell_type": "code",
   "execution_count": 1,
   "metadata": {},
   "outputs": [],
   "source": [
    "# Importing the libraries\n",
    "import numpy as np\n",
    "import matplotlib.pyplot as plt\n",
    "import pandas as pd\n",
    "from sklearn.model_selection import train_test_split\n",
    "import seaborn as sns\n",
    "from scipy.stats import t"
   ]
  },
  {
   "cell_type": "code",
   "execution_count": 11,
   "metadata": {},
   "outputs": [],
   "source": [
    "# read the dataset\n",
    "dataset = pd.read_excel('../Dataset/Telco_customer_churn_services.xlsx')"
   ]
  },
  {
   "cell_type": "code",
   "execution_count": 12,
   "metadata": {},
   "outputs": [
    {
     "data": {
      "text/plain": [
       "Index(['Customer ID', 'Count', 'Quarter', 'Referred a Friend',\n",
       "       'Number of Referrals', 'Tenure in Months', 'Offer', 'Phone Service',\n",
       "       'Avg Monthly Long Distance Charges', 'Multiple Lines',\n",
       "       'Internet Service', 'Internet Type', 'Avg Monthly GB Download',\n",
       "       'Online Security', 'Online Backup', 'Device Protection Plan',\n",
       "       'Premium Tech Support', 'Streaming TV', 'Streaming Movies',\n",
       "       'Streaming Music', 'Unlimited Data', 'Contract', 'Paperless Billing',\n",
       "       'Payment Method', 'Monthly Charge', 'Total Charges', 'Total Refunds',\n",
       "       'Total Extra Data Charges', 'Total Long Distance Charges',\n",
       "       'Total Revenue'],\n",
       "      dtype='object')"
      ]
     },
     "execution_count": 12,
     "metadata": {},
     "output_type": "execute_result"
    }
   ],
   "source": [
    "dataset.columns"
   ]
  },
  {
   "cell_type": "code",
   "execution_count": 13,
   "metadata": {},
   "outputs": [],
   "source": [
    "# taking only the required column which is Internet Type\n",
    "dataset = dataset[['Internet Type']]"
   ]
  },
  {
   "cell_type": "code",
   "execution_count": 14,
   "metadata": {},
   "outputs": [
    {
     "data": {
      "text/plain": [
       "Internet Type    0\n",
       "dtype: int64"
      ]
     },
     "execution_count": 14,
     "metadata": {},
     "output_type": "execute_result"
    }
   ],
   "source": [
    "# checking for null values\n",
    "dataset.isnull().sum()"
   ]
  },
  {
   "cell_type": "code",
   "execution_count": 15,
   "metadata": {},
   "outputs": [
    {
     "data": {
      "text/plain": [
       "Internet Type    object\n",
       "dtype: object"
      ]
     },
     "execution_count": 15,
     "metadata": {},
     "output_type": "execute_result"
    }
   ],
   "source": [
    "dataset.dtypes"
   ]
  },
  {
   "cell_type": "code",
   "execution_count": 17,
   "metadata": {},
   "outputs": [
    {
     "data": {
      "text/plain": [
       "array(['DSL', 'Fiber Optic', 'Cable', 'None'], dtype=object)"
      ]
     },
     "execution_count": 17,
     "metadata": {},
     "output_type": "execute_result"
    }
   ],
   "source": [
    "dataset['Internet Type'].unique()"
   ]
  },
  {
   "cell_type": "code",
   "execution_count": 18,
   "metadata": {},
   "outputs": [],
   "source": [
    "# drop the rows with 'NOne' values\n",
    "dataset = dataset[dataset['Internet Type'] != 'None']"
   ]
  },
  {
   "cell_type": "code",
   "execution_count": 19,
   "metadata": {},
   "outputs": [
    {
     "data": {
      "text/plain": [
       "array(['DSL', 'Fiber Optic', 'Cable'], dtype=object)"
      ]
     },
     "execution_count": 19,
     "metadata": {},
     "output_type": "execute_result"
    }
   ],
   "source": [
    "dataset['Internet Type'].unique()"
   ]
  },
  {
   "cell_type": "code",
   "execution_count": 20,
   "metadata": {},
   "outputs": [
    {
     "data": {
      "text/plain": [
       "<AxesSubplot:xlabel='Internet Type', ylabel='count'>"
      ]
     },
     "execution_count": 20,
     "metadata": {},
     "output_type": "execute_result"
    },
    {
     "data": {
      "image/png": "[encoded data removed]",
      "text/plain": [
       "<Figure size 432x288 with 1 Axes>"
      ]
     },
     "metadata": {
      "needs_background": "light"
     },
     "output_type": "display_data"
    }
   ],
   "source": [
    "# visualize the distribution of Internet Type\n",
    "sns.countplot(x='Internet Type', data=dataset)"
   ]
  },
  {
   "cell_type": "code",
   "execution_count": 21,
   "metadata": {},
   "outputs": [],
   "source": [
    "# separate the Internet Type into 3 categories\n",
    "dsl = dataset[dataset['Internet Type'] == 'DSL']\n",
    "fiber = dataset[dataset['Internet Type'] == 'Fiber Optic']\n",
    "cable = dataset[dataset['Internet Type'] == 'Cable']"
   ]
  },
  {
   "attachments": {},
   "cell_type": "markdown",
   "metadata": {},
   "source": [
    "#### Initial Insights:\n",
    "- The data is clean and has no missing values.\n",
    "- The data has 3 types of internet services: DSL, Fiber optic.\n",
    "- Fiber Optic is the most common internet service type in the company.\n",
    "\n",
    "So the distribution of internet types is not as expected. But we need to do some statistical tests to make sure of that."
   ]
  },
  {
   "attachments": {},
   "cell_type": "markdown",
   "metadata": {},
   "source": [
    "### Model Building:"
   ]
  },
  {
   "attachments": {},
   "cell_type": "markdown",
   "metadata": {},
   "source": [
    "#### Define the Hypothesis:\n",
    "- H0: The distribution of internet types is as expected which is (70%  20%  10%) for (DSL, Cable, Fiber Optic) respectively.\n",
    "- H1: The distribution of internet types is not as expected.\n",
    "\n",
    "#### Statistical Test:\n",
    "- `Chi-Square Goodness Of Fit` Test will be used\n",
    "- significance level `0.05`"
   ]
  },
  {
   "cell_type": "code",
   "execution_count": 22,
   "metadata": {},
   "outputs": [
    {
     "name": "stdout",
     "output_type": "stream",
     "text": [
      "Chi-square statistic:  12510.092622802247\n"
     ]
    }
   ],
   "source": [
    "# calculate observed frequencies for each Internet Type\n",
    "observed = np.array([len(dsl), len(cable), len(fiber)])\n",
    "\n",
    "# calculate the expected frequencies for each Internet Type\n",
    "expected = np.array([len(dataset) * 0.7, len(dataset) * 0.2, len(dataset) * 0.1])\n",
    "\n",
    "# calculate the chi-square statistic\n",
    "chi_square = np.sum(np.square(observed - expected) / expected)\n",
    "\n",
    "print('Chi-square statistic: ', chi_square)"
   ]
  },
  {
   "cell_type": "code",
   "execution_count": 25,
   "metadata": {},
   "outputs": [
    {
     "name": "stdout",
     "output_type": "stream",
     "text": [
      "Critical value:  2.919985580355516\n"
     ]
    }
   ],
   "source": [
    "# calculate degree of freedom\n",
    "df = len(observed) - 1\n",
    "\n",
    "# calculate the critical value\n",
    "critical_value = t.ppf(0.95, df)\n",
    "\n",
    "print('Critical value: ', critical_value)"
   ]
  },
  {
   "cell_type": "code",
   "execution_count": 26,
   "metadata": {},
   "outputs": [
    {
     "name": "stdout",
     "output_type": "stream",
     "text": [
      "Reject the null hypothesis\n"
     ]
    }
   ],
   "source": [
    "# check if the chi-square statistic is greater than the critical value\n",
    "if chi_square > critical_value:\n",
    "    print('Reject the null hypothesis')\n",
    "else:\n",
    "    print('Accept the null hypothesis')"
   ]
  },
  {
   "attachments": {},
   "cell_type": "markdown",
   "metadata": {},
   "source": [
    "### we managed to reject the null hypothesis and conclude that the Internet Type significantly doesn't follow the distribution of (70% 20% 10%) for (DSL, Cable, Fiber Optic) respectively."
   ]
  }
 ],
 "metadata": {
  "kernelspec": {
   "display_name": "base",
   "language": "python",
   "name": "python3"
  },
  "language_info": {
   "codemirror_mode": {
    "name": "ipython",
    "version": 3
   },
   "file_extension": ".py",
   "mimetype": "text/x-python",
   "name": "python",
   "nbconvert_exporter": "python",
   "pygments_lexer": "ipython3",
   "version": "3.8.8"
  },
  "orig_nbformat": 4
 },
 "nbformat": 4,
 "nbformat_minor": 2
}
