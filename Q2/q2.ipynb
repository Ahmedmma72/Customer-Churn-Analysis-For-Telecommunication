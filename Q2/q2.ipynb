{
 "cells": [
  {
   "cell_type": "code",
   "execution_count": 1,
   "metadata": {},
   "outputs": [],
   "source": [
    "# Importing the libraries\n",
    "import numpy as np\n",
    "import matplotlib.pyplot as plt\n",
    "import pandas as pd\n",
    "from sklearn.model_selection import train_test_split\n",
    "import seaborn as sns"
   ]
  },
  {
   "cell_type": "code",
   "execution_count": 2,
   "metadata": {},
   "outputs": [],
   "source": [
    "# read the dataset\n",
    "dataset = pd.read_excel('../../DataSet/Telco_customer_churn.xlsx')"
   ]
  },
  {
   "cell_type": "code",
   "execution_count": 3,
   "metadata": {},
   "outputs": [
    {
     "data": {
      "text/plain": [
       "Index(['CustomerID', 'Count', 'Country', 'State', 'City', 'Zip Code',\n",
       "       'Lat Long', 'Latitude', 'Longitude', 'Gender', 'Senior Citizen',\n",
       "       'Partner', 'Dependents', 'Tenure Months', 'Phone Service',\n",
       "       'Multiple Lines', 'Internet Service', 'Online Security',\n",
       "       'Online Backup', 'Device Protection', 'Tech Support', 'Streaming TV',\n",
       "       'Streaming Movies', 'Contract', 'Paperless Billing', 'Payment Method',\n",
       "       'Monthly Charges', 'Total Charges', 'Churn Label', 'Churn Value',\n",
       "       'Churn Score', 'CLTV', 'Churn Reason'],\n",
       "      dtype='object')"
      ]
     },
     "execution_count": 3,
     "metadata": {},
     "output_type": "execute_result"
    }
   ],
   "source": [
    "dataset.columns"
   ]
  },
  {
   "attachments": {},
   "cell_type": "markdown",
   "metadata": {},
   "source": [
    "## Clean and Prepare the data"
   ]
  },
  {
   "cell_type": "code",
   "execution_count": 4,
   "metadata": {},
   "outputs": [],
   "source": [
    "# taking only the required columns which are Contract and Churn Value\n",
    "dataset = dataset[['Contract','Churn Value']]"
   ]
  },
  {
   "cell_type": "code",
   "execution_count": 5,
   "metadata": {},
   "outputs": [
    {
     "data": {
      "text/plain": [
       "Contract       0\n",
       "Churn Value    0\n",
       "dtype: int64"
      ]
     },
     "execution_count": 5,
     "metadata": {},
     "output_type": "execute_result"
    }
   ],
   "source": [
    "# checking for null values\n",
    "dataset.isnull().sum()"
   ]
  },
  {
   "cell_type": "code",
   "execution_count": 6,
   "metadata": {},
   "outputs": [
    {
     "data": {
      "text/plain": [
       "Contract       object\n",
       "Churn Value     int64\n",
       "dtype: object"
      ]
     },
     "execution_count": 6,
     "metadata": {},
     "output_type": "execute_result"
    }
   ],
   "source": [
    "dataset.dtypes"
   ]
  },
  {
   "attachments": {},
   "cell_type": "markdown",
   "metadata": {},
   "source": [
    "## Taking a sample"
   ]
  },
  {
   "cell_type": "code",
   "execution_count": 14,
   "metadata": {},
   "outputs": [
    {
     "name": "stdout",
     "output_type": "stream",
     "text": [
      "         Contract  Churn Value  percentage\n",
      "0  Month-to-month            0   57.692308\n",
      "1  Month-to-month            1   42.307692\n",
      "2        One year            0   82.608696\n",
      "3        One year            1   17.391304\n",
      "4        Two year            0   92.000000\n",
      "5        Two year            1    8.000000\n"
     ]
    },
    {
     "data": {
      "text/plain": [
       "<AxesSubplot:xlabel='Contract', ylabel='percentage'>"
      ]
     },
     "execution_count": 14,
     "metadata": {},
     "output_type": "execute_result"
    },
    {
     "data": {
      "image/png": "[encoded data removed]",
      "text/plain": [
       "<Figure size 432x288 with 1 Axes>"
      ]
     },
     "metadata": {
      "needs_background": "light"
     },
     "output_type": "display_data"
    }
   ],
   "source": [
    "# let's take a random sample of 100 records\n",
    "dataset = dataset.sample(n=100, random_state=0)\n",
    "\n",
    "# calculate the proportion of churn value for each contract type\n",
    "contract_churn = dataset.groupby(['Contract'])['Churn Value'].value_counts(normalize=True).rename('percentage').mul(100).reset_index()\n",
    "\n",
    "# print the proportion of churn value for each contract type\n",
    "print(contract_churn)\n",
    "\n",
    "# plot the proportion of churn value for each contract type\n",
    "sns.barplot(x=\"Contract\", y=\"percentage\", hue=\"Churn Value\", data=contract_churn)\n",
    "\n"
   ]
  },
  {
   "attachments": {},
   "cell_type": "markdown",
   "metadata": {},
   "source": [
    "### given that the proportion of churned customers for the contract type Month-to-Month is significantly higher than the other two contract types, Are customers with Month-to-Month contracts more likely to churn than customers with other contract types?"
   ]
  },
  {
   "cell_type": "code",
   "execution_count": 15,
   "metadata": {},
   "outputs": [
    {
     "data": {
      "text/plain": [
       "<AxesSubplot:xlabel='Contract', ylabel='count'>"
      ]
     },
     "execution_count": 15,
     "metadata": {},
     "output_type": "execute_result"
    },
    {
     "data": {
      "image/png": "[encoded data removed]",
      "text/plain": [
       "<Figure size 432x288 with 1 Axes>"
      ]
     },
     "metadata": {
      "needs_background": "light"
     },
     "output_type": "display_data"
    }
   ],
   "source": [
    "# visualizing the distribution of all contract types vs churn value\n",
    "sns.countplot(x='Contract', hue='Churn Value', data=dataset)"
   ]
  },
  {
   "attachments": {},
   "cell_type": "markdown",
   "metadata": {},
   "source": [
    "### Obviously customers with Month-to-Month contracts have the highest churn rate so we expect that after doing some analysis we will be able to reach this fact again without having the whole dataset (population)."
   ]
  },
  {
   "cell_type": "code",
   "execution_count": 16,
   "metadata": {},
   "outputs": [],
   "source": [
    "# take a stratified sample of the dataset\n",
    "sample_size = 100\n",
    "stratified_sample = dataset.groupby('Contract', group_keys=False).apply(lambda x: x.sample(int(len(x) * sample_size/len(dataset))))"
   ]
  },
  {
   "cell_type": "code",
   "execution_count": 17,
   "metadata": {},
   "outputs": [
    {
     "data": {
      "text/plain": [
       "Month-to-month    52\n",
       "Two year          25\n",
       "One year          23\n",
       "Name: Contract, dtype: int64"
      ]
     },
     "execution_count": 17,
     "metadata": {},
     "output_type": "execute_result"
    }
   ],
   "source": [
    "stratified_sample['Contract'].value_counts()"
   ]
  },
  {
   "cell_type": "code",
   "execution_count": 18,
   "metadata": {},
   "outputs": [],
   "source": [
    "month_group = stratified_sample[stratified_sample['Contract'] == 'Month-to-month']\n",
    "one_year_group = stratified_sample[stratified_sample['Contract'] == 'One year']\n",
    "two_year_group = stratified_sample[stratified_sample['Contract'] == 'Two year']"
   ]
  },
  {
   "attachments": {},
   "cell_type": "markdown",
   "metadata": {},
   "source": [
    "### We will answer the question on two similar steps:\n",
    "\n",
    "**1. first infer that the proportion of churned customers for the contract type Month-to-Month is significantly higher than that of customers with contract type One year.**\n",
    "\n",
    "**2. second infer that the proportion of churned customers for the contract type Month-to-Month is significantly higher than that of customers with contract type Two year.**\n",
    "\n",
    "**3. either conclude that the churn rate of customers with Month-to-Month contracts is significantly higher than that of customers with other contract types or not.**"
   ]
  },
  {
   "attachments": {},
   "cell_type": "markdown",
   "metadata": {},
   "source": [
    "## Defining the Hypothesises for step 1:\n",
    "**1. Customers with contracts of type Month-to-Month more likely to churn than those with contract type One year**\n",
    "\n",
    "**2. Null Hypothesis H0: customers with contracts of type Month-to-Month have churn rate less than or equal to those with contracts one year**\n",
    "\n",
    "**3. Alternative Hypothesis H1: customers with contracts of type Month-to-Month have churn rate larger than those with contracts one year**"
   ]
  }
 ],
 "metadata": {
  "kernelspec": {
   "display_name": "base",
   "language": "python",
   "name": "python3"
  },
  "language_info": {
   "codemirror_mode": {
    "name": "ipython",
    "version": 3
   },
   "file_extension": ".py",
   "mimetype": "text/x-python",
   "name": "python",
   "nbconvert_exporter": "python",
   "pygments_lexer": "ipython3",
   "version": "3.9.6"
  },
  "orig_nbformat": 4
 },
 "nbformat": 4,
 "nbformat_minor": 2
}
