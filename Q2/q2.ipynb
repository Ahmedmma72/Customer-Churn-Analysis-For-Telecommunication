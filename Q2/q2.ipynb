{
 "cells": [
  {
   "attachments": {},
   "cell_type": "markdown",
   "metadata": {},
   "source": [
    "#### Question: Are customers with contracts of the type Month-to-Month more likely to churn? (ie. the churn proportion is higher for customers with Month-to-Month contracts by more than 10% than the other contract types)"
   ]
  },
  {
   "attachments": {},
   "cell_type": "markdown",
   "metadata": {},
   "source": [
    "##### Expectations:\n",
    "Answering this question can  provide insights into the impact of contract type on customer retention. By comparing the churn proportions of customers with Month-to-Month contracts to those with other contract types, we can determine if there is a significant difference in churn rates and understand the factors contributing to customer churn.\n",
    "\n",
    "If the analysis shows that customers with Month-to-Month contracts are more likely to churn than those with other contract types by more than 10%, this would suggest that the company may need to revisit their contract terms and offer more flexible options or incentives to retain these customers."
   ]
  },
  {
   "attachments": {},
   "cell_type": "markdown",
   "metadata": {},
   "source": [
    "##### Information about the data:\n",
    "The data is stored in an Excel file named `Telco_customer_churn.xlsx`. The file contains 7043 rows. Each row represents a customer, each column contains customer’s attributes described on the column Metadata. The features we are interested in are:\n",
    "- `Contract`: Type of contract (Month-to-month, One year, Two year)\n",
    "- `Churn Value`: Whether the customer churned or not (1 for yes and 0 for no)"
   ]
  },
  {
   "attachments": {},
   "cell_type": "markdown",
   "metadata": {},
   "source": [
    "#### EDA:"
   ]
  },
  {
   "cell_type": "code",
   "execution_count": 3,
   "metadata": {},
   "outputs": [],
   "source": [
    "# Importing the libraries\n",
    "import numpy as np\n",
    "import matplotlib.pyplot as plt\n",
    "import pandas as pd\n",
    "from sklearn.model_selection import train_test_split\n",
    "import seaborn as sns\n",
    "from scipy.stats import t"
   ]
  },
  {
   "cell_type": "code",
   "execution_count": 4,
   "metadata": {},
   "outputs": [],
   "source": [
    "# read the dataset\n",
    "dataset = pd.read_excel('../Dataset/Telco_customer_churn.xlsx')"
   ]
  },
  {
   "cell_type": "code",
   "execution_count": 5,
   "metadata": {},
   "outputs": [
    {
     "data": {
      "text/plain": [
       "Index(['CustomerID', 'Count', 'Country', 'State', 'City', 'Zip Code',\n",
       "       'Lat Long', 'Latitude', 'Longitude', 'Gender', 'Senior Citizen',\n",
       "       'Partner', 'Dependents', 'Tenure Months', 'Phone Service',\n",
       "       'Multiple Lines', 'Internet Service', 'Online Security',\n",
       "       'Online Backup', 'Device Protection', 'Tech Support', 'Streaming TV',\n",
       "       'Streaming Movies', 'Contract', 'Paperless Billing', 'Payment Method',\n",
       "       'Monthly Charges', 'Total Charges', 'Churn Label', 'Churn Value',\n",
       "       'Churn Score', 'CLTV', 'Churn Reason'],\n",
       "      dtype='object')"
      ]
     },
     "execution_count": 5,
     "metadata": {},
     "output_type": "execute_result"
    }
   ],
   "source": [
    "dataset.columns"
   ]
  },
  {
   "cell_type": "code",
   "execution_count": 6,
   "metadata": {},
   "outputs": [],
   "source": [
    "# taking only the required columns which are Contract and Churn Value\n",
    "dataset = dataset[['Contract','Churn Value']]"
   ]
  },
  {
   "cell_type": "code",
   "execution_count": 7,
   "metadata": {},
   "outputs": [
    {
     "data": {
      "text/plain": [
       "Contract       0\n",
       "Churn Value    0\n",
       "dtype: int64"
      ]
     },
     "execution_count": 7,
     "metadata": {},
     "output_type": "execute_result"
    }
   ],
   "source": [
    "# checking for null values\n",
    "dataset.isnull().sum()"
   ]
  },
  {
   "cell_type": "code",
   "execution_count": 8,
   "metadata": {},
   "outputs": [
    {
     "data": {
      "text/plain": [
       "Contract       object\n",
       "Churn Value     int64\n",
       "dtype: object"
      ]
     },
     "execution_count": 8,
     "metadata": {},
     "output_type": "execute_result"
    }
   ],
   "source": [
    "dataset.dtypes"
   ]
  },
  {
   "cell_type": "code",
   "execution_count": 9,
   "metadata": {},
   "outputs": [
    {
     "data": {
      "image/png": "[encoded data removed]",
      "text/plain": [
       "<Figure size 432x288 with 1 Axes>"
      ]
     },
     "metadata": {
      "needs_background": "light"
     },
     "output_type": "display_data"
    },
    {
     "data": {
      "image/png": "[encoded data removed]",
      "text/plain": [
       "<Figure size 432x288 with 1 Axes>"
      ]
     },
     "metadata": {
      "needs_background": "light"
     },
     "output_type": "display_data"
    }
   ],
   "source": [
    "# visualize the distribution of the contract types\n",
    "sns.countplot(x='Contract', data=dataset)\n",
    "\n",
    "plt.show()\n",
    "\n",
    "# visualize the distribution of the churn values\n",
    "sns.countplot(x='Churn Value', data=dataset)\n",
    "\n",
    "plt.show()"
   ]
  },
  {
   "cell_type": "code",
   "execution_count": 10,
   "metadata": {},
   "outputs": [
    {
     "name": "stdout",
     "output_type": "stream",
     "text": [
      "         Contract  Churn Value  percentage\n",
      "0  Month-to-month            0   57.290323\n",
      "1  Month-to-month            1   42.709677\n",
      "2        One year            0   88.730482\n",
      "3        One year            1   11.269518\n",
      "4        Two year            0   97.168142\n",
      "5        Two year            1    2.831858\n"
     ]
    },
    {
     "data": {
      "text/plain": [
       "<AxesSubplot:xlabel='Contract', ylabel='percentage'>"
      ]
     },
     "execution_count": 10,
     "metadata": {},
     "output_type": "execute_result"
    },
    {
     "data": {
      "image/png": "[encoded data removed]",
      "text/plain": [
       "<Figure size 432x288 with 1 Axes>"
      ]
     },
     "metadata": {
      "needs_background": "light"
     },
     "output_type": "display_data"
    }
   ],
   "source": [
    "# calculate the proportion of churn value for each contract type\n",
    "contract_churn = dataset.groupby(['Contract'])['Churn Value'].value_counts(normalize=True).rename('percentage').mul(100).reset_index()\n",
    "\n",
    "# print the proportion of churn value for each contract type\n",
    "print(contract_churn)\n",
    "\n",
    "# plot the proportion of churn value for each contract type\n",
    "sns.barplot(x=\"Contract\", y=\"percentage\", hue=\"Churn Value\", data=contract_churn)\n",
    "\n"
   ]
  },
  {
   "cell_type": "code",
   "execution_count": 11,
   "metadata": {},
   "outputs": [
    {
     "data": {
      "text/plain": [
       "<AxesSubplot:xlabel='Contract', ylabel='count'>"
      ]
     },
     "execution_count": 11,
     "metadata": {},
     "output_type": "execute_result"
    },
    {
     "data": {
      "image/png": "[encoded data removed]",
      "text/plain": [
       "<Figure size 432x288 with 1 Axes>"
      ]
     },
     "metadata": {
      "needs_background": "light"
     },
     "output_type": "display_data"
    }
   ],
   "source": [
    "# visualizing the distribution of all contract types vs churn value\n",
    "sns.countplot(x='Contract', hue='Churn Value', data=dataset)"
   ]
  },
  {
   "cell_type": "code",
   "execution_count": 12,
   "metadata": {},
   "outputs": [
    {
     "name": "stdout",
     "output_type": "stream",
     "text": [
      "         Contract  Churn Value  percentage\n",
      "0  Month-to-month            0   57.290323\n",
      "1  Month-to-month            1   42.709677\n",
      "   Contract  Churn Value  percentage\n",
      "0  One year            0   88.730482\n",
      "1  One year            1   11.269518\n",
      "   Contract  Churn Value  percentage\n",
      "0  Two year            0   97.168142\n",
      "1  Two year            1    2.831858\n"
     ]
    }
   ],
   "source": [
    "# separate each category of contract type with its churn value\n",
    "month_to_month = dataset[dataset['Contract'] == 'Month-to-month']\n",
    "one_year = dataset[dataset['Contract'] == 'One year']\n",
    "two_year = dataset[dataset['Contract'] == 'Two year']\n",
    "\n",
    "# calculate the proportion of churn value for each contract type\n",
    "month_to_month_churn = month_to_month.groupby(['Contract'])['Churn Value'].value_counts(\n",
    "    normalize=True).rename('percentage').mul(100).reset_index()\n",
    "one_year_churn = one_year.groupby(['Contract'])['Churn Value'].value_counts(\n",
    "    normalize=True).rename('percentage').mul(100).reset_index()\n",
    "two_year_churn = two_year.groupby(['Contract'])['Churn Value'].value_counts(\n",
    "    normalize=True).rename('percentage').mul(100).reset_index()\n",
    "\n",
    "# print the proportion of churn value for each contract type\n",
    "print(month_to_month_churn)\n",
    "print(one_year_churn)\n",
    "print(two_year_churn)"
   ]
  },
  {
   "attachments": {},
   "cell_type": "markdown",
   "metadata": {},
   "source": [
    "##### Initial observations:\n",
    "It is clear that customers with contract type month-to-month have higher churn proportion compared to other contract types. However, we need to perform statistical analysis to determine if this difference is significant."
   ]
  },
  {
   "attachments": {},
   "cell_type": "markdown",
   "metadata": {},
   "source": [
    "#### Model building:"
   ]
  },
  {
   "attachments": {},
   "cell_type": "markdown",
   "metadata": {},
   "source": [
    "##### We will answer the question on two similar steps:\n",
    "\n",
    "1. first infer that the proportion of churned customers for the contract type Month-to-Month is significantly higher `(more than 10%)` than that of customers with contract type One year.\n",
    "\n",
    "2. second infer that the proportion of churned customers for the contract type Month-to-Month is significantly higher `(more than 10%)` than that of customers with contract type Two year.\n",
    "\n",
    "3. either conclude that the churn rate of customers with Month-to-Month contracts is significantly higher than that of customers with other contract types or not."
   ]
  },
  {
   "attachments": {},
   "cell_type": "markdown",
   "metadata": {},
   "source": [
    "##### Defining the Hypothesises for step 1:\n",
    "**1. Customers with contracts of type Month-to-Month more likely to churn than those with contract type One year**\n",
    "u1: proportion of churned customers with contract type Month-to-Month\n",
    "u2: proportion of churned customers with contract type One year\n",
    "\n",
    "**2. Null Hypothesis H0: the u1-u2 <= 10%**\n",
    "\n",
    "**3. Alternative Hypothesis H1: the u1-u2 > 10%**\n",
    "\n",
    "our significance level is 0.05"
   ]
  },
  {
   "cell_type": "code",
   "execution_count": 13,
   "metadata": {},
   "outputs": [
    {
     "name": "stdout",
     "output_type": "stream",
     "text": [
      "Reject the null hypothesis\n"
     ]
    }
   ],
   "source": [
    "# calc mean of month-to-month churn value and one year churn value\n",
    "month_to_month_mean = month_to_month['Churn Value'].mean()\n",
    "one_year_mean = one_year['Churn Value'].mean()\n",
    "\n",
    "# desired difference between the means\n",
    "diff = 0.1\n",
    "\n",
    "# calculate the variance of month-to-month churn value and one year churn value\n",
    "month_to_month_var = month_to_month['Churn Value'].var()\n",
    "one_year_var = one_year['Churn Value'].var()\n",
    "\n",
    "# calculate the sample size\n",
    "n_month_to_month = len(month_to_month)\n",
    "n_one_year = len(one_year)\n",
    "\n",
    "# calculate the t statistic\n",
    "t_statistic = (month_to_month_mean - one_year_mean - diff) / np.sqrt((month_to_month_var / n_month_to_month) + (one_year_var / n_one_year))\n",
    "\n",
    "# degrees of freedom\n",
    "df = (month_to_month_var / n_month_to_month + one_year_var / n_one_year) ** 2 / (\n",
    "            ((month_to_month_var / n_month_to_month) ** 2 / (n_month_to_month - 1)) + ((\n",
    "                one_year_var / n_one_year) ** 2 / (n_one_year - 1)))\n",
    "\n",
    "# calculate the critical value\n",
    "cv = t.ppf(1.0 - 0.05, df)\n",
    "\n",
    "# compare t statistic with critical value\n",
    "if t_statistic < cv:\n",
    "    print('Retain null hypothesis.')\n",
    "else:\n",
    "    print('Reject the null hypothesis')"
   ]
  },
  {
   "attachments": {},
   "cell_type": "markdown",
   "metadata": {},
   "source": [
    "### we managed to reject the null hypothesis and conclude that the churn rate of customers with Month-to-Month contracts is significantly higher `()` than that of customers with One year contracts."
   ]
  },
  {
   "attachments": {},
   "cell_type": "markdown",
   "metadata": {},
   "source": [
    "##### Defining the Hypothesises for step 2:\n",
    "**1. Customers with contracts of type Month-to-Month more likely to churn than those with contract type Two year**\n",
    "u1: proportion of churned customers with contract type Month-to-Month\n",
    "u2: proportion of churned customers with contract type Two year\n",
    "\n",
    "**2. Null Hypothesis H0: the u1-u2 <= 10%**\n",
    "\n",
    "**3. Alternative Hypothesis H1: the u1-u2 > 10%**\n",
    "\n",
    "our significance level is 0.05"
   ]
  },
  {
   "cell_type": "code",
   "execution_count": 14,
   "metadata": {},
   "outputs": [
    {
     "name": "stdout",
     "output_type": "stream",
     "text": [
      "Reject the null hypothesis\n"
     ]
    }
   ],
   "source": [
    "# calc mean of month-to-month churn value and two year churn value\n",
    "two_year_mean = two_year['Churn Value'].mean()\n",
    "\n",
    "# calculate the variance of two year churn value\n",
    "two_year_var = two_year['Churn Value'].var()\n",
    "\n",
    "# calculate the sample size\n",
    "n_two_year = len(two_year)\n",
    "\n",
    "# calculate the t statistic\n",
    "t_statistic = (month_to_month_mean - two_year_mean - diff) / np.sqrt((month_to_month_var / n_month_to_month) + (two_year_var / n_two_year))\n",
    "\n",
    "# degrees of freedom\n",
    "df = (month_to_month_var / n_month_to_month + two_year_var / n_two_year) ** 2 / (\n",
    "            ((month_to_month_var / n_month_to_month) ** 2 / (n_month_to_month - 1)) + \n",
    "            ((two_year_var / n_two_year) ** 2 / (n_two_year - 1)) )\n",
    "\n",
    "# calculate the critical value\n",
    "cv = t.ppf(1.0 - 0.05, df)\n",
    "\n",
    "# compare t statistic with critical value\n",
    "if t_statistic < cv:\n",
    "    print('Retain null hypothesis.')\n",
    "else:\n",
    "    print('Reject the null hypothesis')"
   ]
  },
  {
   "attachments": {},
   "cell_type": "markdown",
   "metadata": {},
   "source": [
    "### we managed to reject the null hypothesis and conclude that the churn rate of customers with Month-to-Month contracts is significantly higher `()` than that of customers with Two year contracts."
   ]
  }
 ],
 "metadata": {
  "kernelspec": {
   "display_name": "base",
   "language": "python",
   "name": "python3"
  },
  "language_info": {
   "codemirror_mode": {
    "name": "ipython",
    "version": 3
   },
   "file_extension": ".py",
   "mimetype": "text/x-python",
   "name": "python",
   "nbconvert_exporter": "python",
   "pygments_lexer": "ipython3",
   "version": "3.8.8"
  },
  "orig_nbformat": 4
 },
 "nbformat": 4,
 "nbformat_minor": 2
}
