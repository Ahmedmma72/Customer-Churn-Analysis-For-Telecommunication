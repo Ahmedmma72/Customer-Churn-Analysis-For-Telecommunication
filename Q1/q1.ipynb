{
 "cells": [
  {
   "cell_type": "code",
   "execution_count": 32,
   "metadata": {},
   "outputs": [],
   "source": [
    "# Importing the libraries\n",
    "import numpy as np\n",
    "import matplotlib.pyplot as plt\n",
    "import pandas as pd\n",
    "from sklearn.model_selection import train_test_split\n"
   ]
  },
  {
   "cell_type": "code",
   "execution_count": 38,
   "metadata": {},
   "outputs": [],
   "source": [
    "# Load the data from /Dataset/Telco_customer_churn_demographics.xlsx\n",
    "dataset1 = pd.read_excel('../Dataset/Telco_customer_churn_demographics.xlsx')"
   ]
  },
  {
   "cell_type": "code",
   "execution_count": 39,
   "metadata": {},
   "outputs": [],
   "source": [
    "# we need to get a column from another excel file and join it with the dataset\n",
    "\n",
    "# Load the data from /Dataset/Telco_customer_churn.xlsx\n",
    "dataset2 = pd.read_excel('../Dataset/Telco_customer_churn.xlsx')"
   ]
  },
  {
   "cell_type": "code",
   "execution_count": 42,
   "metadata": {},
   "outputs": [],
   "source": [
    "# rename the column to match the column name in the dataset\n",
    "dataset2.rename(columns={'CustomerID':'Customer ID'}, inplace=True)"
   ]
  },
  {
   "cell_type": "code",
   "execution_count": 43,
   "metadata": {},
   "outputs": [],
   "source": [
    "# Join the two datasets on the column 'Customer ID'\n",
    "dataset = pd.merge(dataset1, dataset2, on='Customer ID')"
   ]
  },
  {
   "cell_type": "code",
   "execution_count": 44,
   "metadata": {},
   "outputs": [
    {
     "data": {
      "text/plain": [
       "Customer ID                0\n",
       "Count_x                    0\n",
       "Gender_x                   0\n",
       "Age                        0\n",
       "Under 30                   0\n",
       "Senior Citizen_x           0\n",
       "Married                    0\n",
       "Dependents_x               0\n",
       "Number of Dependents       0\n",
       "Count_y                    0\n",
       "Country                    0\n",
       "State                      0\n",
       "City                       0\n",
       "Zip Code                   0\n",
       "Lat Long                   0\n",
       "Latitude                   0\n",
       "Longitude                  0\n",
       "Gender_y                   0\n",
       "Senior Citizen_y           0\n",
       "Partner                    0\n",
       "Dependents_y               0\n",
       "Tenure Months              0\n",
       "Phone Service              0\n",
       "Multiple Lines             0\n",
       "Internet Service           0\n",
       "Online Security            0\n",
       "Online Backup              0\n",
       "Device Protection          0\n",
       "Tech Support               0\n",
       "Streaming TV               0\n",
       "Streaming Movies           0\n",
       "Contract                   0\n",
       "Paperless Billing          0\n",
       "Payment Method             0\n",
       "Monthly Charges            0\n",
       "Total Charges              0\n",
       "Churn Label                0\n",
       "Churn Value                0\n",
       "Churn Score                0\n",
       "CLTV                       0\n",
       "Churn Reason            5174\n",
       "dtype: int64"
      ]
     },
     "execution_count": 44,
     "metadata": {},
     "output_type": "execute_result"
    }
   ],
   "source": [
    "# Check for any missing values\n",
    "dataset.isnull().sum()"
   ]
  },
  {
   "cell_type": "code",
   "execution_count": 48,
   "metadata": {},
   "outputs": [
    {
     "data": {
      "text/plain": [
       "0"
      ]
     },
     "execution_count": 48,
     "metadata": {},
     "output_type": "execute_result"
    }
   ],
   "source": [
    "# make sure that the merge happened successfully by comparing Gender_x and Gender_y columns to be the same\n",
    "difference = dataset['Gender_x'] != dataset['Gender_y']\n",
    "difference.sum()"
   ]
  },
  {
   "cell_type": "code",
   "execution_count": 49,
   "metadata": {},
   "outputs": [
    {
     "data": {
      "text/plain": [
       "Customer ID              object\n",
       "Count_x                   int64\n",
       "Gender_x                 object\n",
       "Age                       int64\n",
       "Under 30                 object\n",
       "Senior Citizen_x         object\n",
       "Married                  object\n",
       "Dependents_x             object\n",
       "Number of Dependents      int64\n",
       "Count_y                   int64\n",
       "Country                  object\n",
       "State                    object\n",
       "City                     object\n",
       "Zip Code                  int64\n",
       "Lat Long                 object\n",
       "Latitude                float64\n",
       "Longitude               float64\n",
       "Gender_y                 object\n",
       "Senior Citizen_y         object\n",
       "Partner                  object\n",
       "Dependents_y             object\n",
       "Tenure Months             int64\n",
       "Phone Service            object\n",
       "Multiple Lines           object\n",
       "Internet Service         object\n",
       "Online Security          object\n",
       "Online Backup            object\n",
       "Device Protection        object\n",
       "Tech Support             object\n",
       "Streaming TV             object\n",
       "Streaming Movies         object\n",
       "Contract                 object\n",
       "Paperless Billing        object\n",
       "Payment Method           object\n",
       "Monthly Charges         float64\n",
       "Total Charges            object\n",
       "Churn Label              object\n",
       "Churn Value               int64\n",
       "Churn Score               int64\n",
       "CLTV                      int64\n",
       "Churn Reason             object\n",
       "dtype: object"
      ]
     },
     "execution_count": 49,
     "metadata": {},
     "output_type": "execute_result"
    }
   ],
   "source": [
    "# check the data types of the columns\n",
    "dataset.dtypes"
   ]
  },
  {
   "cell_type": "code",
   "execution_count": 50,
   "metadata": {},
   "outputs": [],
   "source": [
    "# drop useless columns\n",
    "\n",
    "my_columns = ['Gender_x', 'Age', 'Married',\n",
    "              'Number of Dependents', 'Churn Value']\n",
    "\n",
    "dataset = dataset[my_columns]"
   ]
  },
  {
   "cell_type": "code",
   "execution_count": 51,
   "metadata": {},
   "outputs": [
    {
     "data": {
      "text/plain": [
       "Age                     int64\n",
       "Number of Dependents    int64\n",
       "Churn Value             int64\n",
       "Gender_x_Female         uint8\n",
       "Gender_x_Male           uint8\n",
       "Married_No              uint8\n",
       "Married_Yes             uint8\n",
       "dtype: object"
      ]
     },
     "execution_count": 51,
     "metadata": {},
     "output_type": "execute_result"
    }
   ],
   "source": [
    "# turn the categorical variables into dummy variables\n",
    "dataset = pd.get_dummies(dataset)\n",
    "\n",
    "# check the data types of the columns\n",
    "dataset.dtypes"
   ]
  },
  {
   "cell_type": "code",
   "execution_count": 53,
   "metadata": {},
   "outputs": [
    {
     "data": {
      "text/plain": [
       "Age                     int64\n",
       "Number of Dependents    int64\n",
       "Churn Value             int64\n",
       "Gender                  uint8\n",
       "Married                 uint8\n",
       "dtype: object"
      ]
     },
     "execution_count": 53,
     "metadata": {},
     "output_type": "execute_result"
    }
   ],
   "source": [
    "# drop the newly created dummy variables that are not required\n",
    "if 'Gender_x_Female' in dataset.columns:\n",
    "    dataset = dataset.drop(\n",
    "        ['Gender_x_Female', 'Married_No'], axis=1)\n",
    "\n",
    "\n",
    "# rename the columns to remove the _Yes suffix\n",
    "dataset.rename(columns={'Gender_x_Male': 'Gender',\n",
    "               'Married_Yes': 'Married'}, inplace=True)\n",
    "\n",
    "# check the data types of the columns\n",
    "dataset.dtypes    "
   ]
  },
  {
   "attachments": {},
   "cell_type": "markdown",
   "metadata": {},
   "source": [
    "##### Gender = 1 then male if 0 then female "
   ]
  },
  {
   "cell_type": "code",
   "execution_count": 54,
   "metadata": {},
   "outputs": [
    {
     "data": {
      "text/html": [
       "<div>\n",
       "<style scoped>\n",
       "    .dataframe tbody tr th:only-of-type {\n",
       "        vertical-align: middle;\n",
       "    }\n",
       "\n",
       "    .dataframe tbody tr th {\n",
       "        vertical-align: top;\n",
       "    }\n",
       "\n",
       "    .dataframe thead th {\n",
       "        text-align: right;\n",
       "    }\n",
       "</style>\n",
       "<table border=\"1\" class=\"dataframe\">\n",
       "  <thead>\n",
       "    <tr style=\"text-align: right;\">\n",
       "      <th></th>\n",
       "      <th>Age</th>\n",
       "      <th>Number of Dependents</th>\n",
       "      <th>Churn Value</th>\n",
       "      <th>Gender</th>\n",
       "      <th>Married</th>\n",
       "    </tr>\n",
       "  </thead>\n",
       "  <tbody>\n",
       "    <tr>\n",
       "      <th>0</th>\n",
       "      <td>78</td>\n",
       "      <td>0</td>\n",
       "      <td>1</td>\n",
       "      <td>1</td>\n",
       "      <td>0</td>\n",
       "    </tr>\n",
       "    <tr>\n",
       "      <th>1</th>\n",
       "      <td>74</td>\n",
       "      <td>1</td>\n",
       "      <td>1</td>\n",
       "      <td>0</td>\n",
       "      <td>1</td>\n",
       "    </tr>\n",
       "    <tr>\n",
       "      <th>2</th>\n",
       "      <td>71</td>\n",
       "      <td>3</td>\n",
       "      <td>1</td>\n",
       "      <td>1</td>\n",
       "      <td>0</td>\n",
       "    </tr>\n",
       "    <tr>\n",
       "      <th>3</th>\n",
       "      <td>78</td>\n",
       "      <td>1</td>\n",
       "      <td>1</td>\n",
       "      <td>0</td>\n",
       "      <td>1</td>\n",
       "    </tr>\n",
       "    <tr>\n",
       "      <th>4</th>\n",
       "      <td>80</td>\n",
       "      <td>1</td>\n",
       "      <td>1</td>\n",
       "      <td>0</td>\n",
       "      <td>1</td>\n",
       "    </tr>\n",
       "  </tbody>\n",
       "</table>\n",
       "</div>"
      ],
      "text/plain": [
       "   Age  Number of Dependents  Churn Value  Gender  Married\n",
       "0   78                     0            1       1        0\n",
       "1   74                     1            1       0        1\n",
       "2   71                     3            1       1        0\n",
       "3   78                     1            1       0        1\n",
       "4   80                     1            1       0        1"
      ]
     },
     "execution_count": 54,
     "metadata": {},
     "output_type": "execute_result"
    }
   ],
   "source": [
    "# check the head of the dataset\n",
    "dataset.head()"
   ]
  },
  {
   "cell_type": "code",
   "execution_count": 34,
   "metadata": {},
   "outputs": [],
   "source": [
    "# split the dataset into training and test sets\n",
    "train, test = train_test_split(dataset, test_size=0.2, random_state=42)\n",
    "\n",
    "# split the training set into training and validation sets\n",
    "train, val = train_test_split(train, test_size=0.2, random_state=42)"
   ]
  },
  {
   "cell_type": "code",
   "execution_count": null,
   "metadata": {},
   "outputs": [],
   "source": []
  }
 ],
 "metadata": {
  "kernelspec": {
   "display_name": "Python 3",
   "language": "python",
   "name": "python3"
  },
  "language_info": {
   "codemirror_mode": {
    "name": "ipython",
    "version": 3
   },
   "file_extension": ".py",
   "mimetype": "text/x-python",
   "name": "python",
   "nbconvert_exporter": "python",
   "pygments_lexer": "ipython3",
   "version": "3.9.6"
  },
  "orig_nbformat": 4
 },
 "nbformat": 4,
 "nbformat_minor": 2
}
