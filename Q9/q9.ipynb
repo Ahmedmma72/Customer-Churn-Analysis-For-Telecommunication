{
 "cells": [
  {
   "attachments": {},
   "cell_type": "markdown",
   "metadata": {},
   "source": [
    "### Question: Which payment methods are associated with lower churn rates?"
   ]
  },
  {
   "attachments": {},
   "cell_type": "markdown",
   "metadata": {},
   "source": [
    "##### Expectations\n",
    "By analyzing the distribution of customers across different payment methods types, we can identify trends and patterns that can help the company make informed decisions about its business strategies. For example, if a particular payment method type has a low number of customers, the company may want to consider offering promotions or incentives to attract more customers to that service. On the other hand, if a particular service type has a high number of customers, the company may want to focus its resources on maintaining the quality of that service to retain those customers."
   ]
  },
  {
   "attachments": {},
   "cell_type": "markdown",
   "metadata": {},
   "source": [
    "##### Information about the data:\n",
    "The data is stored in an Excel file named `Telco_customer_churn_services.xlsx`. The file contains 7043 rows. Each row represents a customer, each column contains customer’s attributes described on the column Metadata. We have 3 Payment methods listed below:\n",
    "1. `Bank Withdrawal`\n",
    "2. `Credit Card`\n",
    "3. `Mailed Check` "
   ]
  },
  {
   "attachments": {},
   "cell_type": "markdown",
   "metadata": {},
   "source": [
    "### EDA"
   ]
  },
  {
   "cell_type": "code",
   "execution_count": null,
   "metadata": {},
   "outputs": [],
   "source": [
    "# Importing the libraries\n",
    "import seaborn as sns\n",
    "import pandas as pd"
   ]
  },
  {
   "cell_type": "code",
   "execution_count": null,
   "metadata": {},
   "outputs": [],
   "source": [
    "# Load the data from /Dataset/Telco_customer_churn_services.xlsx\n",
    "dataset1 = pd.read_excel('../../DataSet/Telco_customer_churn_services.xlsx')"
   ]
  },
  {
   "cell_type": "code",
   "execution_count": null,
   "metadata": {},
   "outputs": [],
   "source": [
    "# we need to get a column from another excel file and join it with the dataset\n",
    "\n",
    "# Load the data from /Dataset/Telco_customer_churn.xlsx\n",
    "dataset2 = pd.read_excel('../../DataSet/Telco_customer_churn.xlsx')"
   ]
  },
  {
   "cell_type": "code",
   "execution_count": null,
   "metadata": {},
   "outputs": [],
   "source": [
    "# rename the column to match the column name in the dataset\n",
    "dataset2.rename(columns={'CustomerID':'Customer ID'}, inplace=True)"
   ]
  },
  {
   "cell_type": "code",
   "execution_count": null,
   "metadata": {},
   "outputs": [],
   "source": [
    "# Join the two datasets on the column 'Customer ID'\n",
    "dataset = pd.merge(dataset1, dataset2, on='Customer ID')"
   ]
  },
  {
   "cell_type": "code",
   "execution_count": null,
   "metadata": {},
   "outputs": [],
   "source": [
    "dataset.columns"
   ]
  },
  {
   "cell_type": "code",
   "execution_count": null,
   "metadata": {},
   "outputs": [],
   "source": [
    "# get column 'Payment Method_x'\n",
    "payment_method = dataset['Payment Method_x']"
   ]
  },
  {
   "cell_type": "code",
   "execution_count": null,
   "metadata": {},
   "outputs": [],
   "source": [
    "# get only the required columns which are 'Churn Value' and 'Payment Method_x'\n",
    "dataset = dataset[['Churn Value', 'Payment Method_x']]\n",
    "# rename the column 'Payment Method_x' to 'Payment Method'\n",
    "dataset.rename(columns={'Payment Method_x':'Payment Method'}, inplace=True)"
   ]
  },
  {
   "cell_type": "code",
   "execution_count": null,
   "metadata": {},
   "outputs": [],
   "source": [
    "payment_method.unique()"
   ]
  },
  {
   "cell_type": "code",
   "execution_count": null,
   "metadata": {},
   "outputs": [],
   "source": [
    "# Check for any missing values\n",
    "payment_method.isnull().sum()"
   ]
  },
  {
   "cell_type": "code",
   "execution_count": null,
   "metadata": {},
   "outputs": [],
   "source": [
    "# make a histogram of internet type\n",
    "sns.countplot(x='Payment Method', data=dataset)"
   ]
  },
  {
   "cell_type": "code",
   "execution_count": null,
   "metadata": {},
   "outputs": [],
   "source": [
    "# make a pie chart of internet type \n",
    "payment_method.value_counts().plot(kind='pie', autopct='%1.1f%%', figsize=(6, 6))"
   ]
  },
  {
   "cell_type": "code",
   "execution_count": null,
   "metadata": {},
   "outputs": [],
   "source": [
    "# calculate the proportion of churn value for each payment method type\n",
    "Payment_Type_churn = dataset.groupby(['Payment Method'])['Churn Value'].value_counts(\n",
    "    normalize=True).rename('percentage').mul(100).reset_index()\n",
    "\n",
    "# print the proportion of churn value for each payment method type\n",
    "print(Payment_Type_churn)\n",
    "\n",
    "# plot the proportion of churn value for each payment method type\n",
    "sns.barplot(x=\"Payment Method\", y=\"percentage\",\n",
    "            hue=\"Churn Value\", data=Payment_Type_churn)"
   ]
  },
  {
   "attachments": {},
   "cell_type": "markdown",
   "metadata": {},
   "source": [
    "#### Results Interpretation\n",
    "Based on our analysis of the Telco Customer Churn dataset, we found that the distribution of customers across different Payment method types is as follows: 55.5% for Bank Withdrawal, 39% for Credit Card, 5.5% for Mailed Check.\n",
    "\n",
    "When we analyzed the churn value for each service type, we found that Mailed Check and Bank Withdrawal Payment methods have the highest churn rates at 38% and 35%, respectively. On the other hand, customers who pay using credit cards have the lowest churn rate at nearly 14%.\n",
    "\n",
    "Overall, our findings suggest that the company should focus on improving the quality of its Mailed Check and Bank Withdrawal Payment methods to reduce the churn rate for these services. The company should also consider offering promotions or incentives to attract more customers to its Credit Card Payment method, which has the lowest churn rate."
   ]
  },
  {
   "cell_type": "code",
   "execution_count": null,
   "metadata": {},
   "outputs": [],
   "source": [
    "# save the internet type and churn value to an excel file\n",
    "columns = ['Payment Method', 'Churn Value']\n",
    "newDataset = dataset[columns]\n",
    "newDataset.to_excel('Payment_method_churn.xlsx', index=False)"
   ]
  }
 ],
 "metadata": {
  "kernelspec": {
   "display_name": "base",
   "language": "python",
   "name": "python3"
  },
  "language_info": {
   "codemirror_mode": {
    "name": "ipython",
    "version": 3
   },
   "file_extension": ".py",
   "mimetype": "text/x-python",
   "name": "python",
   "nbconvert_exporter": "python",
   "pygments_lexer": "ipython3",
   "version": "3.9.6"
  },
  "orig_nbformat": 4
 },
 "nbformat": 4,
 "nbformat_minor": 2
}
