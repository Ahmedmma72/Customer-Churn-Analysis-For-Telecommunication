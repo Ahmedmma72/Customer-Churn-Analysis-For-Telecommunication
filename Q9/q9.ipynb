{
 "cells": [
  {
   "attachments": {},
   "cell_type": "markdown",
   "metadata": {},
   "source": [
    "### Question: Can we predict customer churn based on billing information (Contract, PaperlessBilling, PaymentMethod, MonthlyCharges, and TotalCharges)?"
   ]
  },
  {
   "attachments": {},
   "cell_type": "markdown",
   "metadata": {},
   "source": [
    "##### Expectations\n",
    " This can be a useful question for the telecommunications company, as it can help them to understand which factors are most important in driving customer churn and how they can take targeted actions to reduce churn rates. By analyzing the data and building a predictive model, the company can gain insights into which billing methods are most strongly associated with churn, and use this information to develop retention strategies that are tailored to different customer segments."
   ]
  },
  {
   "attachments": {},
   "cell_type": "markdown",
   "metadata": {},
   "source": [
    "##### Information about the data\n",
    "The data is stored in an Excel file named `Telco_customer_churn_services.xlsx`. The file contains 7043 rows. Each row represents a customer, each column contains customer’s attributes described on the column Metadata. The billing features that we have are: \n",
    "1. Contract\n",
    "2. PaperlessBilling\n",
    "3. PaymentMethod\n",
    "4. MonthlyCharges\n",
    "5. TotalCharges"
   ]
  },
  {
   "attachments": {},
   "cell_type": "markdown",
   "metadata": {},
   "source": [
    "### EDA"
   ]
  },
  {
   "cell_type": "code",
   "execution_count": 1,
   "metadata": {},
   "outputs": [],
   "source": [
    "# Importing the libraries\n",
    "import numpy as np\n",
    "import matplotlib.pyplot as plt\n",
    "import pandas as pd\n",
    "from sklearn.model_selection import train_test_split\n",
    "import seaborn as sns\n",
    "from imblearn.over_sampling import SMOTE\n",
    "\n",
    "from utils import *"
   ]
  },
  {
   "cell_type": "code",
   "execution_count": 2,
   "metadata": {},
   "outputs": [],
   "source": [
    "# Importing the dataset\n",
    "dataset1 = pd.read_excel('../../DataSet/Telco_customer_churn_services.xlsx')"
   ]
  },
  {
   "cell_type": "code",
   "execution_count": 3,
   "metadata": {},
   "outputs": [],
   "source": [
    "# we need to get a column from another excel file and join it with the dataset\n",
    "\n",
    "# Load the data from /Dataset/Telco_customer_churn.xlsx\n",
    "dataset2 = pd.read_excel('../../DataSet/Telco_customer_churn.xlsx')"
   ]
  },
  {
   "cell_type": "code",
   "execution_count": 4,
   "metadata": {},
   "outputs": [
    {
     "name": "stdout",
     "output_type": "stream",
     "text": [
      "Index(['Customer ID', 'Count', 'Quarter', 'Referred a Friend',\n",
      "       'Number of Referrals', 'Tenure in Months', 'Offer', 'Phone Service',\n",
      "       'Avg Monthly Long Distance Charges', 'Multiple Lines',\n",
      "       'Internet Service', 'Internet Type', 'Avg Monthly GB Download',\n",
      "       'Online Security', 'Online Backup', 'Device Protection Plan',\n",
      "       'Premium Tech Support', 'Streaming TV', 'Streaming Movies',\n",
      "       'Streaming Music', 'Unlimited Data', 'Contract', 'Paperless Billing',\n",
      "       'Payment Method', 'Monthly Charge', 'Total Charges', 'Total Refunds',\n",
      "       'Total Extra Data Charges', 'Total Long Distance Charges',\n",
      "       'Total Revenue'],\n",
      "      dtype='object')\n",
      "Index(['CustomerID', 'Count', 'Country', 'State', 'City', 'Zip Code',\n",
      "       'Lat Long', 'Latitude', 'Longitude', 'Gender', 'Senior Citizen',\n",
      "       'Partner', 'Dependents', 'Tenure Months', 'Phone Service',\n",
      "       'Multiple Lines', 'Internet Service', 'Online Security',\n",
      "       'Online Backup', 'Device Protection', 'Tech Support', 'Streaming TV',\n",
      "       'Streaming Movies', 'Contract', 'Paperless Billing', 'Payment Method',\n",
      "       'Monthly Charges', 'Total Charges', 'Churn Label', 'Churn Value',\n",
      "       'Churn Score', 'CLTV', 'Churn Reason'],\n",
      "      dtype='object')\n"
     ]
    }
   ],
   "source": [
    "print(dataset1.columns)\n",
    "print(dataset2.columns)"
   ]
  },
  {
   "attachments": {},
   "cell_type": "markdown",
   "metadata": {},
   "source": [
    "##### Clean and Prepare the data"
   ]
  },
  {
   "cell_type": "code",
   "execution_count": 5,
   "metadata": {},
   "outputs": [],
   "source": [
    "# rename the column to match the column name in the dataset1\n",
    "dataset2.rename(columns={'CustomerID':'Customer ID'}, inplace=True)"
   ]
  },
  {
   "cell_type": "code",
   "execution_count": 6,
   "metadata": {},
   "outputs": [],
   "source": [
    "# Join the two datasets on the column 'Customer ID'\n",
    "dataset = pd.merge(dataset1, dataset2, on='Customer ID')"
   ]
  },
  {
   "cell_type": "code",
   "execution_count": 7,
   "metadata": {},
   "outputs": [
    {
     "data": {
      "text/plain": [
       "Index(['Customer ID', 'Count_x', 'Quarter', 'Referred a Friend',\n",
       "       'Number of Referrals', 'Tenure in Months', 'Offer', 'Phone Service_x',\n",
       "       'Avg Monthly Long Distance Charges', 'Multiple Lines_x',\n",
       "       'Internet Service_x', 'Internet Type', 'Avg Monthly GB Download',\n",
       "       'Online Security_x', 'Online Backup_x', 'Device Protection Plan',\n",
       "       'Premium Tech Support', 'Streaming TV_x', 'Streaming Movies_x',\n",
       "       'Streaming Music', 'Unlimited Data', 'Contract_x',\n",
       "       'Paperless Billing_x', 'Payment Method_x', 'Monthly Charge',\n",
       "       'Total Charges_x', 'Total Refunds', 'Total Extra Data Charges',\n",
       "       'Total Long Distance Charges', 'Total Revenue', 'Count_y', 'Country',\n",
       "       'State', 'City', 'Zip Code', 'Lat Long', 'Latitude', 'Longitude',\n",
       "       'Gender', 'Senior Citizen', 'Partner', 'Dependents', 'Tenure Months',\n",
       "       'Phone Service_y', 'Multiple Lines_y', 'Internet Service_y',\n",
       "       'Online Security_y', 'Online Backup_y', 'Device Protection',\n",
       "       'Tech Support', 'Streaming TV_y', 'Streaming Movies_y', 'Contract_y',\n",
       "       'Paperless Billing_y', 'Payment Method_y', 'Monthly Charges',\n",
       "       'Total Charges_y', 'Churn Label', 'Churn Value', 'Churn Score', 'CLTV',\n",
       "       'Churn Reason'],\n",
       "      dtype='object')"
      ]
     },
     "execution_count": 7,
     "metadata": {},
     "output_type": "execute_result"
    }
   ],
   "source": [
    "dataset.columns"
   ]
  },
  {
   "cell_type": "code",
   "execution_count": 8,
   "metadata": {},
   "outputs": [],
   "source": [
    "# take only the columns that we need\n",
    "# these columns are Contract_x, Paperless Billing, Payment Method, Monthly Charges, Total Charges, Churn Value\n",
    "dataset = dataset[['Contract_x', 'Paperless Billing_x', 'Payment Method_x', 'Monthly Charges', 'Total Charges_x', 'Churn Value']]"
   ]
  },
  {
   "cell_type": "code",
   "execution_count": 9,
   "metadata": {},
   "outputs": [
    {
     "data": {
      "text/plain": [
       "Contract_x             0\n",
       "Paperless Billing_x    0\n",
       "Payment Method_x       0\n",
       "Monthly Charges        0\n",
       "Total Charges_x        0\n",
       "Churn Value            0\n",
       "dtype: int64"
      ]
     },
     "execution_count": 9,
     "metadata": {},
     "output_type": "execute_result"
    }
   ],
   "source": [
    "# Check for any missing values\n",
    "dataset.isnull().sum()"
   ]
  },
  {
   "cell_type": "code",
   "execution_count": 10,
   "metadata": {},
   "outputs": [],
   "source": [
    "# renaming the columns\n",
    "dataset.rename(columns={'Contract_x': 'Contract', 'Paperless Billing_x': 'Paperless Billing',\n",
    "               'Payment Method_x': 'Payment Method', 'Total Charges_x': 'Total Charges'}, inplace=True)"
   ]
  },
  {
   "cell_type": "code",
   "execution_count": 11,
   "metadata": {},
   "outputs": [
    {
     "data": {
      "text/plain": [
       "Contract              object\n",
       "Paperless Billing     object\n",
       "Payment Method        object\n",
       "Monthly Charges      float64\n",
       "Total Charges        float64\n",
       "Churn Value            int64\n",
       "dtype: object"
      ]
     },
     "execution_count": 11,
     "metadata": {},
     "output_type": "execute_result"
    }
   ],
   "source": [
    "dataset.dtypes"
   ]
  },
  {
   "cell_type": "code",
   "execution_count": 12,
   "metadata": {},
   "outputs": [
    {
     "name": "stdout",
     "output_type": "stream",
     "text": [
      "['Month-to-Month' 'One Year' 'Two Year']\n",
      "['Bank Withdrawal' 'Credit Card' 'Mailed Check']\n",
      "['Yes' 'No']\n"
     ]
    }
   ],
   "source": [
    "# Identify all possible values in the Contract, Payment Method, Paperless Billing columns\n",
    "unique_contract = dataset['Contract'].unique()\n",
    "unique_payment = dataset['Payment Method'].unique()\n",
    "unique_billing = dataset['Paperless Billing'].unique()\n",
    "\n",
    "print(unique_contract)\n",
    "print(unique_payment)\n",
    "print(unique_billing)"
   ]
  },
  {
   "cell_type": "code",
   "execution_count": 13,
   "metadata": {},
   "outputs": [],
   "source": [
    "# turn Contract, Payment Method and Paperless Billing columns into numerical values\n",
    "dataset['Contract'] = dataset['Contract'].map(\n",
    "    {'Month-to-Month': 0, 'One Year': 1, 'Two Year': 2})\n",
    "\n",
    "dataset['Payment Method'] = dataset['Payment Method'].map(\n",
    "    {'Mailed Check': 0, 'Bank Withdrawal': 1, 'Credit Card': 2})\n",
    "\n",
    "dataset['Paperless Billing'] = dataset['Paperless Billing'].map({'Yes': 1, 'No': 0})"
   ]
  },
  {
   "cell_type": "code",
   "execution_count": 14,
   "metadata": {},
   "outputs": [
    {
     "data": {
      "text/plain": [
       "Contract               int64\n",
       "Paperless Billing      int64\n",
       "Payment Method         int64\n",
       "Monthly Charges      float64\n",
       "Total Charges        float64\n",
       "Churn Value            int64\n",
       "dtype: object"
      ]
     },
     "execution_count": 14,
     "metadata": {},
     "output_type": "execute_result"
    }
   ],
   "source": [
    "# check the data types of the columns\n",
    "dataset.dtypes"
   ]
  },
  {
   "cell_type": "code",
   "execution_count": 15,
   "metadata": {},
   "outputs": [
    {
     "data": {
      "text/html": [
       "<div>\n",
       "<style scoped>\n",
       "    .dataframe tbody tr th:only-of-type {\n",
       "        vertical-align: middle;\n",
       "    }\n",
       "\n",
       "    .dataframe tbody tr th {\n",
       "        vertical-align: top;\n",
       "    }\n",
       "\n",
       "    .dataframe thead th {\n",
       "        text-align: right;\n",
       "    }\n",
       "</style>\n",
       "<table border=\"1\" class=\"dataframe\">\n",
       "  <thead>\n",
       "    <tr style=\"text-align: right;\">\n",
       "      <th></th>\n",
       "      <th>Contract</th>\n",
       "      <th>Paperless Billing</th>\n",
       "      <th>Payment Method</th>\n",
       "      <th>Monthly Charges</th>\n",
       "      <th>Total Charges</th>\n",
       "      <th>Churn Value</th>\n",
       "    </tr>\n",
       "  </thead>\n",
       "  <tbody>\n",
       "    <tr>\n",
       "      <th>0</th>\n",
       "      <td>0</td>\n",
       "      <td>1</td>\n",
       "      <td>1</td>\n",
       "      <td>39.65</td>\n",
       "      <td>39.65</td>\n",
       "      <td>1</td>\n",
       "    </tr>\n",
       "    <tr>\n",
       "      <th>1</th>\n",
       "      <td>0</td>\n",
       "      <td>1</td>\n",
       "      <td>2</td>\n",
       "      <td>80.65</td>\n",
       "      <td>633.30</td>\n",
       "      <td>1</td>\n",
       "    </tr>\n",
       "    <tr>\n",
       "      <th>2</th>\n",
       "      <td>0</td>\n",
       "      <td>1</td>\n",
       "      <td>1</td>\n",
       "      <td>95.45</td>\n",
       "      <td>1752.55</td>\n",
       "      <td>1</td>\n",
       "    </tr>\n",
       "    <tr>\n",
       "      <th>3</th>\n",
       "      <td>0</td>\n",
       "      <td>1</td>\n",
       "      <td>1</td>\n",
       "      <td>98.50</td>\n",
       "      <td>2514.50</td>\n",
       "      <td>1</td>\n",
       "    </tr>\n",
       "    <tr>\n",
       "      <th>4</th>\n",
       "      <td>0</td>\n",
       "      <td>1</td>\n",
       "      <td>1</td>\n",
       "      <td>76.50</td>\n",
       "      <td>2868.15</td>\n",
       "      <td>1</td>\n",
       "    </tr>\n",
       "  </tbody>\n",
       "</table>\n",
       "</div>"
      ],
      "text/plain": [
       "   Contract  Paperless Billing  Payment Method  Monthly Charges  \\\n",
       "0         0                  1               1            39.65   \n",
       "1         0                  1               2            80.65   \n",
       "2         0                  1               1            95.45   \n",
       "3         0                  1               1            98.50   \n",
       "4         0                  1               1            76.50   \n",
       "\n",
       "   Total Charges  Churn Value  \n",
       "0          39.65            1  \n",
       "1         633.30            1  \n",
       "2        1752.55            1  \n",
       "3        2514.50            1  \n",
       "4        2868.15            1  "
      ]
     },
     "execution_count": 15,
     "metadata": {},
     "output_type": "execute_result"
    }
   ],
   "source": [
    "dataset.head()"
   ]
  },
  {
   "attachments": {},
   "cell_type": "markdown",
   "metadata": {},
   "source": [
    "### for Contract column { 0: Month-to-Month, 1: One Year, 2: Two Year } \n",
    "### for PaymentMethod column { 0: Mailed Check, 1: Bank Withdrawal, 2: Credit Card } \n",
    "### for PaperlessBilling column { 0: No, 1: Yes }"
   ]
  },
  {
   "cell_type": "code",
   "execution_count": 16,
   "metadata": {},
   "outputs": [
    {
     "data": {
      "text/plain": [
       "Contract             0\n",
       "Paperless Billing    0\n",
       "Payment Method       0\n",
       "Monthly Charges      0\n",
       "Total Charges        0\n",
       "Churn Value          0\n",
       "dtype: int64"
      ]
     },
     "execution_count": 16,
     "metadata": {},
     "output_type": "execute_result"
    }
   ],
   "source": [
    "dataset.isnull().sum()"
   ]
  },
  {
   "attachments": {},
   "cell_type": "markdown",
   "metadata": {},
   "source": [
    "##### Prepare the data for the model"
   ]
  },
  {
   "cell_type": "code",
   "execution_count": 17,
   "metadata": {},
   "outputs": [],
   "source": [
    "# split the dataset into training and test sets\n",
    "train, test = train_test_split(dataset, test_size=0.2, random_state=42)"
   ]
  },
  {
   "cell_type": "code",
   "execution_count": 18,
   "metadata": {},
   "outputs": [
    {
     "data": {
      "image/png": "[encoded data removed]",
      "text/plain": [
       "<Figure size 720x720 with 6 Axes>"
      ]
     },
     "metadata": {
      "needs_background": "light"
     },
     "output_type": "display_data"
    }
   ],
   "source": [
    "# visualize the distribution of all features vs churn value \n",
    "# using seaborn \n",
    "\n",
    "fig, ax = plt.subplots(2, 3, figsize=(10, 10))\n",
    "sns.countplot(x='Contract', hue='Churn Value', data=train, ax=ax[0, 0])\n",
    "sns.countplot(x='Paperless Billing', hue='Churn Value', data=train, ax=ax[0, 1])\n",
    "sns.countplot(x='Payment Method', hue='Churn Value', data=train, ax=ax[0, 2])\n",
    "# also identify the numbers on the boxplots\n",
    "sns.boxplot(x='Churn Value', y='Monthly Charges', data=train, ax=ax[1, 0]) \n",
    "sns.boxplot(x='Churn Value', y='Total Charges', data=train, ax=ax[1, 1])\n",
    "plt.tight_layout()\n",
    "plt.show()\n",
    "\n"
   ]
  },
  {
   "attachments": {},
   "cell_type": "markdown",
   "metadata": {},
   "source": [
    "### Brief comment on the data (Initial Insights)\n",
    "1. Contracts with long durations tend to have lower churn rates.\n",
    "2. Customers with paperless billing tend to have higher churn rates.\n",
    "3. Bank withdrawal payment method has the highest churn rate among all payment methods (which may indicate that there is a problem in the application coopearting with the bank), also there is a few poeple that prefer to pay with mailed check\n",
    "4. People more likely to churn are those who pay between 80-90 or more dollars per month\n",
    "5. People more likely to churn pay less than those who don't churn in total charges "
   ]
  },
  {
   "cell_type": "code",
   "execution_count": 19,
   "metadata": {},
   "outputs": [
    {
     "data": {
      "text/html": [
       "<style type=\"text/css\">\n",
       "#T_374d0_row0_col0, #T_374d0_row1_col1, #T_374d0_row2_col2, #T_374d0_row3_col3, #T_374d0_row4_col4, #T_374d0_row5_col5 {\n",
       "  background-color: #b40426;\n",
       "  color: #f1f1f1;\n",
       "}\n",
       "#T_374d0_row0_col1, #T_374d0_row0_col5, #T_374d0_row2_col3, #T_374d0_row5_col0, #T_374d0_row5_col2, #T_374d0_row5_col4 {\n",
       "  background-color: #3b4cc0;\n",
       "  color: #f1f1f1;\n",
       "}\n",
       "#T_374d0_row0_col2 {\n",
       "  background-color: #9bbcff;\n",
       "  color: #000000;\n",
       "}\n",
       "#T_374d0_row0_col3, #T_374d0_row1_col2 {\n",
       "  background-color: #5673e0;\n",
       "  color: #f1f1f1;\n",
       "}\n",
       "#T_374d0_row0_col4 {\n",
       "  background-color: #e6d7cf;\n",
       "  color: #000000;\n",
       "}\n",
       "#T_374d0_row1_col0 {\n",
       "  background-color: #7ea1fa;\n",
       "  color: #f1f1f1;\n",
       "}\n",
       "#T_374d0_row1_col3, #T_374d0_row1_col5, #T_374d0_row3_col1 {\n",
       "  background-color: #c7d7f0;\n",
       "  color: #000000;\n",
       "}\n",
       "#T_374d0_row1_col4 {\n",
       "  background-color: #9ebeff;\n",
       "  color: #000000;\n",
       "}\n",
       "#T_374d0_row2_col0 {\n",
       "  background-color: #c0d4f5;\n",
       "  color: #000000;\n",
       "}\n",
       "#T_374d0_row2_col1 {\n",
       "  background-color: #445acc;\n",
       "  color: #f1f1f1;\n",
       "}\n",
       "#T_374d0_row2_col4, #T_374d0_row4_col2 {\n",
       "  background-color: #7699f6;\n",
       "  color: #f1f1f1;\n",
       "}\n",
       "#T_374d0_row2_col5 {\n",
       "  background-color: #6c8ff1;\n",
       "  color: #f1f1f1;\n",
       "}\n",
       "#T_374d0_row3_col0 {\n",
       "  background-color: #97b8ff;\n",
       "  color: #000000;\n",
       "}\n",
       "#T_374d0_row3_col2 {\n",
       "  background-color: #4c66d6;\n",
       "  color: #f1f1f1;\n",
       "}\n",
       "#T_374d0_row3_col4 {\n",
       "  background-color: #f7a98b;\n",
       "  color: #000000;\n",
       "}\n",
       "#T_374d0_row3_col5 {\n",
       "  background-color: #cad8ef;\n",
       "  color: #000000;\n",
       "}\n",
       "#T_374d0_row4_col0 {\n",
       "  background-color: #f3c7b1;\n",
       "  color: #000000;\n",
       "}\n",
       "#T_374d0_row4_col1 {\n",
       "  background-color: #90b2fe;\n",
       "  color: #000000;\n",
       "}\n",
       "#T_374d0_row4_col3 {\n",
       "  background-color: #f7b093;\n",
       "  color: #000000;\n",
       "}\n",
       "#T_374d0_row4_col5 {\n",
       "  background-color: #6e90f2;\n",
       "  color: #f1f1f1;\n",
       "}\n",
       "#T_374d0_row5_col1 {\n",
       "  background-color: #96b7ff;\n",
       "  color: #000000;\n",
       "}\n",
       "#T_374d0_row5_col3 {\n",
       "  background-color: #98b9ff;\n",
       "  color: #000000;\n",
       "}\n",
       "</style>\n",
       "<table id=\"T_374d0\">\n",
       "  <thead>\n",
       "    <tr>\n",
       "      <th class=\"blank level0\" >&nbsp;</th>\n",
       "      <th id=\"T_374d0_level0_col0\" class=\"col_heading level0 col0\" >Contract</th>\n",
       "      <th id=\"T_374d0_level0_col1\" class=\"col_heading level0 col1\" >Paperless Billing</th>\n",
       "      <th id=\"T_374d0_level0_col2\" class=\"col_heading level0 col2\" >Payment Method</th>\n",
       "      <th id=\"T_374d0_level0_col3\" class=\"col_heading level0 col3\" >Monthly Charges</th>\n",
       "      <th id=\"T_374d0_level0_col4\" class=\"col_heading level0 col4\" >Total Charges</th>\n",
       "      <th id=\"T_374d0_level0_col5\" class=\"col_heading level0 col5\" >Churn Value</th>\n",
       "    </tr>\n",
       "  </thead>\n",
       "  <tbody>\n",
       "    <tr>\n",
       "      <th id=\"T_374d0_level0_row0\" class=\"row_heading level0 row0\" >Contract</th>\n",
       "      <td id=\"T_374d0_row0_col0\" class=\"data row0 col0\" >1.000000</td>\n",
       "      <td id=\"T_374d0_row0_col1\" class=\"data row0 col1\" >-0.133968</td>\n",
       "      <td id=\"T_374d0_row0_col2\" class=\"data row0 col2\" >0.144669</td>\n",
       "      <td id=\"T_374d0_row0_col3\" class=\"data row0 col3\" >-0.030605</td>\n",
       "      <td id=\"T_374d0_row0_col4\" class=\"data row0 col4\" >0.446853</td>\n",
       "      <td id=\"T_374d0_row0_col5\" class=\"data row0 col5\" >-0.430720</td>\n",
       "    </tr>\n",
       "    <tr>\n",
       "      <th id=\"T_374d0_level0_row1\" class=\"row_heading level0 row1\" >Paperless Billing</th>\n",
       "      <td id=\"T_374d0_row1_col0\" class=\"data row1 col0\" >-0.133968</td>\n",
       "      <td id=\"T_374d0_row1_col1\" class=\"data row1 col1\" >1.000000</td>\n",
       "      <td id=\"T_374d0_row1_col2\" class=\"data row1 col2\" >-0.095392</td>\n",
       "      <td id=\"T_374d0_row1_col3\" class=\"data row1 col3\" >0.346591</td>\n",
       "      <td id=\"T_374d0_row1_col4\" class=\"data row1 col4\" >0.160066</td>\n",
       "      <td id=\"T_374d0_row1_col5\" class=\"data row1 col5\" >0.178374</td>\n",
       "    </tr>\n",
       "    <tr>\n",
       "      <th id=\"T_374d0_level0_row2\" class=\"row_heading level0 row2\" >Payment Method</th>\n",
       "      <td id=\"T_374d0_row2_col0\" class=\"data row2 col0\" >0.144669</td>\n",
       "      <td id=\"T_374d0_row2_col1\" class=\"data row2 col1\" >-0.095392</td>\n",
       "      <td id=\"T_374d0_row2_col2\" class=\"data row2 col2\" >1.000000</td>\n",
       "      <td id=\"T_374d0_row2_col3\" class=\"data row2 col3\" >-0.132373</td>\n",
       "      <td id=\"T_374d0_row2_col4\" class=\"data row2 col4\" >0.020957</td>\n",
       "      <td id=\"T_374d0_row2_col5\" class=\"data row2 col5\" >-0.203862</td>\n",
       "    </tr>\n",
       "    <tr>\n",
       "      <th id=\"T_374d0_level0_row3\" class=\"row_heading level0 row3\" >Monthly Charges</th>\n",
       "      <td id=\"T_374d0_row3_col0\" class=\"data row3 col0\" >-0.030605</td>\n",
       "      <td id=\"T_374d0_row3_col1\" class=\"data row3 col1\" >0.346591</td>\n",
       "      <td id=\"T_374d0_row3_col2\" class=\"data row3 col2\" >-0.132373</td>\n",
       "      <td id=\"T_374d0_row3_col3\" class=\"data row3 col3\" >1.000000</td>\n",
       "      <td id=\"T_374d0_row3_col4\" class=\"data row3 col4\" >0.650310</td>\n",
       "      <td id=\"T_374d0_row3_col5\" class=\"data row3 col5\" >0.189323</td>\n",
       "    </tr>\n",
       "    <tr>\n",
       "      <th id=\"T_374d0_level0_row4\" class=\"row_heading level0 row4\" >Total Charges</th>\n",
       "      <td id=\"T_374d0_row4_col0\" class=\"data row4 col0\" >0.446853</td>\n",
       "      <td id=\"T_374d0_row4_col1\" class=\"data row4 col1\" >0.160066</td>\n",
       "      <td id=\"T_374d0_row4_col2\" class=\"data row4 col2\" >0.020957</td>\n",
       "      <td id=\"T_374d0_row4_col3\" class=\"data row4 col3\" >0.650310</td>\n",
       "      <td id=\"T_374d0_row4_col4\" class=\"data row4 col4\" >1.000000</td>\n",
       "      <td id=\"T_374d0_row4_col5\" class=\"data row4 col5\" >-0.199952</td>\n",
       "    </tr>\n",
       "    <tr>\n",
       "      <th id=\"T_374d0_level0_row5\" class=\"row_heading level0 row5\" >Churn Value</th>\n",
       "      <td id=\"T_374d0_row5_col0\" class=\"data row5 col0\" >-0.430720</td>\n",
       "      <td id=\"T_374d0_row5_col1\" class=\"data row5 col1\" >0.178374</td>\n",
       "      <td id=\"T_374d0_row5_col2\" class=\"data row5 col2\" >-0.203862</td>\n",
       "      <td id=\"T_374d0_row5_col3\" class=\"data row5 col3\" >0.189323</td>\n",
       "      <td id=\"T_374d0_row5_col4\" class=\"data row5 col4\" >-0.199952</td>\n",
       "      <td id=\"T_374d0_row5_col5\" class=\"data row5 col5\" >1.000000</td>\n",
       "    </tr>\n",
       "  </tbody>\n",
       "</table>\n"
      ],
      "text/plain": [
       "<pandas.io.formats.style.Styler at 0x299b1d7d7f0>"
      ]
     },
     "execution_count": 19,
     "metadata": {},
     "output_type": "execute_result"
    }
   ],
   "source": [
    "# check the correlation between the features\n",
    "corr = train.corr()\n",
    "corr.style.background_gradient(cmap='coolwarm')"
   ]
  },
  {
   "cell_type": "code",
   "execution_count": 20,
   "metadata": {},
   "outputs": [
    {
     "data": {
      "text/html": [
       "<style type=\"text/css\">\n",
       "#T_3159e_row0_col0, #T_3159e_row0_col1, #T_3159e_row0_col3, #T_3159e_row0_col4, #T_3159e_row1_col0, #T_3159e_row1_col1, #T_3159e_row1_col3, #T_3159e_row1_col4, #T_3159e_row2_col0, #T_3159e_row2_col1, #T_3159e_row2_col3, #T_3159e_row2_col4, #T_3159e_row3_col0, #T_3159e_row3_col2, #T_3159e_row4_col5, #T_3159e_row5_col0, #T_3159e_row5_col1, #T_3159e_row5_col3, #T_3159e_row5_col4 {\n",
       "  background-color: #3b4cc0;\n",
       "  color: #f1f1f1;\n",
       "}\n",
       "#T_3159e_row0_col2 {\n",
       "  background-color: #536edd;\n",
       "  color: #f1f1f1;\n",
       "}\n",
       "#T_3159e_row0_col5, #T_3159e_row1_col5, #T_3159e_row2_col5 {\n",
       "  background-color: #b8122a;\n",
       "  color: #f1f1f1;\n",
       "}\n",
       "#T_3159e_row1_col2, #T_3159e_row5_col2 {\n",
       "  background-color: #516ddb;\n",
       "  color: #f1f1f1;\n",
       "}\n",
       "#T_3159e_row2_col2 {\n",
       "  background-color: #5572df;\n",
       "  color: #f1f1f1;\n",
       "}\n",
       "#T_3159e_row3_col1 {\n",
       "  background-color: #4358cb;\n",
       "  color: #f1f1f1;\n",
       "}\n",
       "#T_3159e_row3_col3 {\n",
       "  background-color: #4055c8;\n",
       "  color: #f1f1f1;\n",
       "}\n",
       "#T_3159e_row3_col4 {\n",
       "  background-color: #3d50c3;\n",
       "  color: #f1f1f1;\n",
       "}\n",
       "#T_3159e_row3_col5, #T_3159e_row4_col0, #T_3159e_row4_col1, #T_3159e_row4_col2, #T_3159e_row4_col3, #T_3159e_row4_col4 {\n",
       "  background-color: #b40426;\n",
       "  color: #f1f1f1;\n",
       "}\n",
       "#T_3159e_row5_col5 {\n",
       "  background-color: #b70d28;\n",
       "  color: #f1f1f1;\n",
       "}\n",
       "</style>\n",
       "<table id=\"T_3159e\">\n",
       "  <thead>\n",
       "    <tr>\n",
       "      <th class=\"blank level0\" >&nbsp;</th>\n",
       "      <th id=\"T_3159e_level0_col0\" class=\"col_heading level0 col0\" >Contract</th>\n",
       "      <th id=\"T_3159e_level0_col1\" class=\"col_heading level0 col1\" >Paperless Billing</th>\n",
       "      <th id=\"T_3159e_level0_col2\" class=\"col_heading level0 col2\" >Payment Method</th>\n",
       "      <th id=\"T_3159e_level0_col3\" class=\"col_heading level0 col3\" >Monthly Charges</th>\n",
       "      <th id=\"T_3159e_level0_col4\" class=\"col_heading level0 col4\" >Total Charges</th>\n",
       "      <th id=\"T_3159e_level0_col5\" class=\"col_heading level0 col5\" >Churn Value</th>\n",
       "    </tr>\n",
       "  </thead>\n",
       "  <tbody>\n",
       "    <tr>\n",
       "      <th id=\"T_3159e_level0_row0\" class=\"row_heading level0 row0\" >Contract</th>\n",
       "      <td id=\"T_3159e_row0_col0\" class=\"data row0 col0\" >0.716918</td>\n",
       "      <td id=\"T_3159e_row0_col1\" class=\"data row0 col1\" >-0.055849</td>\n",
       "      <td id=\"T_3159e_row0_col2\" class=\"data row0 col2\" >0.070824</td>\n",
       "      <td id=\"T_3159e_row0_col3\" class=\"data row0 col3\" >-0.776245</td>\n",
       "      <td id=\"T_3159e_row0_col4\" class=\"data row0 col4\" >856.387350</td>\n",
       "      <td id=\"T_3159e_row0_col5\" class=\"data row0 col5\" >-0.160129</td>\n",
       "    </tr>\n",
       "    <tr>\n",
       "      <th id=\"T_3159e_level0_row1\" class=\"row_heading level0 row1\" >Paperless Billing</th>\n",
       "      <td id=\"T_3159e_row1_col0\" class=\"data row1 col0\" >-0.055849</td>\n",
       "      <td id=\"T_3159e_row1_col1\" class=\"data row1 col1\" >0.242417</td>\n",
       "      <td id=\"T_3159e_row1_col2\" class=\"data row1 col2\" >-0.027156</td>\n",
       "      <td id=\"T_3159e_row1_col3\" class=\"data row1 col3\" >5.111775</td>\n",
       "      <td id=\"T_3159e_row1_col4\" class=\"data row1 col4\" >178.382235</td>\n",
       "      <td id=\"T_3159e_row1_col5\" class=\"data row1 col5\" >0.038561</td>\n",
       "    </tr>\n",
       "    <tr>\n",
       "      <th id=\"T_3159e_level0_row2\" class=\"row_heading level0 row2\" >Payment Method</th>\n",
       "      <td id=\"T_3159e_row2_col0\" class=\"data row2 col0\" >0.070824</td>\n",
       "      <td id=\"T_3159e_row2_col1\" class=\"data row2 col1\" >-0.027156</td>\n",
       "      <td id=\"T_3159e_row2_col2\" class=\"data row2 col2\" >0.334303</td>\n",
       "      <td id=\"T_3159e_row2_col3\" class=\"data row2 col3\" >-2.292682</td>\n",
       "      <td id=\"T_3159e_row2_col4\" class=\"data row2 col4\" >27.427005</td>\n",
       "      <td id=\"T_3159e_row2_col5\" class=\"data row2 col5\" >-0.051754</td>\n",
       "    </tr>\n",
       "    <tr>\n",
       "      <th id=\"T_3159e_level0_row3\" class=\"row_heading level0 row3\" >Monthly Charges</th>\n",
       "      <td id=\"T_3159e_row3_col0\" class=\"data row3 col0\" >-0.776245</td>\n",
       "      <td id=\"T_3159e_row3_col1\" class=\"data row3 col1\" >5.111775</td>\n",
       "      <td id=\"T_3159e_row3_col2\" class=\"data row3 col2\" >-2.292682</td>\n",
       "      <td id=\"T_3159e_row3_col3\" class=\"data row3 col3\" >897.317170</td>\n",
       "      <td id=\"T_3159e_row3_col4\" class=\"data row3 col4\" >44092.475142</td>\n",
       "      <td id=\"T_3159e_row3_col5\" class=\"data row3 col5\" >2.490094</td>\n",
       "    </tr>\n",
       "    <tr>\n",
       "      <th id=\"T_3159e_level0_row4\" class=\"row_heading level0 row4\" >Total Charges</th>\n",
       "      <td id=\"T_3159e_row4_col0\" class=\"data row4 col0\" >856.387350</td>\n",
       "      <td id=\"T_3159e_row4_col1\" class=\"data row4 col1\" >178.382235</td>\n",
       "      <td id=\"T_3159e_row4_col2\" class=\"data row4 col2\" >27.427005</td>\n",
       "      <td id=\"T_3159e_row4_col3\" class=\"data row4 col3\" >44092.475142</td>\n",
       "      <td id=\"T_3159e_row4_col4\" class=\"data row4 col4\" >5123205.450177</td>\n",
       "      <td id=\"T_3159e_row4_col5\" class=\"data row4 col5\" >-198.717672</td>\n",
       "    </tr>\n",
       "    <tr>\n",
       "      <th id=\"T_3159e_level0_row5\" class=\"row_heading level0 row5\" >Churn Value</th>\n",
       "      <td id=\"T_3159e_row5_col0\" class=\"data row5 col0\" >-0.160129</td>\n",
       "      <td id=\"T_3159e_row5_col1\" class=\"data row5 col1\" >0.038561</td>\n",
       "      <td id=\"T_3159e_row5_col2\" class=\"data row5 col2\" >-0.051754</td>\n",
       "      <td id=\"T_3159e_row5_col3\" class=\"data row5 col3\" >2.490094</td>\n",
       "      <td id=\"T_3159e_row5_col4\" class=\"data row5 col4\" >-198.717672</td>\n",
       "      <td id=\"T_3159e_row5_col5\" class=\"data row5 col5\" >0.192788</td>\n",
       "    </tr>\n",
       "  </tbody>\n",
       "</table>\n"
      ],
      "text/plain": [
       "<pandas.io.formats.style.Styler at 0x299b223dc70>"
      ]
     },
     "execution_count": 20,
     "metadata": {},
     "output_type": "execute_result"
    }
   ],
   "source": [
    "# check the covariance between the features\n",
    "cov = train.cov()\n",
    "cov.style.background_gradient(cmap='coolwarm')"
   ]
  },
  {
   "attachments": {},
   "cell_type": "markdown",
   "metadata": {},
   "source": [
    "### Brief comment on the correlation matrix\n",
    "1. MonthlyCharges and Churn value are positively correlated\n",
    "2. TotalCharges and Churn value are  negatively correlated\n",
    "3. Contract and Churn Value are negatively correlated (longer contracts have lower churn rates)\n",
    "\n",
    "\n",
    "So the visualizations and the correlation matrix show that the monthly charges, the total charges and Contract are the most important features that have a meaning in predicting the churn value.\n",
    "But the other features are also important and can be used to improve the model."
   ]
  },
  {
   "cell_type": "markdown",
   "metadata": {},
   "source": [
    "#### Model building:"
   ]
  },
  {
   "cell_type": "code",
   "execution_count": 21,
   "metadata": {},
   "outputs": [],
   "source": [
    "# Let's build a logistic regression model\n",
    "\n",
    "# drop the target variable from the training set\n",
    "X_train = train.drop('Churn Value', axis=1)\n",
    "\n",
    "# select the target variable from the training set\n",
    "y_train = train['Churn Value']\n",
    "\n",
    "# drop the target variable from the test set\n",
    "X_test = test.drop('Churn Value', axis=1)\n",
    "\n",
    "# select the target variable from the test set\n",
    "y_test = test['Churn Value']\n",
    "\n",
    "# balance the training set\n",
    "sm = SMOTE(random_state=42)\n",
    "X_train, y_train = sm.fit_resample(X_train, y_train)"
   ]
  },
  {
   "attachments": {},
   "cell_type": "markdown",
   "metadata": {},
   "source": [
    "## Formal Modeling"
   ]
  },
  {
   "attachments": {},
   "cell_type": "markdown",
   "metadata": {},
   "source": [
    "### Logistic Regression Model"
   ]
  },
  {
   "attachments": {},
   "cell_type": "markdown",
   "metadata": {},
   "source": [
    "#### Expectations\n",
    "The model should be able to predict the churn value with a high accuracy and use the features that are most important in predicting the churn value.\n",
    "Most of the features are categorical so logistic regression is a good choice for this problem.\n"
   ]
  },
  {
   "attachments": {},
   "cell_type": "markdown",
   "metadata": {},
   "source": [
    "#### Collecting the data\n",
    "We expect that by dropping TotalCharges the model won't be affected as TotalCharges has very high correlation with other features so it's a redundant information."
   ]
  },
  {
   "cell_type": "code",
   "execution_count": 22,
   "metadata": {},
   "outputs": [
    {
     "name": "stdout",
     "output_type": "stream",
     "text": [
      "Best Hyperparameters:  {'C': 1, 'class_weight': None, 'penalty': 'l1', 'solver': 'liblinear'}\n",
      "              precision    recall  f1-score   support\n",
      "\n",
      "           0       0.90      0.74      0.81      1009\n",
      "           1       0.54      0.80      0.65       400\n",
      "\n",
      "    accuracy                           0.75      1409\n",
      "   macro avg       0.72      0.77      0.73      1409\n",
      "weighted avg       0.80      0.75      0.76      1409\n",
      "\n"
     ]
    }
   ],
   "source": [
    "# trying to use all features to build the model\n",
    "logreg_giridSearch_crossValid(X_train, y_train, X_test, y_test)"
   ]
  },
  {
   "cell_type": "code",
   "execution_count": 23,
   "metadata": {},
   "outputs": [
    {
     "name": "stdout",
     "output_type": "stream",
     "text": [
      "Best Hyperparameters:  {'C': 1, 'class_weight': None, 'penalty': 'l1', 'solver': 'liblinear'}\n",
      "              precision    recall  f1-score   support\n",
      "\n",
      "           0       0.91      0.72      0.80      1009\n",
      "           1       0.54      0.82      0.65       400\n",
      "\n",
      "    accuracy                           0.75      1409\n",
      "   macro avg       0.72      0.77      0.73      1409\n",
      "weighted avg       0.80      0.75      0.76      1409\n",
      "\n"
     ]
    }
   ],
   "source": [
    "# trying to improve the logistic regression model by using the low correlated features to avoid redundancy only and dropping the rest\n",
    "logreg_giridSearch_crossValid(X_train[['Contract', 'Payment Method', 'Monthly Charges']], y_train, X_test[[\n",
    "                              'Contract', 'Payment Method', 'Monthly Charges']], y_test)\n"
   ]
  },
  {
   "attachments": {},
   "cell_type": "markdown",
   "metadata": {},
   "source": [
    "#### Revise the Expectations\n",
    "Data and Expectations matches"
   ]
  },
  {
   "attachments": {},
   "cell_type": "markdown",
   "metadata": {},
   "source": [
    "#### Interpret the Logistic Regression Model\n",
    "##### all features case\n",
    "1. The model has an accuracy of 75% which is good but not great\n",
    "2. The model has a f1-score of 73% which is good\n",
    "##### low correlated features case\n",
    "1. The model has an accuracy of 75% which is good but not great\n",
    "2. The model has a f1-score of 73% which is good\n",
    "\n",
    "So all features is good but not great, and the low correlated features case is the same as the all features case w.r.t. the accuracy and f1-score.\n",
    "##### Note\n",
    "In low correlated case we removed 'Total charges' which is highly correlated with 'Monthly charges' and 'Contract'.\n",
    "and the model didn't change much so we can say that 'Total charges' is a redundant information."
   ]
  },
  {
   "attachments": {},
   "cell_type": "markdown",
   "metadata": {},
   "source": [
    "## Random Forest Model"
   ]
  },
  {
   "cell_type": "code",
   "execution_count": 24,
   "metadata": {},
   "outputs": [
    {
     "name": "stdout",
     "output_type": "stream",
     "text": [
      "Best Hyperparameters:  {'max_depth': 10, 'min_samples_leaf': 1, 'min_samples_split': 2, 'n_estimators': 100}\n",
      "              precision    recall  f1-score   support\n",
      "\n",
      "           0       0.89      0.76      0.82      1009\n",
      "           1       0.56      0.76      0.65       400\n",
      "\n",
      "    accuracy                           0.76      1409\n",
      "   macro avg       0.73      0.76      0.73      1409\n",
      "weighted avg       0.80      0.76      0.77      1409\n",
      "\n"
     ]
    }
   ],
   "source": [
    "# trying all features in the model\n",
    "randomForest_giridSearch_crossValid(X_train, y_train, X_test, y_test)"
   ]
  },
  {
   "cell_type": "code",
   "execution_count": 25,
   "metadata": {},
   "outputs": [
    {
     "name": "stdout",
     "output_type": "stream",
     "text": [
      "Best Hyperparameters:  {'max_depth': 5, 'min_samples_leaf': 2, 'min_samples_split': 5, 'n_estimators': 100}\n",
      "              precision    recall  f1-score   support\n",
      "\n",
      "           0       0.90      0.75      0.81      1009\n",
      "           1       0.55      0.79      0.65       400\n",
      "\n",
      "    accuracy                           0.76      1409\n",
      "   macro avg       0.72      0.77      0.73      1409\n",
      "weighted avg       0.80      0.76      0.77      1409\n",
      "\n"
     ]
    }
   ],
   "source": [
    "# trying to improve the random forest model by using the low correlated features to avoid redundancy only and dropping the rest\n",
    "randomForest_giridSearch_crossValid(X_train[['Contract', 'Payment Method', 'Monthly Charges']], y_train, X_test[[\n",
    "                              'Contract', 'Payment Method', 'Monthly Charges']], y_test)"
   ]
  }
 ],
 "metadata": {
  "kernelspec": {
   "display_name": "base",
   "language": "python",
   "name": "python3"
  },
  "language_info": {
   "codemirror_mode": {
    "name": "ipython",
    "version": 3
   },
   "file_extension": ".py",
   "mimetype": "text/x-python",
   "name": "python",
   "nbconvert_exporter": "python",
   "pygments_lexer": "ipython3",
   "version": "3.9.6"
  },
  "orig_nbformat": 4
 },
 "nbformat": 4,
 "nbformat_minor": 2
}
