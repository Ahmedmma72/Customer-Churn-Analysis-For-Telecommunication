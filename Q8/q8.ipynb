{
 "cells": [
  {
   "attachments": {},
   "cell_type": "markdown",
   "metadata": {},
   "source": [
    "#### Question: How well can we predict customer churn based on demographic features (gender, SeniorCitizen, Partner, and Dependents)?"
   ]
  },
  {
   "attachments": {},
   "cell_type": "markdown",
   "metadata": {},
   "source": [
    "##### Expectations\n",
    " This can be a useful question for the telecommunications company, as it can help them to understand which factors are most important in driving customer churn and how they can take targeted actions to reduce churn rates. By analyzing the data and building a predictive model, the company can gain insights into which demographic features are most strongly associated with churn, and use this information to develop retention strategies that are tailored to different customer segments."
   ]
  },
  {
   "attachments": {},
   "cell_type": "markdown",
   "metadata": {},
   "source": [
    "##### Information about the data:\n",
    "The data is stored in an Excel file named `Telco_customer_churn_demographics.xlsx`. The file contains 7043 rows. Each row represents a customer, each column contains customer’s attributes described on the column Metadata. The demographic features that we have are: \n",
    "1. Gender\n",
    "2. Age\n",
    "3. Marriage status\n",
    "4. Dependents"
   ]
  },
  {
   "attachments": {},
   "cell_type": "markdown",
   "metadata": {},
   "source": [
    "#### EDA"
   ]
  },
  {
   "cell_type": "code",
   "execution_count": 364,
   "metadata": {},
   "outputs": [],
   "source": [
    "# Importing the libraries\n",
    "import numpy as np\n",
    "import matplotlib.pyplot as plt\n",
    "import pandas as pd\n",
    "from sklearn.model_selection import train_test_split\n",
    "import seaborn as sns\n",
    "from sklearn.model_selection import GridSearchCV\n",
    "from sklearn.linear_model import LogisticRegression\n",
    "from sklearn.metrics import classification_report\n",
    "from imblearn.over_sampling import SMOTE\n",
    "from sklearn.ensemble import RandomForestClassifier\n",
    "from sklearn.svm import SVC"
   ]
  },
  {
   "cell_type": "code",
   "execution_count": 365,
   "metadata": {},
   "outputs": [],
   "source": [
    "# Load the data from /Dataset/Telco_customer_churn_demographics.xlsx\n",
    "dataset1 = pd.read_excel('../Dataset/Telco_customer_churn_demographics.xlsx')"
   ]
  },
  {
   "cell_type": "code",
   "execution_count": 366,
   "metadata": {},
   "outputs": [],
   "source": [
    "# we need to get a column from another excel file and join it with the dataset\n",
    "\n",
    "# Load the data from /Dataset/Telco_customer_churn.xlsx\n",
    "dataset2 = pd.read_excel('../Dataset/Telco_customer_churn.xlsx')"
   ]
  },
  {
   "cell_type": "code",
   "execution_count": 367,
   "metadata": {},
   "outputs": [],
   "source": [
    "# rename the column to match the column name in the dataset\n",
    "dataset2.rename(columns={'CustomerID':'Customer ID'}, inplace=True)"
   ]
  },
  {
   "cell_type": "code",
   "execution_count": 368,
   "metadata": {},
   "outputs": [],
   "source": [
    "# Join the two datasets on the column 'Customer ID'\n",
    "dataset = pd.merge(dataset1, dataset2, on='Customer ID')"
   ]
  },
  {
   "cell_type": "code",
   "execution_count": 369,
   "metadata": {},
   "outputs": [
    {
     "data": {
      "text/plain": [
       "Customer ID                0\n",
       "Count_x                    0\n",
       "Gender_x                   0\n",
       "Age                        0\n",
       "Under 30                   0\n",
       "Senior Citizen_x           0\n",
       "Married                    0\n",
       "Dependents_x               0\n",
       "Number of Dependents       0\n",
       "Count_y                    0\n",
       "Country                    0\n",
       "State                      0\n",
       "City                       0\n",
       "Zip Code                   0\n",
       "Lat Long                   0\n",
       "Latitude                   0\n",
       "Longitude                  0\n",
       "Gender_y                   0\n",
       "Senior Citizen_y           0\n",
       "Partner                    0\n",
       "Dependents_y               0\n",
       "Tenure Months              0\n",
       "Phone Service              0\n",
       "Multiple Lines             0\n",
       "Internet Service           0\n",
       "Online Security            0\n",
       "Online Backup              0\n",
       "Device Protection          0\n",
       "Tech Support               0\n",
       "Streaming TV               0\n",
       "Streaming Movies           0\n",
       "Contract                   0\n",
       "Paperless Billing          0\n",
       "Payment Method             0\n",
       "Monthly Charges            0\n",
       "Total Charges              0\n",
       "Churn Label                0\n",
       "Churn Value                0\n",
       "Churn Score                0\n",
       "CLTV                       0\n",
       "Churn Reason            5174\n",
       "dtype: int64"
      ]
     },
     "execution_count": 369,
     "metadata": {},
     "output_type": "execute_result"
    }
   ],
   "source": [
    "# Check for any missing values\n",
    "dataset.isnull().sum()"
   ]
  },
  {
   "cell_type": "code",
   "execution_count": 370,
   "metadata": {},
   "outputs": [
    {
     "data": {
      "text/plain": [
       "0"
      ]
     },
     "execution_count": 370,
     "metadata": {},
     "output_type": "execute_result"
    }
   ],
   "source": [
    "# make sure that the merge happened successfully by comparing Gender_x and Gender_y columns to be the same\n",
    "difference = dataset['Gender_x'] != dataset['Gender_y']\n",
    "difference.sum()"
   ]
  },
  {
   "cell_type": "code",
   "execution_count": 371,
   "metadata": {},
   "outputs": [
    {
     "data": {
      "text/plain": [
       "Customer ID              object\n",
       "Count_x                   int64\n",
       "Gender_x                 object\n",
       "Age                       int64\n",
       "Under 30                 object\n",
       "Senior Citizen_x         object\n",
       "Married                  object\n",
       "Dependents_x             object\n",
       "Number of Dependents      int64\n",
       "Count_y                   int64\n",
       "Country                  object\n",
       "State                    object\n",
       "City                     object\n",
       "Zip Code                  int64\n",
       "Lat Long                 object\n",
       "Latitude                float64\n",
       "Longitude               float64\n",
       "Gender_y                 object\n",
       "Senior Citizen_y         object\n",
       "Partner                  object\n",
       "Dependents_y             object\n",
       "Tenure Months             int64\n",
       "Phone Service            object\n",
       "Multiple Lines           object\n",
       "Internet Service         object\n",
       "Online Security          object\n",
       "Online Backup            object\n",
       "Device Protection        object\n",
       "Tech Support             object\n",
       "Streaming TV             object\n",
       "Streaming Movies         object\n",
       "Contract                 object\n",
       "Paperless Billing        object\n",
       "Payment Method           object\n",
       "Monthly Charges         float64\n",
       "Total Charges            object\n",
       "Churn Label              object\n",
       "Churn Value               int64\n",
       "Churn Score               int64\n",
       "CLTV                      int64\n",
       "Churn Reason             object\n",
       "dtype: object"
      ]
     },
     "execution_count": 371,
     "metadata": {},
     "output_type": "execute_result"
    }
   ],
   "source": [
    "# check the data types of the columns\n",
    "dataset.dtypes"
   ]
  },
  {
   "cell_type": "code",
   "execution_count": 372,
   "metadata": {},
   "outputs": [],
   "source": [
    "# drop useless columns\n",
    "\n",
    "my_columns = ['Gender_x', 'Age', 'Married',\n",
    "              'Number of Dependents', 'Churn Value']\n",
    "\n",
    "dataset = dataset[my_columns]"
   ]
  },
  {
   "cell_type": "code",
   "execution_count": 373,
   "metadata": {},
   "outputs": [
    {
     "data": {
      "text/plain": [
       "Age                     int64\n",
       "Number of Dependents    int64\n",
       "Churn Value             int64\n",
       "Gender_x_Female         uint8\n",
       "Gender_x_Male           uint8\n",
       "Married_No              uint8\n",
       "Married_Yes             uint8\n",
       "dtype: object"
      ]
     },
     "execution_count": 373,
     "metadata": {},
     "output_type": "execute_result"
    }
   ],
   "source": [
    "# turn the categorical variables into dummy variables\n",
    "dataset = pd.get_dummies(dataset)\n",
    "\n",
    "# check the data types of the columns\n",
    "dataset.dtypes"
   ]
  },
  {
   "cell_type": "code",
   "execution_count": 374,
   "metadata": {},
   "outputs": [
    {
     "data": {
      "text/plain": [
       "Age                     int64\n",
       "Number of Dependents    int64\n",
       "Churn Value             int64\n",
       "Gender                  uint8\n",
       "Married                 uint8\n",
       "dtype: object"
      ]
     },
     "execution_count": 374,
     "metadata": {},
     "output_type": "execute_result"
    }
   ],
   "source": [
    "# drop the newly created dummy variables that are not required\n",
    "if 'Gender_x_Female' in dataset.columns:\n",
    "    dataset = dataset.drop(\n",
    "        ['Gender_x_Female', 'Married_No'], axis=1)\n",
    "\n",
    "\n",
    "# rename the columns to remove the _Yes suffix\n",
    "dataset.rename(columns={'Gender_x_Male': 'Gender',\n",
    "               'Married_Yes': 'Married'}, inplace=True)\n",
    "\n",
    "# check the data types of the columns\n",
    "dataset.dtypes    "
   ]
  },
  {
   "attachments": {},
   "cell_type": "markdown",
   "metadata": {},
   "source": [
    "##### Gender = 1 then male if 0 then female "
   ]
  },
  {
   "cell_type": "code",
   "execution_count": 375,
   "metadata": {},
   "outputs": [
    {
     "data": {
      "text/html": [
       "<div>\n",
       "<style scoped>\n",
       "    .dataframe tbody tr th:only-of-type {\n",
       "        vertical-align: middle;\n",
       "    }\n",
       "\n",
       "    .dataframe tbody tr th {\n",
       "        vertical-align: top;\n",
       "    }\n",
       "\n",
       "    .dataframe thead th {\n",
       "        text-align: right;\n",
       "    }\n",
       "</style>\n",
       "<table border=\"1\" class=\"dataframe\">\n",
       "  <thead>\n",
       "    <tr style=\"text-align: right;\">\n",
       "      <th></th>\n",
       "      <th>Age</th>\n",
       "      <th>Number of Dependents</th>\n",
       "      <th>Churn Value</th>\n",
       "      <th>Gender</th>\n",
       "      <th>Married</th>\n",
       "    </tr>\n",
       "  </thead>\n",
       "  <tbody>\n",
       "    <tr>\n",
       "      <th>0</th>\n",
       "      <td>78</td>\n",
       "      <td>0</td>\n",
       "      <td>1</td>\n",
       "      <td>1</td>\n",
       "      <td>0</td>\n",
       "    </tr>\n",
       "    <tr>\n",
       "      <th>1</th>\n",
       "      <td>74</td>\n",
       "      <td>1</td>\n",
       "      <td>1</td>\n",
       "      <td>0</td>\n",
       "      <td>1</td>\n",
       "    </tr>\n",
       "    <tr>\n",
       "      <th>2</th>\n",
       "      <td>71</td>\n",
       "      <td>3</td>\n",
       "      <td>1</td>\n",
       "      <td>1</td>\n",
       "      <td>0</td>\n",
       "    </tr>\n",
       "    <tr>\n",
       "      <th>3</th>\n",
       "      <td>78</td>\n",
       "      <td>1</td>\n",
       "      <td>1</td>\n",
       "      <td>0</td>\n",
       "      <td>1</td>\n",
       "    </tr>\n",
       "    <tr>\n",
       "      <th>4</th>\n",
       "      <td>80</td>\n",
       "      <td>1</td>\n",
       "      <td>1</td>\n",
       "      <td>0</td>\n",
       "      <td>1</td>\n",
       "    </tr>\n",
       "  </tbody>\n",
       "</table>\n",
       "</div>"
      ],
      "text/plain": [
       "   Age  Number of Dependents  Churn Value  Gender  Married\n",
       "0   78                     0            1       1        0\n",
       "1   74                     1            1       0        1\n",
       "2   71                     3            1       1        0\n",
       "3   78                     1            1       0        1\n",
       "4   80                     1            1       0        1"
      ]
     },
     "execution_count": 375,
     "metadata": {},
     "output_type": "execute_result"
    }
   ],
   "source": [
    "# check the head of the dataset\n",
    "dataset.head()"
   ]
  },
  {
   "cell_type": "code",
   "execution_count": 376,
   "metadata": {},
   "outputs": [],
   "source": [
    "# split the dataset into training and test sets\n",
    "train, test = train_test_split(dataset, test_size=0.2, random_state=42)"
   ]
  },
  {
   "cell_type": "code",
   "execution_count": 377,
   "metadata": {},
   "outputs": [
    {
     "data": {
      "text/plain": [
       "Text(0.5, 1.0, 'Married')"
      ]
     },
     "execution_count": 377,
     "metadata": {},
     "output_type": "execute_result"
    },
    {
     "data": {
      "image/png": "[encoded data removed]",
      "text/plain": [
       "<Figure size 720x720 with 4 Axes>"
      ]
     },
     "metadata": {
      "needs_background": "light"
     },
     "output_type": "display_data"
    }
   ],
   "source": [
    "# visualize the distribution of the demographic features vs churn value\n",
    "fig, ax = plt.subplots(2, 2, figsize=(10, 10))\n",
    "ax[0, 0].hist(train[train['Churn Value'] == 0]['Age'], bins=20, color='blue', alpha=0.5)\n",
    "ax[0, 0].hist(train[train['Churn Value'] == 1]['Age'], bins=20, color='orange', alpha=0.5)\n",
    "ax[0, 0].set_title('Age')\n",
    "\n",
    "ax[0, 1].hist(train[train['Churn Value'] == 0]['Number of Dependents'], bins=10, color='blue', alpha=0.5)\n",
    "ax[0, 1].hist(train[train['Churn Value'] == 1]['Number of Dependents'], bins=10, color='orange', alpha=0.5)\n",
    "ax[0, 1].set_title('Number of Dependents')\n",
    "\n",
    "ax[1, 0].hist(train[train['Churn Value'] == 0]['Gender'],\n",
    "              bins=2, color='blue', alpha=0.5, rwidth=0.8)\n",
    "ax[1, 0].hist(train[train['Churn Value'] == 1]['Gender'],\n",
    "              bins=2, color='orange', alpha=0.5, rwidth=0.8)\n",
    "ax[1, 0].set_title('Gender')\n",
    "\n",
    "ax[1, 1].hist(train[train['Churn Value'] == 0]['Married'],\n",
    "              bins=2, color='blue', alpha=0.5,rwidth=0.8)\n",
    "ax[1, 1].hist(train[train['Churn Value'] == 1]['Married'],\n",
    "              bins=2, color='orange', alpha=0.5, rwidth=0.8)\n",
    "ax[1, 1].set_title('Married')"
   ]
  },
  {
   "attachments": {},
   "cell_type": "markdown",
   "metadata": {},
   "source": [
    "### Initial insights\n",
    "\n",
    "1. Age seems to be a good predictor of the churn (older people tend to churn more)\n",
    "2. Gender does not seem to have any effect on the churn rate\n",
    "3. Hard to tell wether number of dependents has an effect on churn rate further analysis is needed\n",
    "4. It looks like single people tend to churn more than married people"
   ]
  },
  {
   "cell_type": "code",
   "execution_count": 378,
   "metadata": {},
   "outputs": [
    {
     "data": {
      "image/png": "[encoded data removed]",
      "text/plain": [
       "<Figure size 1440x720 with 2 Axes>"
      ]
     },
     "metadata": {
      "needs_background": "light"
     },
     "output_type": "display_data"
    }
   ],
   "source": [
    "# perform a correlation analysis on the dataset to see which features are highly correlated\n",
    "plt.figure(figsize=(20, 10))\n",
    "sns.heatmap(train.corr(method='pearson'), annot=True, cmap='gist_heat')\n",
    "plt.show()\n"
   ]
  },
  {
   "cell_type": "code",
   "execution_count": 379,
   "metadata": {},
   "outputs": [
    {
     "data": {
      "image/png": "[encoded data removed]",
      "text/plain": [
       "<Figure size 1440x1440 with 2 Axes>"
      ]
     },
     "metadata": {
      "needs_background": "light"
     },
     "output_type": "display_data"
    }
   ],
   "source": [
    "# visualize the correlation between the features and the target variable\n",
    "plt.figure(figsize=(20, 20))\n",
    "sns.heatmap(train.corr()[['Churn Value']].sort_values(\n",
    "    by='Churn Value', ascending=False), annot=True, fmt='.2f')\n",
    "plt.show()\n"
   ]
  },
  {
   "attachments": {},
   "cell_type": "markdown",
   "metadata": {},
   "source": [
    "### Correlation matrix analysis\n",
    "features seem to be uncorrelated with each other\n",
    "we see positive correlation between churn value and Age\n",
    "we see negative correlation between churn value and Number of dependents, Married\n"
   ]
  },
  {
   "cell_type": "code",
   "execution_count": 380,
   "metadata": {},
   "outputs": [
    {
     "data": {
      "image/png": "[encoded data removed]",
      "text/plain": [
       "<Figure size 1440x720 with 2 Axes>"
      ]
     },
     "metadata": {
      "needs_background": "light"
     },
     "output_type": "display_data"
    }
   ],
   "source": [
    "# let's check non-linear correlations\n",
    "#sns.pairplot(train, hue='Churn Value')\n",
    "\n",
    "# Correlation with Spearman's Rank Correlation:\n",
    "plt.figure(figsize=(20, 10))\n",
    "sns.heatmap(train.corr(method='spearman'), annot=True, cmap='gist_heat')\n",
    "plt.show()\n",
    "\n"
   ]
  },
  {
   "cell_type": "code",
   "execution_count": 381,
   "metadata": {},
   "outputs": [
    {
     "data": {
      "image/png": "[encoded data removed]",
      "text/plain": [
       "<Figure size 1440x720 with 2 Axes>"
      ]
     },
     "metadata": {
      "needs_background": "light"
     },
     "output_type": "display_data"
    }
   ],
   "source": [
    "# Correlation with Kendall's Rank Correlation:\n",
    "plt.figure(figsize=(20, 10))\n",
    "sns.heatmap(train.corr(method='kendall'), annot=True, cmap='gist_heat')\n",
    "plt.show()\n"
   ]
  },
  {
   "attachments": {},
   "cell_type": "markdown",
   "metadata": {},
   "source": [
    "#### Model building:"
   ]
  },
  {
   "cell_type": "code",
   "execution_count": 382,
   "metadata": {},
   "outputs": [],
   "source": [
    "# Let's build a logistic regression model\n",
    "\n",
    "# drop the target variable from the training set\n",
    "X_train = train.drop('Churn Value', axis=1)\n",
    "\n",
    "# select the target variable from the training set\n",
    "y_train = train['Churn Value']\n",
    "\n",
    "# drop the target variable from the test set\n",
    "X_test = test.drop('Churn Value', axis=1)\n",
    "\n",
    "# select the target variable from the test set\n",
    "y_test = test['Churn Value']\n",
    "\n",
    "# balance the training set\n",
    "sm = SMOTE(random_state=42)\n",
    "X_train, y_train = sm.fit_resample(X_train, y_train)"
   ]
  },
  {
   "cell_type": "code",
   "execution_count": 383,
   "metadata": {},
   "outputs": [
    {
     "name": "stdout",
     "output_type": "stream",
     "text": [
      "Best Hyperparameters:  {'C': 0.01, 'class_weight': None, 'penalty': 'l2', 'solver': 'saga'}\n",
      "              precision    recall  f1-score   support\n",
      "\n",
      "           0       0.85      0.48      0.61      1009\n",
      "           1       0.37      0.78      0.50       400\n",
      "\n",
      "    accuracy                           0.56      1409\n",
      "   macro avg       0.61      0.63      0.56      1409\n",
      "weighted avg       0.71      0.56      0.58      1409\n",
      "\n"
     ]
    }
   ],
   "source": [
    "# Define hyperparameter values to be tuned\n",
    "param_grid = {'penalty': ['l1', 'l2'],\n",
    "              'C': [0.01, 0.1, 1],\n",
    "              'solver': ['liblinear', 'saga'],\n",
    "              'class_weight': [None, 'balanced']}\n",
    "\n",
    "# Create a logistic regression model\n",
    "logreg = LogisticRegression()\n",
    "\n",
    "# Create a GridSearchCV object to perform hyperparameter tuning\n",
    "grid_search = GridSearchCV(logreg, param_grid, cv=5, scoring='accuracy',n_jobs=10)\n",
    "grid_search.fit(X_train, y_train)\n",
    "\n",
    "# Get the best hyperparameter\n",
    "best_params = grid_search.best_params_\n",
    "print(\"Best Hyperparameters: \", best_params)\n",
    "\n",
    "# Fit the logistic regression model with best hyperparameter to the training data\n",
    "best_logreg = LogisticRegression(**best_params)\n",
    "best_logreg.fit(X_train, y_train)\n",
    "\n",
    "# Predict the churn value for the test set\n",
    "y_pred = best_logreg.predict(X_test)\n",
    "\n",
    "# Evaluate the model performance\n",
    "report = classification_report(y_test, y_pred)\n",
    "print(report)"
   ]
  },
  {
   "attachments": {},
   "cell_type": "markdown",
   "metadata": {},
   "source": [
    "### Logistic regression results analysis\n",
    "\n",
    "very poor accuracy of 56% on the test set\n",
    "we see that the model is not able to predict the churn rate of the customers based on the demographic data"
   ]
  },
  {
   "cell_type": "code",
   "execution_count": 384,
   "metadata": {},
   "outputs": [
    {
     "name": "stdout",
     "output_type": "stream",
     "text": [
      "Best Hyperparameters:  {'max_depth': 10, 'min_samples_leaf': 1, 'min_samples_split': 5, 'n_estimators': 100}\n",
      "              precision    recall  f1-score   support\n",
      "\n",
      "           0       0.81      0.51      0.62      1009\n",
      "           1       0.36      0.69      0.47       400\n",
      "\n",
      "    accuracy                           0.56      1409\n",
      "   macro avg       0.58      0.60      0.55      1409\n",
      "weighted avg       0.68      0.56      0.58      1409\n",
      "\n"
     ]
    }
   ],
   "source": [
    "# Let's build a random forest model\n",
    "\n",
    "# Define hyperparameter values to be tuned\n",
    "param_grid = {\n",
    "    \"n_estimators\": [100, 500],\n",
    "    \"max_depth\": [5, 10],\n",
    "    \"min_samples_split\": [2, 5],\n",
    "    \"min_samples_leaf\": [1, 2],\n",
    "}\n",
    "\n",
    "# Create a random forest model\n",
    "rf = RandomForestClassifier()\n",
    "\n",
    "# Create a GridSearchCV object to perform hyperparameter tuning\n",
    "grid_search = GridSearchCV(rf, param_grid, cv=5, scoring='accuracy',n_jobs=10)\n",
    "grid_search.fit(X_train, y_train)\n",
    "\n",
    "# Get the best hyperparameter\n",
    "best_params = grid_search.best_params_\n",
    "print(\"Best Hyperparameters: \", best_params)\n",
    "\n",
    "# Fit the random forest model with best hyperparameter to the training data\n",
    "best_rf = RandomForestClassifier(**best_params)\n",
    "best_rf.fit(X_train, y_train)\n",
    "\n",
    "# Predict the churn value for the test set\n",
    "y_pred = best_rf.predict(X_test)\n",
    "\n",
    "# Evaluate the model performance\n",
    "report = classification_report(y_test, y_pred)\n",
    "print(report)"
   ]
  },
  {
   "cell_type": "code",
   "execution_count": 385,
   "metadata": {},
   "outputs": [
    {
     "name": "stdout",
     "output_type": "stream",
     "text": [
      "Best Hyperparameters:  {'C': 10, 'gamma': 'auto', 'kernel': 'rbf'}\n",
      "              precision    recall  f1-score   support\n",
      "\n",
      "           0       0.81      0.52      0.63      1009\n",
      "           1       0.36      0.69      0.47       400\n",
      "\n",
      "    accuracy                           0.57      1409\n",
      "   macro avg       0.58      0.60      0.55      1409\n",
      "weighted avg       0.68      0.57      0.59      1409\n",
      "\n"
     ]
    }
   ],
   "source": [
    "# Let's build a SVM model\n",
    "\n",
    "# Define hyperparameter values to be tuned\n",
    "param_grid = {\n",
    "    \"C\": [0.1, 1, 10],\n",
    "    \"kernel\": [\"linear\", \"rbf\"],\n",
    "    \"gamma\": [\"scale\", \"auto\"]\n",
    "}\n",
    "\n",
    "# Create a SVM model\n",
    "svm = SVC()\n",
    "\n",
    "# Create a GridSearchCV object to perform hyperparameter tuning\n",
    "grid_search = GridSearchCV(svm, param_grid, cv=5, scoring='accuracy',n_jobs=10)\n",
    "grid_search.fit(X_train, y_train)\n",
    "\n",
    "# Get the best hyperparameter\n",
    "best_params = grid_search.best_params_\n",
    "print(\"Best Hyperparameters: \", best_params)\n",
    "\n",
    "# Fit the SVM model with best hyperparameter to the training data\n",
    "best_svm = SVC(**best_params)\n",
    "best_svm.fit(X_train, y_train)\n",
    "\n",
    "# Predict the churn value for the test set\n",
    "y_pred = best_svm.predict(X_test)\n",
    "\n",
    "# Evaluate the model performance\n",
    "report = classification_report(y_test, y_pred)\n",
    "print(report)"
   ]
  },
  {
   "attachments": {},
   "cell_type": "markdown",
   "metadata": {},
   "source": [
    "#### Results Interpretation:\n",
    "Based on the results of the three models, it appears that predicting customer churn based solely on demographic features (gender, SeniorCitizen, Partner, and Dependents) is challenging. The best model achieved an accuracy of around 57%, which is only slightly better than random guessing.\n",
    "\n",
    "The Logistic Regression model had the highest recall score for predicting customer churn (0.78), which means it correctly identified 78% of customers who were likely to churn. However, its precision score for predicting customer churn was low (0.37), which means it also identified a large number of false positives.\n",
    "\n",
    "The Random Forest and SVM models had similar results with an accuracy of around 56%, and relatively balanced precision and recall scores for predicting customer churn.\n",
    "\n",
    "Based on these results, it seems that demographic features alone may not be sufficient to accurately predict customer churn. To improve the accuracy of the predictive model, it may be necessary to include additional features."
   ]
  },
  {
   "cell_type": "code",
   "execution_count": 386,
   "metadata": {},
   "outputs": [],
   "source": [
    "# save the dataset as an Excel file to use for tableau visualization\n",
    "dataset.to_excel('q1.xlsx', index=False)\n"
   ]
  }
 ],
 "metadata": {
  "kernelspec": {
   "display_name": "Python 3",
   "language": "python",
   "name": "python3"
  },
  "language_info": {
   "codemirror_mode": {
    "name": "ipython",
    "version": 3
   },
   "file_extension": ".py",
   "mimetype": "text/x-python",
   "name": "python",
   "nbconvert_exporter": "python",
   "pygments_lexer": "ipython3",
   "version": "3.9.6"
  },
  "orig_nbformat": 4
 },
 "nbformat": 4,
 "nbformat_minor": 2
}
