{
 "cells": [
  {
   "attachments": {},
   "cell_type": "markdown",
   "metadata": {},
   "source": [
    "#### Question: Are there any specific services or products that are more commonly associated with each reason category for churn?"
   ]
  },
  {
   "attachments": {},
   "cell_type": "markdown",
   "metadata": {},
   "source": [
    "##### Expectations:\n",
    "analyzing the specific services or products that are commonly associated with each reason category for churn can provide valuable insights for the business. For example, if customers are churning due to issues with internet speed, the company may need to invest in improving their network infrastructure. If customers are churning due to high prices, the company may need to consider adjusting their pricing strategy or offering more affordable packages. By understanding the specific services or products that are driving customer churn, the company can make targeted improvements to reduce churn rates and improve customer satisfaction. Additionally, this information can inform the development of new products or services that better meet the needs and preferences of customers."
   ]
  },
  {
   "attachments": {},
   "cell_type": "markdown",
   "metadata": {},
   "source": [
    "#### EDA:"
   ]
  },
  {
   "cell_type": "code",
   "execution_count": 22,
   "metadata": {},
   "outputs": [],
   "source": [
    "# Importing the libraries\n",
    "import seaborn as sns\n",
    "import pandas as pd"
   ]
  },
  {
   "cell_type": "code",
   "execution_count": 23,
   "metadata": {},
   "outputs": [],
   "source": [
    "# Load the data from /Dataset/Telco_customer_churn_services.xlsx\n",
    "dataset1 = pd.read_excel('../Dataset/Telco_customer_churn_services.xlsx')"
   ]
  },
  {
   "cell_type": "code",
   "execution_count": 24,
   "metadata": {},
   "outputs": [
    {
     "data": {
      "text/plain": [
       "Index(['Customer ID', 'Count', 'Quarter', 'Referred a Friend',\n",
       "       'Number of Referrals', 'Tenure in Months', 'Offer', 'Phone Service',\n",
       "       'Avg Monthly Long Distance Charges', 'Multiple Lines',\n",
       "       'Internet Service', 'Internet Type', 'Avg Monthly GB Download',\n",
       "       'Online Security', 'Online Backup', 'Device Protection Plan',\n",
       "       'Premium Tech Support', 'Streaming TV', 'Streaming Movies',\n",
       "       'Streaming Music', 'Unlimited Data', 'Contract', 'Paperless Billing',\n",
       "       'Payment Method', 'Monthly Charge', 'Total Charges', 'Total Refunds',\n",
       "       'Total Extra Data Charges', 'Total Long Distance Charges',\n",
       "       'Total Revenue'],\n",
       "      dtype='object')"
      ]
     },
     "execution_count": 24,
     "metadata": {},
     "output_type": "execute_result"
    }
   ],
   "source": [
    "dataset1.columns"
   ]
  },
  {
   "cell_type": "code",
   "execution_count": 25,
   "metadata": {},
   "outputs": [],
   "source": [
    "my_columns = ['Customer ID', 'Phone Service', 'Internet Service', 'Multiple Lines',\n",
    "              'Online Security', 'Online Backup', 'Device Protection Plan', 'Premium Tech Support', 'Unlimited Data']\n",
    "\n",
    "dataset1 = dataset1[my_columns]\n"
   ]
  },
  {
   "cell_type": "code",
   "execution_count": 26,
   "metadata": {},
   "outputs": [],
   "source": [
    "# we need the churn category from a different file\n",
    "dataset2 = pd.read_excel('../Dataset/Telco_customer_churn_status.xlsx')"
   ]
  },
  {
   "cell_type": "code",
   "execution_count": 27,
   "metadata": {},
   "outputs": [
    {
     "data": {
      "text/plain": [
       "Index(['Customer ID', 'Count', 'Quarter', 'Satisfaction Score',\n",
       "       'Customer Status', 'Churn Label', 'Churn Value', 'Churn Score', 'CLTV',\n",
       "       'Churn Category', 'Churn Reason'],\n",
       "      dtype='object')"
      ]
     },
     "execution_count": 27,
     "metadata": {},
     "output_type": "execute_result"
    }
   ],
   "source": [
    "dataset2.columns"
   ]
  },
  {
   "cell_type": "code",
   "execution_count": 28,
   "metadata": {},
   "outputs": [],
   "source": [
    "my_columns = ['Customer ID', 'Churn Category','Churn Label']\n",
    "\n",
    "dataset2 = dataset2[my_columns]"
   ]
  },
  {
   "cell_type": "code",
   "execution_count": 29,
   "metadata": {},
   "outputs": [],
   "source": [
    "# merge the two datasets\n",
    "dataset = pd.merge(dataset1, dataset2, on='Customer ID')"
   ]
  },
  {
   "cell_type": "code",
   "execution_count": 30,
   "metadata": {},
   "outputs": [
    {
     "data": {
      "text/plain": [
       "Index(['Customer ID', 'Phone Service', 'Internet Service', 'Multiple Lines',\n",
       "       'Online Security', 'Online Backup', 'Device Protection Plan',\n",
       "       'Premium Tech Support', 'Unlimited Data', 'Churn Category',\n",
       "       'Churn Label'],\n",
       "      dtype='object')"
      ]
     },
     "execution_count": 30,
     "metadata": {},
     "output_type": "execute_result"
    }
   ],
   "source": [
    "dataset.columns"
   ]
  },
  {
   "cell_type": "code",
   "execution_count": 32,
   "metadata": {},
   "outputs": [
    {
     "data": {
      "text/plain": [
       "Customer ID                  0\n",
       "Phone Service                0\n",
       "Internet Service             0\n",
       "Multiple Lines               0\n",
       "Online Security              0\n",
       "Online Backup                0\n",
       "Device Protection Plan       0\n",
       "Premium Tech Support         0\n",
       "Unlimited Data               0\n",
       "Churn Category            5174\n",
       "Churn Label                  0\n",
       "dtype: int64"
      ]
     },
     "execution_count": 32,
     "metadata": {},
     "output_type": "execute_result"
    }
   ],
   "source": [
    "# Check for messing values\n",
    "dataset.isnull().sum()"
   ]
  },
  {
   "attachments": {},
   "cell_type": "markdown",
   "metadata": {},
   "source": [
    "We see that churn category is missing some values but we are not sure yet if that is a problem or it is just because the customer did not churn. We will check that."
   ]
  },
  {
   "cell_type": "code",
   "execution_count": 33,
   "metadata": {},
   "outputs": [
    {
     "data": {
      "text/plain": [
       "No    5174\n",
       "Name: Churn Label, dtype: int64"
      ]
     },
     "execution_count": 33,
     "metadata": {},
     "output_type": "execute_result"
    }
   ],
   "source": [
    "# make sure that when churn category is missing the churn label is false\n",
    "dataset[dataset['Churn Category'].isnull()]['Churn Label'].value_counts()"
   ]
  },
  {
   "attachments": {},
   "cell_type": "markdown",
   "metadata": {},
   "source": [
    "it is indeed the case that the missing values in the churn category are due to the fact that the customer did not churn. We will drop all customers who have not churned because we are only interested in the customers who have churned."
   ]
  },
  {
   "cell_type": "code",
   "execution_count": 34,
   "metadata": {},
   "outputs": [],
   "source": [
    "# drop customers who have not churned\n",
    "dataset = dataset[dataset['Churn Category'].notnull()]"
   ]
  },
  {
   "cell_type": "code",
   "execution_count": 35,
   "metadata": {},
   "outputs": [
    {
     "data": {
      "text/plain": [
       "Customer ID               0\n",
       "Phone Service             0\n",
       "Internet Service          0\n",
       "Multiple Lines            0\n",
       "Online Security           0\n",
       "Online Backup             0\n",
       "Device Protection Plan    0\n",
       "Premium Tech Support      0\n",
       "Unlimited Data            0\n",
       "Churn Category            0\n",
       "Churn Label               0\n",
       "dtype: int64"
      ]
     },
     "execution_count": 35,
     "metadata": {},
     "output_type": "execute_result"
    }
   ],
   "source": [
    "dataset.isnull().sum()"
   ]
  },
  {
   "cell_type": "code",
   "execution_count": 37,
   "metadata": {},
   "outputs": [],
   "source": [
    "# drop the customer ID column\n",
    "if 'Customer ID' in dataset.columns:\n",
    "    dataset.drop({'Customer ID','Churn Label'}, axis=1, inplace=True)"
   ]
  },
  {
   "cell_type": "code",
   "execution_count": 38,
   "metadata": {},
   "outputs": [
    {
     "data": {
      "text/plain": [
       "Phone Service             object\n",
       "Internet Service          object\n",
       "Multiple Lines            object\n",
       "Online Security           object\n",
       "Online Backup             object\n",
       "Device Protection Plan    object\n",
       "Premium Tech Support      object\n",
       "Unlimited Data            object\n",
       "Churn Category            object\n",
       "dtype: object"
      ]
     },
     "execution_count": 38,
     "metadata": {},
     "output_type": "execute_result"
    }
   ],
   "source": [
    "dataset.dtypes"
   ]
  },
  {
   "cell_type": "code",
   "execution_count": 39,
   "metadata": {},
   "outputs": [
    {
     "data": {
      "text/plain": [
       "Phone Service_No                  uint8\n",
       "Phone Service_Yes                 uint8\n",
       "Internet Service_No               uint8\n",
       "Internet Service_Yes              uint8\n",
       "Multiple Lines_No                 uint8\n",
       "Multiple Lines_Yes                uint8\n",
       "Online Security_No                uint8\n",
       "Online Security_Yes               uint8\n",
       "Online Backup_No                  uint8\n",
       "Online Backup_Yes                 uint8\n",
       "Device Protection Plan_No         uint8\n",
       "Device Protection Plan_Yes        uint8\n",
       "Premium Tech Support_No           uint8\n",
       "Premium Tech Support_Yes          uint8\n",
       "Unlimited Data_No                 uint8\n",
       "Unlimited Data_Yes                uint8\n",
       "Churn Category_Attitude           uint8\n",
       "Churn Category_Competitor         uint8\n",
       "Churn Category_Dissatisfaction    uint8\n",
       "Churn Category_Other              uint8\n",
       "Churn Category_Price              uint8\n",
       "dtype: object"
      ]
     },
     "execution_count": 39,
     "metadata": {},
     "output_type": "execute_result"
    }
   ],
   "source": [
    "## turn the categorical variables into dummy variables\n",
    "dataset = pd.get_dummies(dataset)\n",
    "\n",
    "# check the data types of the columns\n",
    "dataset.dtypes"
   ]
  },
  {
   "cell_type": "code",
   "execution_count": 40,
   "metadata": {},
   "outputs": [],
   "source": [
    "# drop columns with _No\n",
    "dataset.drop(dataset.filter(regex='_No').columns, axis=1, inplace=True)"
   ]
  },
  {
   "cell_type": "code",
   "execution_count": 41,
   "metadata": {},
   "outputs": [
    {
     "data": {
      "text/plain": [
       "Index(['Phone Service_Yes', 'Internet Service_Yes', 'Multiple Lines_Yes',\n",
       "       'Online Security_Yes', 'Online Backup_Yes',\n",
       "       'Device Protection Plan_Yes', 'Premium Tech Support_Yes',\n",
       "       'Unlimited Data_Yes', 'Churn Category_Attitude',\n",
       "       'Churn Category_Competitor', 'Churn Category_Dissatisfaction',\n",
       "       'Churn Category_Other', 'Churn Category_Price'],\n",
       "      dtype='object')"
      ]
     },
     "execution_count": 41,
     "metadata": {},
     "output_type": "execute_result"
    }
   ],
   "source": [
    "dataset.columns"
   ]
  },
  {
   "cell_type": "code",
   "execution_count": 42,
   "metadata": {},
   "outputs": [],
   "source": [
    "# rename the columns with _Yes to remove the _Yes\n",
    "if 'Phone Service_Yes' in dataset.columns:\n",
    "    dataset.rename(columns={'Phone Service_Yes': 'Phone Service',\n",
    "                            'Internet Service_Yes': 'Internet Service',\n",
    "                            'Multiple Lines_Yes': 'Multiple Lines',\n",
    "                            'Online Security_Yes': 'Online Security',\n",
    "                            'Online Backup_Yes': 'Online Backup',\n",
    "                            'Device Protection Plan_Yes': 'Device Protection Plan',\n",
    "                            'Premium Tech Support_Yes': 'Premium Tech Support',\n",
    "                            'Unlimited Data_Yes': 'Unlimited Data'}, inplace=True)"
   ]
  },
  {
   "cell_type": "code",
   "execution_count": 43,
   "metadata": {},
   "outputs": [
    {
     "data": {
      "text/html": [
       "<div>\n",
       "<style scoped>\n",
       "    .dataframe tbody tr th:only-of-type {\n",
       "        vertical-align: middle;\n",
       "    }\n",
       "\n",
       "    .dataframe tbody tr th {\n",
       "        vertical-align: top;\n",
       "    }\n",
       "\n",
       "    .dataframe thead th {\n",
       "        text-align: right;\n",
       "    }\n",
       "</style>\n",
       "<table border=\"1\" class=\"dataframe\">\n",
       "  <thead>\n",
       "    <tr style=\"text-align: right;\">\n",
       "      <th></th>\n",
       "      <th>Phone Service</th>\n",
       "      <th>Internet Service</th>\n",
       "      <th>Multiple Lines</th>\n",
       "      <th>Online Security</th>\n",
       "      <th>Online Backup</th>\n",
       "      <th>Device Protection Plan</th>\n",
       "      <th>Premium Tech Support</th>\n",
       "      <th>Unlimited Data</th>\n",
       "      <th>Churn Category_Attitude</th>\n",
       "      <th>Churn Category_Competitor</th>\n",
       "      <th>Churn Category_Dissatisfaction</th>\n",
       "      <th>Churn Category_Other</th>\n",
       "      <th>Churn Category_Price</th>\n",
       "    </tr>\n",
       "  </thead>\n",
       "  <tbody>\n",
       "    <tr>\n",
       "      <th>0</th>\n",
       "      <td>0</td>\n",
       "      <td>1</td>\n",
       "      <td>0</td>\n",
       "      <td>0</td>\n",
       "      <td>0</td>\n",
       "      <td>1</td>\n",
       "      <td>0</td>\n",
       "      <td>0</td>\n",
       "      <td>0</td>\n",
       "      <td>1</td>\n",
       "      <td>0</td>\n",
       "      <td>0</td>\n",
       "      <td>0</td>\n",
       "    </tr>\n",
       "    <tr>\n",
       "      <th>1</th>\n",
       "      <td>1</td>\n",
       "      <td>1</td>\n",
       "      <td>1</td>\n",
       "      <td>0</td>\n",
       "      <td>1</td>\n",
       "      <td>0</td>\n",
       "      <td>0</td>\n",
       "      <td>1</td>\n",
       "      <td>0</td>\n",
       "      <td>1</td>\n",
       "      <td>0</td>\n",
       "      <td>0</td>\n",
       "      <td>0</td>\n",
       "    </tr>\n",
       "    <tr>\n",
       "      <th>2</th>\n",
       "      <td>1</td>\n",
       "      <td>1</td>\n",
       "      <td>1</td>\n",
       "      <td>0</td>\n",
       "      <td>0</td>\n",
       "      <td>0</td>\n",
       "      <td>0</td>\n",
       "      <td>1</td>\n",
       "      <td>0</td>\n",
       "      <td>1</td>\n",
       "      <td>0</td>\n",
       "      <td>0</td>\n",
       "      <td>0</td>\n",
       "    </tr>\n",
       "    <tr>\n",
       "      <th>3</th>\n",
       "      <td>1</td>\n",
       "      <td>1</td>\n",
       "      <td>0</td>\n",
       "      <td>0</td>\n",
       "      <td>1</td>\n",
       "      <td>1</td>\n",
       "      <td>0</td>\n",
       "      <td>1</td>\n",
       "      <td>0</td>\n",
       "      <td>0</td>\n",
       "      <td>1</td>\n",
       "      <td>0</td>\n",
       "      <td>0</td>\n",
       "    </tr>\n",
       "    <tr>\n",
       "      <th>4</th>\n",
       "      <td>1</td>\n",
       "      <td>1</td>\n",
       "      <td>1</td>\n",
       "      <td>0</td>\n",
       "      <td>0</td>\n",
       "      <td>0</td>\n",
       "      <td>0</td>\n",
       "      <td>1</td>\n",
       "      <td>0</td>\n",
       "      <td>0</td>\n",
       "      <td>0</td>\n",
       "      <td>0</td>\n",
       "      <td>1</td>\n",
       "    </tr>\n",
       "  </tbody>\n",
       "</table>\n",
       "</div>"
      ],
      "text/plain": [
       "   Phone Service  Internet Service  Multiple Lines  Online Security  \\\n",
       "0              0                 1               0                0   \n",
       "1              1                 1               1                0   \n",
       "2              1                 1               1                0   \n",
       "3              1                 1               0                0   \n",
       "4              1                 1               1                0   \n",
       "\n",
       "   Online Backup  Device Protection Plan  Premium Tech Support  \\\n",
       "0              0                       1                     0   \n",
       "1              1                       0                     0   \n",
       "2              0                       0                     0   \n",
       "3              1                       1                     0   \n",
       "4              0                       0                     0   \n",
       "\n",
       "   Unlimited Data  Churn Category_Attitude  Churn Category_Competitor  \\\n",
       "0               0                        0                          1   \n",
       "1               1                        0                          1   \n",
       "2               1                        0                          1   \n",
       "3               1                        0                          0   \n",
       "4               1                        0                          0   \n",
       "\n",
       "   Churn Category_Dissatisfaction  Churn Category_Other  Churn Category_Price  \n",
       "0                               0                     0                     0  \n",
       "1                               0                     0                     0  \n",
       "2                               0                     0                     0  \n",
       "3                               1                     0                     0  \n",
       "4                               0                     0                     1  "
      ]
     },
     "execution_count": 43,
     "metadata": {},
     "output_type": "execute_result"
    }
   ],
   "source": [
    "dataset.head()"
   ]
  },
  {
   "cell_type": "code",
   "execution_count": null,
   "metadata": {},
   "outputs": [],
   "source": [
    "# visualize the distribution of the different services and the churn categories\n",
    "\n"
   ]
  }
 ],
 "metadata": {
  "kernelspec": {
   "display_name": "Python 3",
   "language": "python",
   "name": "python3"
  },
  "language_info": {
   "codemirror_mode": {
    "name": "ipython",
    "version": 3
   },
   "file_extension": ".py",
   "mimetype": "text/x-python",
   "name": "python",
   "nbconvert_exporter": "python",
   "pygments_lexer": "ipython3",
   "version": "3.9.6"
  },
  "orig_nbformat": 4
 },
 "nbformat": 4,
 "nbformat_minor": 2
}
