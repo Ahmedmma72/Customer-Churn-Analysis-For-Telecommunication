{
 "cells": [
  {
   "attachments": {},
   "cell_type": "markdown",
   "metadata": {},
   "source": [
    "### Question: Are customers with online security features less likely to churn? (i.e, churn proportion of customers without online security features are higher than those with security features by more than 25%)\n"
   ]
  },
  {
   "attachments": {},
   "cell_type": "markdown",
   "metadata": {},
   "source": [
    "#### Expectations:\n",
    "This question aims to understand the relationship between online security features and customer churn, and to explore the potential benefits of offering online security features as a customer retention initiative.\n",
    "Overall, the goal of this question is to provide insights into the factors that contribute to customer churn and to identify potential strategies for reducing churn rates and improving customer retention."
   ]
  },
  {
   "attachments": {},
   "cell_type": "markdown",
   "metadata": {},
   "source": [
    "#### Information about the data:\n",
    "The data is stored in an Excel file named `Telco_customer_churn.xlsx`. The file contains 7043 rows. Each row represents a customer, each column contains customer’s attributes described on the column Metadata. The features we are interested in are:\n",
    "- `Online Security`: (Yes, No, No internet service)\n",
    "- `Churn Value`: Whether the customer churned or not (1 for yes and 0 for no)"
   ]
  },
  {
   "attachments": {},
   "cell_type": "markdown",
   "metadata": {},
   "source": [
    "### EDA:"
   ]
  },
  {
   "cell_type": "code",
   "execution_count": 1,
   "metadata": {},
   "outputs": [],
   "source": [
    "# Importing the libraries\n",
    "import numpy as np\n",
    "import matplotlib.pyplot as plt\n",
    "import pandas as pd\n",
    "from sklearn.model_selection import train_test_split\n",
    "import seaborn as sns\n",
    "from scipy.stats import t"
   ]
  },
  {
   "cell_type": "code",
   "execution_count": 2,
   "metadata": {},
   "outputs": [],
   "source": [
    "# read the dataset\n",
    "dataset = pd.read_excel('../Dataset/Telco_customer_churn.xlsx')"
   ]
  },
  {
   "cell_type": "code",
   "execution_count": 3,
   "metadata": {},
   "outputs": [
    {
     "data": {
      "text/plain": [
       "Index(['CustomerID', 'Count', 'Country', 'State', 'City', 'Zip Code',\n",
       "       'Lat Long', 'Latitude', 'Longitude', 'Gender', 'Senior Citizen',\n",
       "       'Partner', 'Dependents', 'Tenure Months', 'Phone Service',\n",
       "       'Multiple Lines', 'Internet Service', 'Online Security',\n",
       "       'Online Backup', 'Device Protection', 'Tech Support', 'Streaming TV',\n",
       "       'Streaming Movies', 'Contract', 'Paperless Billing', 'Payment Method',\n",
       "       'Monthly Charges', 'Total Charges', 'Churn Label', 'Churn Value',\n",
       "       'Churn Score', 'CLTV', 'Churn Reason'],\n",
       "      dtype='object')"
      ]
     },
     "execution_count": 3,
     "metadata": {},
     "output_type": "execute_result"
    }
   ],
   "source": [
    "dataset.columns"
   ]
  },
  {
   "cell_type": "code",
   "execution_count": 4,
   "metadata": {},
   "outputs": [],
   "source": [
    "# taking only the required columns which are Online Security and Churn Value\n",
    "dataset = dataset[['Online Security','Churn Value']]"
   ]
  },
  {
   "cell_type": "code",
   "execution_count": 5,
   "metadata": {},
   "outputs": [
    {
     "data": {
      "text/plain": [
       "Online Security    0\n",
       "Churn Value        0\n",
       "dtype: int64"
      ]
     },
     "execution_count": 5,
     "metadata": {},
     "output_type": "execute_result"
    }
   ],
   "source": [
    "# checking for null values\n",
    "dataset.isnull().sum()"
   ]
  },
  {
   "cell_type": "code",
   "execution_count": 6,
   "metadata": {},
   "outputs": [
    {
     "data": {
      "text/plain": [
       "Online Security    object\n",
       "Churn Value         int64\n",
       "dtype: object"
      ]
     },
     "execution_count": 6,
     "metadata": {},
     "output_type": "execute_result"
    }
   ],
   "source": [
    "dataset.dtypes"
   ]
  },
  {
   "cell_type": "code",
   "execution_count": 7,
   "metadata": {},
   "outputs": [
    {
     "data": {
      "text/plain": [
       "array(['Yes', 'No', 'No internet service'], dtype=object)"
      ]
     },
     "execution_count": 7,
     "metadata": {},
     "output_type": "execute_result"
    }
   ],
   "source": [
    "# checking the unique values in the Online Security column\n",
    "dataset['Online Security'].unique()"
   ]
  },
  {
   "attachments": {},
   "cell_type": "markdown",
   "metadata": {},
   "source": [
    "##### We are only interested in poeple who have internet service so we will drop the rows where `Online Security` is `No internet service`:"
   ]
  },
  {
   "cell_type": "code",
   "execution_count": 8,
   "metadata": {},
   "outputs": [],
   "source": [
    "# drop rows with Online Security as No internet service\n",
    "dataset = dataset[dataset['Online Security'] != 'No internet service']"
   ]
  },
  {
   "cell_type": "code",
   "execution_count": 17,
   "metadata": {},
   "outputs": [
    {
     "data": {
      "image/png": "[encoded data removed]",
      "text/plain": [
       "<Figure size 432x288 with 1 Axes>"
      ]
     },
     "metadata": {
      "needs_background": "light"
     },
     "output_type": "display_data"
    },
    {
     "data": {
      "image/png": "[encoded data removed]",
      "text/plain": [
       "<Figure size 432x288 with 1 Axes>"
      ]
     },
     "metadata": {},
     "output_type": "display_data"
    },
    {
     "data": {
      "image/png": "[encoded data removed]",
      "text/plain": [
       "<Figure size 432x288 with 1 Axes>"
      ]
     },
     "metadata": {
      "needs_background": "light"
     },
     "output_type": "display_data"
    },
    {
     "data": {
      "image/png": "[encoded data removed]",
      "text/plain": [
       "<Figure size 432x288 with 1 Axes>"
      ]
     },
     "metadata": {},
     "output_type": "display_data"
    }
   ],
   "source": [
    "# visualize the distribution of the Online Security\n",
    "sns.countplot(x='Online Security', data=dataset)\n",
    "plt.show()\n",
    "\n",
    "# visualize the distribution of the Online Security using a pie chart\n",
    "dataset['Online Security'].value_counts().plot(\n",
    "    kind='pie', autopct='%1.0f%%', colors=['red', 'green'])\n",
    "plt.show()\n",
    "\n",
    "# visualize the distribution of the Churn Value\n",
    "sns.countplot(x='Churn Value', data=dataset)\n",
    "plt.show()\n",
    "\n",
    "# visualize the distribution of the Churn Value using a pie chart\n",
    "dataset['Churn Value'].value_counts().plot(\n",
    "    kind='pie', autopct='%1.0f%%', colors=['blue', 'green'])\n",
    "plt.show()\n"
   ]
  },
  {
   "cell_type": "code",
   "execution_count": 10,
   "metadata": {},
   "outputs": [
    {
     "name": "stdout",
     "output_type": "stream",
     "text": [
      "Churn Value              0          1\n",
      "Online Security                      \n",
      "No               58.233276  41.766724\n",
      "Yes              85.388806  14.611194\n"
     ]
    },
    {
     "data": {
      "text/plain": [
       "<AxesSubplot:xlabel='Online Security'>"
      ]
     },
     "execution_count": 10,
     "metadata": {},
     "output_type": "execute_result"
    },
    {
     "data": {
      "image/png": "[encoded data removed]",
      "text/plain": [
       "<Figure size 720x360 with 1 Axes>"
      ]
     },
     "metadata": {
      "needs_background": "light"
     },
     "output_type": "display_data"
    }
   ],
   "source": [
    "# calculate the proportion of churn value for each category of Online Security\n",
    "security_churn = dataset.groupby('Online Security')['Churn Value'].value_counts(normalize=True).mul(100).unstack()\n",
    "\n",
    "print(security_churn)\n",
    "\n",
    "# visualize the proportion of churn value for each category of Online Security\n",
    "security_churn.plot(kind='bar', stacked='True', figsize=(10,5))"
   ]
  },
  {
   "cell_type": "code",
   "execution_count": 11,
   "metadata": {},
   "outputs": [
    {
     "data": {
      "text/plain": [
       "<AxesSubplot:xlabel='Online Security', ylabel='count'>"
      ]
     },
     "execution_count": 11,
     "metadata": {},
     "output_type": "execute_result"
    },
    {
     "data": {
      "image/png": "[encoded data removed]",
      "text/plain": [
       "<Figure size 432x288 with 1 Axes>"
      ]
     },
     "metadata": {
      "needs_background": "light"
     },
     "output_type": "display_data"
    }
   ],
   "source": [
    "# visualizing the distribution of all Online Security vs churn value\n",
    "sns.countplot(x='Online Security', hue='Churn Value', data=dataset)"
   ]
  },
  {
   "cell_type": "code",
   "execution_count": 12,
   "metadata": {},
   "outputs": [],
   "source": [
    "# separate each category of Online Security with its churn value\n",
    "no = dataset[dataset['Online Security'] == 'No']\n",
    "yes = dataset[dataset['Online Security'] == 'Yes']"
   ]
  },
  {
   "attachments": {},
   "cell_type": "markdown",
   "metadata": {},
   "source": [
    "##### Initial observations:\n",
    "- There are 7043 rows and 21 columns in the dataset.\n",
    "- There are no missing values in the dataset.\n",
    "- relative churn rate for people with online security is less than those without online security. "
   ]
  },
  {
   "attachments": {},
   "cell_type": "markdown",
   "metadata": {},
   "source": [
    "### Model Building:"
   ]
  },
  {
   "attachments": {},
   "cell_type": "markdown",
   "metadata": {},
   "source": [
    "##### Defining Hypothesis:\n",
    "\n",
    "- `u1` = proportion of customers without online security features who churned, `u2` = proportion of customers with online security features who churned\n",
    "\n",
    "- Null Hypothesis H0: the **u1-u2 <= 25%**\n",
    "\n",
    "- Alternative Hypothesis H1: **the u1-u2 > 25%**\n",
    "\n",
    "- our significance level is 0.05"
   ]
  },
  {
   "cell_type": "code",
   "execution_count": 14,
   "metadata": {},
   "outputs": [
    {
     "name": "stdout",
     "output_type": "stream",
     "text": [
      "Reject the null hypothesis\n"
     ]
    }
   ],
   "source": [
    "# calculate the mean of churn value for each category of Online Security\n",
    "no_mean = no['Churn Value'].mean()\n",
    "yes_mean = yes['Churn Value'].mean()\n",
    "\n",
    "# calculate the variance of churn value for each category of Online Security\n",
    "no_var = no['Churn Value'].var()\n",
    "yes_var = yes['Churn Value'].var()\n",
    "\n",
    "# calculate the sample size\n",
    "no_n = len(no)\n",
    "yes_n = len(yes)\n",
    "\n",
    "# desired difference between the means\n",
    "diff = 0.25\n",
    "\n",
    "# calculate the t statistic\n",
    "t_stat = (no_mean - yes_mean - diff) / np.sqrt((no_var/no_n) + (yes_var/yes_n))\n",
    "\n",
    "# calculate the degrees of freedom\n",
    "df = np.floor((no_var/no_n + yes_var/yes_n)**2 / ((no_var/no_n)**2 / (no_n-1) + (yes_var/yes_n)**2 / (yes_n-1)))\n",
    "\n",
    "# calculate the critical value\n",
    "cv = t.ppf(1.0 - 0.05, df)\n",
    "\n",
    "# compare t statistic with critical value\n",
    "if t_stat < cv:\n",
    "    print('Retain null hypothesis.')\n",
    "else:\n",
    "    print('Reject the null hypothesis')"
   ]
  },
  {
   "attachments": {},
   "cell_type": "markdown",
   "metadata": {},
   "source": [
    "#### Results:\n",
    "We can conclude that the churn rate of customers without Online Security is significantly higher `(25% higher)` than that of customers with Online Security. This information is useful for the telecommunications company, as it can inform their customer retention strategies and help them prioritize efforts to promote the use of online security features among their customer base. By doing so, the company may be able to reduce customer churn rates and improve customer satisfaction."
   ]
  }
 ],
 "metadata": {
  "kernelspec": {
   "display_name": "base",
   "language": "python",
   "name": "python3"
  },
  "language_info": {
   "codemirror_mode": {
    "name": "ipython",
    "version": 3
   },
   "file_extension": ".py",
   "mimetype": "text/x-python",
   "name": "python",
   "nbconvert_exporter": "python",
   "pygments_lexer": "ipython3",
   "version": "3.9.6"
  },
  "orig_nbformat": 4
 },
 "nbformat": 4,
 "nbformat_minor": 2
}
