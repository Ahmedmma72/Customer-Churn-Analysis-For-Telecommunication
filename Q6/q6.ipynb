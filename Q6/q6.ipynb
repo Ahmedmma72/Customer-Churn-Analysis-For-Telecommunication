{
 "cells": [
  {
   "attachments": {},
   "cell_type": "markdown",
   "metadata": {},
   "source": [
    "#### Question: What is the distribution of customers across different Internet service types? and the churn rate for each type?"
   ]
  },
  {
   "attachments": {},
   "cell_type": "markdown",
   "metadata": {},
   "source": [
    "##### Expectations: \n",
    "By analyzing the distribution of customers across different Internet service types, we can identify trends and patterns that can help the company make informed decisions about its business strategies. For example, if a particular Internet service type has a low number of customers, the company may want to consider offering promotions or incentives to attract more customers to that service. On the other hand, if a particular service type has a high number of customers, the company may want to focus its resources on maintaining the quality of that service to retain those customers."
   ]
  },
  {
   "attachments": {},
   "cell_type": "markdown",
   "metadata": {},
   "source": [
    "##### Information about the data:\n",
    "The data is stored in a CSV file named `Telco_customer_churn_services.xlsx`. The file contains 7043 rows. Each row represents a customer, each column contains customer’s attributes described on the column Metadata. We have 3 internet services listed below:\n",
    "1. DSL\n",
    "2. Fiber optic\n",
    "3. Cable "
   ]
  },
  {
   "attachments": {},
   "cell_type": "markdown",
   "metadata": {},
   "source": [
    "#### EDA"
   ]
  },
  {
   "cell_type": "code",
   "execution_count": 1,
   "metadata": {},
   "outputs": [],
   "source": [
    "# Importing the libraries\n",
    "import seaborn as sns\n",
    "import pandas as pd"
   ]
  },
  {
   "cell_type": "code",
   "execution_count": 14,
   "metadata": {},
   "outputs": [],
   "source": [
    "# Load the data from /Dataset/Telco_customer_churn_services.xlsx\n",
    "dataset1 = pd.read_excel('../Dataset/Telco_customer_churn_services.xlsx')"
   ]
  },
  {
   "cell_type": "code",
   "execution_count": 24,
   "metadata": {},
   "outputs": [],
   "source": [
    "# we need to get a column from another excel file and join it with the dataset\n",
    "\n",
    "# Load the data from /Dataset/Telco_customer_churn.xlsx\n",
    "dataset2 = pd.read_excel('../Dataset/Telco_customer_churn.xlsx')"
   ]
  },
  {
   "cell_type": "code",
   "execution_count": 25,
   "metadata": {},
   "outputs": [],
   "source": [
    "# rename the column to match the column name in the dataset\n",
    "dataset2.rename(columns={'CustomerID':'Customer ID'}, inplace=True)"
   ]
  },
  {
   "cell_type": "code",
   "execution_count": 26,
   "metadata": {},
   "outputs": [],
   "source": [
    "# Join the two datasets on the column 'Customer ID'\n",
    "dataset = pd.merge(dataset1, dataset2, on='Customer ID')"
   ]
  },
  {
   "cell_type": "code",
   "execution_count": 27,
   "metadata": {},
   "outputs": [
    {
     "data": {
      "text/plain": [
       "Index(['Customer ID', 'Count_x', 'Quarter', 'Referred a Friend',\n",
       "       'Number of Referrals', 'Tenure in Months', 'Offer', 'Phone Service_x',\n",
       "       'Avg Monthly Long Distance Charges', 'Multiple Lines_x',\n",
       "       'Internet Service_x', 'Internet Type', 'Avg Monthly GB Download',\n",
       "       'Online Security_x', 'Online Backup_x', 'Device Protection Plan',\n",
       "       'Premium Tech Support', 'Streaming TV_x', 'Streaming Movies_x',\n",
       "       'Streaming Music', 'Unlimited Data', 'Contract_x',\n",
       "       'Paperless Billing_x', 'Payment Method_x', 'Monthly Charge',\n",
       "       'Total Charges_x', 'Total Refunds', 'Total Extra Data Charges',\n",
       "       'Total Long Distance Charges', 'Total Revenue', 'Count_y', 'Country',\n",
       "       'State', 'City', 'Zip Code', 'Lat Long', 'Latitude', 'Longitude',\n",
       "       'Gender', 'Senior Citizen', 'Partner', 'Dependents', 'Tenure Months',\n",
       "       'Phone Service_y', 'Multiple Lines_y', 'Internet Service_y',\n",
       "       'Online Security_y', 'Online Backup_y', 'Device Protection',\n",
       "       'Tech Support', 'Streaming TV_y', 'Streaming Movies_y', 'Contract_y',\n",
       "       'Paperless Billing_y', 'Payment Method_y', 'Monthly Charges',\n",
       "       'Total Charges_y', 'Churn Label', 'Churn Value', 'Churn Score', 'CLTV',\n",
       "       'Churn Reason'],\n",
       "      dtype='object')"
      ]
     },
     "execution_count": 27,
     "metadata": {},
     "output_type": "execute_result"
    }
   ],
   "source": [
    "dataset.columns"
   ]
  },
  {
   "cell_type": "code",
   "execution_count": 28,
   "metadata": {},
   "outputs": [],
   "source": [
    "# get column 'internet type'\n",
    "internet_type = dataset['Internet Type']"
   ]
  },
  {
   "cell_type": "code",
   "execution_count": 29,
   "metadata": {},
   "outputs": [
    {
     "data": {
      "text/plain": [
       "array(['DSL', 'Fiber Optic', 'Cable', 'None'], dtype=object)"
      ]
     },
     "execution_count": 29,
     "metadata": {},
     "output_type": "execute_result"
    }
   ],
   "source": [
    "internet_type.unique()"
   ]
  },
  {
   "cell_type": "code",
   "execution_count": 19,
   "metadata": {},
   "outputs": [
    {
     "data": {
      "text/plain": [
       "0"
      ]
     },
     "execution_count": 19,
     "metadata": {},
     "output_type": "execute_result"
    }
   ],
   "source": [
    "# Check for any missing values\n",
    "internet_type.isnull().sum()"
   ]
  },
  {
   "cell_type": "code",
   "execution_count": 20,
   "metadata": {},
   "outputs": [
    {
     "data": {
      "text/plain": [
       "<AxesSubplot:xlabel='Internet Type', ylabel='count'>"
      ]
     },
     "execution_count": 20,
     "metadata": {},
     "output_type": "execute_result"
    },
    {
     "data": {
      "image/png": "[encoded data removed]",
      "text/plain": [
       "<Figure size 432x288 with 1 Axes>"
      ]
     },
     "metadata": {
      "needs_background": "light"
     },
     "output_type": "display_data"
    }
   ],
   "source": [
    "# make a histogram of internet type\n",
    "sns.countplot(x='Internet Type', data=dataset)\n"
   ]
  },
  {
   "cell_type": "code",
   "execution_count": 23,
   "metadata": {},
   "outputs": [
    {
     "data": {
      "text/plain": [
       "<AxesSubplot:ylabel='Internet Type'>"
      ]
     },
     "execution_count": 23,
     "metadata": {},
     "output_type": "execute_result"
    },
    {
     "data": {
      "image/png": "[encoded data removed]",
      "text/plain": [
       "<Figure size 432x432 with 1 Axes>"
      ]
     },
     "metadata": {},
     "output_type": "display_data"
    }
   ],
   "source": [
    "# make a pie chart of internet type \n",
    "internet_type.value_counts().plot(kind='pie', autopct='%1.1f%%', figsize=(6, 6))"
   ]
  },
  {
   "cell_type": "code",
   "execution_count": 32,
   "metadata": {},
   "outputs": [
    {
     "name": "stdout",
     "output_type": "stream",
     "text": [
      "  Internet Type  Churn Value  percentage\n",
      "0         Cable            0   74.337349\n",
      "1         Cable            1   25.662651\n",
      "2           DSL            0   81.416465\n",
      "3           DSL            1   18.583535\n",
      "4   Fiber Optic            0   59.275124\n",
      "5   Fiber Optic            1   40.724876\n",
      "6          None            0   92.595020\n",
      "7          None            1    7.404980\n"
     ]
    },
    {
     "data": {
      "text/plain": [
       "<AxesSubplot:xlabel='Internet Type', ylabel='percentage'>"
      ]
     },
     "execution_count": 32,
     "metadata": {},
     "output_type": "execute_result"
    },
    {
     "data": {
      "image/png": "[encoded data removed]",
      "text/plain": [
       "<Figure size 432x288 with 1 Axes>"
      ]
     },
     "metadata": {
      "needs_background": "light"
     },
     "output_type": "display_data"
    }
   ],
   "source": [
    "# calculate the proportion of churn value for each Internet service type\n",
    "Internet_Type_churn = dataset.groupby(['Internet Type'])['Churn Value'].value_counts(\n",
    "    normalize=True).rename('percentage').mul(100).reset_index()\n",
    "\n",
    "# print the proportion of churn value for each Internet service type\n",
    "print(Internet_Type_churn)\n",
    "\n",
    "# plot the proportion of churn value for each Internet service type\n",
    "sns.barplot(x=\"Internet Type\", y=\"percentage\",\n",
    "            hue=\"Churn Value\", data=Internet_Type_churn)\n",
    "\n"
   ]
  },
  {
   "attachments": {},
   "cell_type": "markdown",
   "metadata": {},
   "source": [
    "#### Results Interpretation\n",
    "Based on our analysis of the Telco Customer Churn dataset, we found that the distribution of customers across different Internet service types is as follows: 43.1% for Fiber Optic, 23.5% for DSL, 11.8% for Cable, and 21.7% did not have any Internet service.\n",
    "\n",
    "When we analyzed the churn value for each service type, we found that Fiber Optic and Cable services have the highest churn rates at 40.7% and 25.7%, respectively. On the other hand, customers who do not have any Internet service have the lowest churn rate at 7.4%, and DSL customers have a relatively low churn rate at 18.6%.\n",
    "\n",
    "Overall, our findings suggest that the company should focus on identifying and addressing the reasons why customers are churning for Fiber Optic and Cable services. This could involve improving the quality of service, offering better pricing plans, or providing additional incentives to retain customers. Additionally, the company may want to explore why customers who do not have any Internet service are not subscribing, and develop strategies to address any barriers. The low churn rate for DSL customers indicates that the company should focus on retaining existing DSL customers and potentially offer incentives to encourage customers to switch from other service types to DSL."
   ]
  },
  {
   "cell_type": "code",
   "execution_count": null,
   "metadata": {},
   "outputs": [],
   "source": [
    "# save the internet type and churn value to an excel file\n",
    "columns = ['Internet Type', 'Churn Value']\n",
    "newDataset = dataset[columns]\n",
    "newDataset.to_excel('internet_type_churn.xlsx', index=False)\n"
   ]
  }
 ],
 "metadata": {
  "kernelspec": {
   "display_name": "Python 3",
   "language": "python",
   "name": "python3"
  },
  "language_info": {
   "codemirror_mode": {
    "name": "ipython",
    "version": 3
   },
   "file_extension": ".py",
   "mimetype": "text/x-python",
   "name": "python",
   "nbconvert_exporter": "python",
   "pygments_lexer": "ipython3",
   "version": "3.9.6"
  },
  "orig_nbformat": 4
 },
 "nbformat": 4,
 "nbformat_minor": 2
}
