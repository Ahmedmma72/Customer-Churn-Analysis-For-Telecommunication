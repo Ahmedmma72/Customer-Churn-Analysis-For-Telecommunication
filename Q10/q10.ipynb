{
 "cells": [
  {
   "attachments": {},
   "cell_type": "markdown",
   "metadata": {},
   "source": [
    "#### Question: What is the relationship between the customer churn based on the Services they subscribed to ?"
   ]
  },
  {
   "attachments": {},
   "cell_type": "markdown",
   "metadata": {},
   "source": [
    "##### Expectations:\n",
    "Predicting customer churn based on the services they subscribe to can be very useful for a telecommunications company. By identifying which services are more strongly associated with churn, the company can take targeted actions to improve those services or offer incentives to encourage customers to keep them. This information can also help the company to develop more targeted marketing campaigns to promote the services that are less likely to lead to churn. Additionally, the insights gained from this analysis can be used to inform future product development and service offerings, helping the company to better meet the needs and preferences of its customers.\n"
   ]
  },
  {
   "attachments": {},
   "cell_type": "markdown",
   "metadata": {},
   "source": [
    "##### Information about the data:\n",
    "The data is stored in an Excel file named `Telco_customer_churn_services.xlsx`. The file contains 7043 rows. Each row represents a customer, each column contains customer’s attributes described on the column Metadata. This company provides 8 services:\n",
    "1. Phone Service\n",
    "2. Multiple Lines\n",
    "3. Internet Service\n",
    "4. online security\n",
    "5. online backup\n",
    "6. Device Protection Plan\n",
    "7. Premium Tech Support\n",
    "8. Unlimited Data"
   ]
  },
  {
   "attachments": {},
   "cell_type": "markdown",
   "metadata": {},
   "source": [
    "#### EDA:"
   ]
  },
  {
   "cell_type": "code",
   "execution_count": null,
   "metadata": {},
   "outputs": [],
   "source": [
    "# Importing the libraries\n",
    "import numpy as np\n",
    "import matplotlib.pyplot as plt\n",
    "import pandas as pd\n",
    "from sklearn.model_selection import train_test_split\n",
    "import seaborn as sns\n",
    "from sklearn.model_selection import GridSearchCV\n",
    "from sklearn.linear_model import LogisticRegression\n",
    "from sklearn.metrics import classification_report\n",
    "from imblearn.over_sampling import SMOTE\n",
    "from sklearn.ensemble import RandomForestClassifier\n",
    "from sklearn.svm import SVC"
   ]
  },
  {
   "cell_type": "code",
   "execution_count": null,
   "metadata": {},
   "outputs": [],
   "source": [
    "# Load the dataset from ../Dataset/Telco_customer_churn_services.xlsx\n",
    "dataset1 = pd.read_excel('../Dataset/Telco_customer_churn_services.xlsx')"
   ]
  },
  {
   "cell_type": "code",
   "execution_count": null,
   "metadata": {},
   "outputs": [],
   "source": [
    "# we need to get a column from another excel file and join it with the dataset\n",
    "\n",
    "# Load the data from /Dataset/Telco_customer_churn.xlsx\n",
    "dataset2 = pd.read_excel('../Dataset/Telco_customer_churn.xlsx')"
   ]
  },
  {
   "cell_type": "code",
   "execution_count": null,
   "metadata": {},
   "outputs": [],
   "source": [
    "# rename the column to match the column name in the dataset\n",
    "dataset2.rename(columns={'CustomerID':'Customer ID'}, inplace=True)"
   ]
  },
  {
   "cell_type": "code",
   "execution_count": null,
   "metadata": {},
   "outputs": [],
   "source": [
    "# Join the two datasets on the column 'Customer ID'\n",
    "dataset = pd.merge(dataset1, dataset2, on='Customer ID')"
   ]
  },
  {
   "cell_type": "code",
   "execution_count": null,
   "metadata": {},
   "outputs": [],
   "source": [
    "dataset.columns"
   ]
  },
  {
   "cell_type": "code",
   "execution_count": null,
   "metadata": {},
   "outputs": [],
   "source": [
    "my_columns = ['Phone Service_x', 'Internet Service_x', 'Multiple Lines_x',\n",
    "              'Online Security_x', 'Online Backup_x', 'Device Protection Plan', 'Premium Tech Support', 'Unlimited Data', 'Churn Value', 'Total Revenue']\n",
    "\n",
    "dataset = dataset[my_columns]"
   ]
  },
  {
   "cell_type": "code",
   "execution_count": null,
   "metadata": {},
   "outputs": [],
   "source": [
    "# Check for messing values\n",
    "dataset.isnull().sum()"
   ]
  },
  {
   "cell_type": "code",
   "execution_count": null,
   "metadata": {},
   "outputs": [],
   "source": [
    "# rename the columns with _x to remove the _x\n",
    "if 'Phone Service_x' in dataset.columns:\n",
    "    dataset.rename(columns={'Phone Service_x':'Phone Service', 'Internet Service_x':'Internet Service', 'Multiple Lines_x':'Multiple Lines',\n",
    "                        'Online Security_x':'Online Security', 'Online Backup_x':'Online Backup'}, inplace=True)"
   ]
  },
  {
   "cell_type": "code",
   "execution_count": null,
   "metadata": {},
   "outputs": [],
   "source": [
    "dataset.columns"
   ]
  },
  {
   "cell_type": "code",
   "execution_count": null,
   "metadata": {},
   "outputs": [],
   "source": [
    "# check the data types\n",
    "dataset.dtypes"
   ]
  },
  {
   "cell_type": "code",
   "execution_count": null,
   "metadata": {},
   "outputs": [],
   "source": [
    "## turn the categorical variables into dummy variables\n",
    "dataset = pd.get_dummies(dataset, drop_first=True)\n",
    "\n",
    "# check the data types of the  \n",
    "dataset.dtypes"
   ]
  },
  {
   "cell_type": "code",
   "execution_count": null,
   "metadata": {},
   "outputs": [],
   "source": [
    "# rename the columns with _yes to remove the _yes\n",
    "if 'Phone Service_Yes' in dataset.columns:\n",
    "    dataset.rename(columns={'Phone Service_Yes':'Phone Service', 'Internet Service_Yes':'Internet Service', 'Multiple Lines_Yes':'Multiple Lines',\n",
    "                        'Online Security_Yes':'Online Security', 'Online Backup_Yes':'Online Backup','Device Protection Plan_Yes':'Device Protection Plan',\n",
    "                        'Premium Tech Support_Yes':'Premium Tech Support','Unlimited Data_Yes':'Unlimited Data'}, inplace=True)"
   ]
  },
  {
   "cell_type": "code",
   "execution_count": null,
   "metadata": {},
   "outputs": [],
   "source": [
    "# check the head of the dataset\n",
    "dataset.head()"
   ]
  },
  {
   "cell_type": "code",
   "execution_count": null,
   "metadata": {},
   "outputs": [],
   "source": [
    "# visualize the relationship between the different services and total revenue using a boxplot all in one figure and  same axes\n",
    "plt.figure(figsize=(20, 10))\n",
    "plt.subplot(2, 4, 1)\n",
    "sns.boxplot(x='Phone Service', y='Total Revenue',\n",
    "            data=dataset)\n",
    "plt.subplot(2, 4, 2)\n",
    "sns.boxplot(x='Internet Service', y='Total Revenue', data=dataset)\n",
    "plt.subplot(2, 4, 3)\n",
    "sns.boxplot(x='Multiple Lines', y='Total Revenue', data=dataset)\n",
    "plt.subplot(2, 4, 4)\n",
    "sns.boxplot(x='Online Security', y='Total Revenue', data=dataset)\n",
    "plt.subplot(2, 4, 5)\n",
    "sns.boxplot(x='Online Backup', y='Total Revenue', data=dataset)\n",
    "plt.subplot(2, 4, 6)\n",
    "sns.boxplot(x='Device Protection Plan', y='Total Revenue', data=dataset)\n",
    "plt.subplot(2, 4, 7)\n",
    "sns.boxplot(x='Premium Tech Support', y='Total Revenue', data=dataset)\n",
    "plt.subplot(2, 4, 8)\n",
    "sns.boxplot(x='Unlimited Data', y='Total Revenue', data=dataset)\n",
    "plt.show()\n",
    "\n",
    "# print in a table the median of the total revenue for each service\n",
    "print(dataset.groupby('Phone Service')['Total Revenue'].median())\n",
    "print(dataset.groupby('Internet Service')['Total Revenue'].median())\n",
    "print(dataset.groupby('Multiple Lines')['Total Revenue'].median())\n",
    "print(dataset.groupby('Online Security')['Total Revenue'].median())\n",
    "print(dataset.groupby('Online Backup')['Total Revenue'].median())\n",
    "print(dataset.groupby('Device Protection Plan')['Total Revenue'].median())\n",
    "print(dataset.groupby('Premium Tech Support')['Total Revenue'].median())\n",
    "print(dataset.groupby('Unlimited Data')['Total Revenue'].median())"
   ]
  },
  {
   "attachments": {},
   "cell_type": "markdown",
   "metadata": {},
   "source": [
    "###### Initial Observations:\n",
    "\n",
    "The online backup service generates the most revenue out of all the services. The phone service\n"
   ]
  },
  {
   "cell_type": "code",
   "execution_count": null,
   "metadata": {},
   "outputs": [],
   "source": [
    "# visualize the distribution of the different services vs the churn value all in one figure and same axes\n",
    "plt.figure(figsize=(20, 10))\n",
    "plt.subplot(2, 4, 1)\n",
    "sns.countplot(x='Phone Service', hue='Churn Value', data=dataset)\n",
    "plt.subplot(2, 4, 2)\n",
    "sns.countplot(x='Internet Service', hue='Churn Value', data=dataset)\n",
    "plt.subplot(2, 4, 3)\n",
    "sns.countplot(x='Multiple Lines', hue='Churn Value', data=dataset)\n",
    "plt.subplot(2, 4, 4)\n",
    "sns.countplot(x='Online Security', hue='Churn Value', data=dataset)\n",
    "plt.subplot(2, 4, 5)\n",
    "sns.countplot(x='Online Backup', hue='Churn Value', data=dataset)\n",
    "plt.subplot(2, 4, 6)\n",
    "sns.countplot(x='Device Protection Plan', hue='Churn Value', data=dataset)\n",
    "plt.subplot(2, 4, 7)\n",
    "sns.countplot(x='Premium Tech Support', hue='Churn Value', data=dataset)\n",
    "plt.subplot(2, 4, 8)\n",
    "sns.countplot(x='Unlimited Data', hue='Churn Value', data=dataset)\n",
    "plt.show()"
   ]
  }
 ],
 "metadata": {
  "kernelspec": {
   "display_name": "Python 3",
   "language": "python",
   "name": "python3"
  },
  "language_info": {
   "codemirror_mode": {
    "name": "ipython",
    "version": 3
   },
   "file_extension": ".py",
   "mimetype": "text/x-python",
   "name": "python",
   "nbconvert_exporter": "python",
   "pygments_lexer": "ipython3",
   "version": "3.9.6"
  },
  "orig_nbformat": 4
 },
 "nbformat": 4,
 "nbformat_minor": 2
}
