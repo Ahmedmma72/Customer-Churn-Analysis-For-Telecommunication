{
 "cells": [
  {
   "attachments": {},
   "cell_type": "markdown",
   "metadata": {},
   "source": [
    "### Question: Does the distribution of Internet types follow (70%   20%  10%) for DSL, Cable and Fiber respectively ?"
   ]
  },
  {
   "attachments": {},
   "cell_type": "markdown",
   "metadata": {},
   "source": [
    "#### Expectations:\n",
    " the goal of this question is to provide insights into the distribution of Internet types in a given population or market and to assess whether the expected distribution of 70%, 20%, and 10% for DSL, Cable, and Fiber, respectively, is a reasonable approximation of the actual distribution. This information can be used to inform marketing and product development strategies for specific types of Internet services, and to identify potential areas for improvement in the distribution of Internet types.\n",
    "\n",
    "#### Note: \n",
    "this distribution is not by chance but rather a result of some research that resulted in that DSl internet is the most common as it's affordable then Cable internet then Fiber internet which is the most expensive."
   ]
  },
  {
   "attachments": {},
   "cell_type": "markdown",
   "metadata": {},
   "source": [
    "#### Information about the data:\n",
    "The data is stored in an Excel file named `Telco_customer_churn_service.xlsx`. The file contains 7043 rows. Each row represents a customer, each column contains customer’s attributes described on the column Metadata. The features we are interested in is\n",
    "`Internet Type`: Type of Internet service (DSL, Fiber optic, None)"
   ]
  },
  {
   "attachments": {},
   "cell_type": "markdown",
   "metadata": {},
   "source": [
    "### EDA:"
   ]
  },
  {
   "cell_type": "code",
   "execution_count": 17,
   "metadata": {},
   "outputs": [],
   "source": [
    "# Importing the libraries\n",
    "import numpy as np\n",
    "import matplotlib.pyplot as plt\n",
    "import pandas as pd\n",
    "from sklearn.model_selection import train_test_split\n",
    "import seaborn as sns\n",
    "from scipy.stats import chisquare\n"
   ]
  },
  {
   "cell_type": "code",
   "execution_count": 2,
   "metadata": {},
   "outputs": [],
   "source": [
    "# read the dataset\n",
    "dataset = pd.read_excel('../Dataset/Telco_customer_churn_services.xlsx')"
   ]
  },
  {
   "cell_type": "code",
   "execution_count": 3,
   "metadata": {},
   "outputs": [
    {
     "data": {
      "text/plain": [
       "Index(['Customer ID', 'Count', 'Quarter', 'Referred a Friend',\n",
       "       'Number of Referrals', 'Tenure in Months', 'Offer', 'Phone Service',\n",
       "       'Avg Monthly Long Distance Charges', 'Multiple Lines',\n",
       "       'Internet Service', 'Internet Type', 'Avg Monthly GB Download',\n",
       "       'Online Security', 'Online Backup', 'Device Protection Plan',\n",
       "       'Premium Tech Support', 'Streaming TV', 'Streaming Movies',\n",
       "       'Streaming Music', 'Unlimited Data', 'Contract', 'Paperless Billing',\n",
       "       'Payment Method', 'Monthly Charge', 'Total Charges', 'Total Refunds',\n",
       "       'Total Extra Data Charges', 'Total Long Distance Charges',\n",
       "       'Total Revenue'],\n",
       "      dtype='object')"
      ]
     },
     "execution_count": 3,
     "metadata": {},
     "output_type": "execute_result"
    }
   ],
   "source": [
    "dataset.columns"
   ]
  },
  {
   "cell_type": "code",
   "execution_count": 4,
   "metadata": {},
   "outputs": [],
   "source": [
    "# taking only the required column which is Internet Type\n",
    "dataset = dataset[['Internet Type']]"
   ]
  },
  {
   "cell_type": "code",
   "execution_count": 5,
   "metadata": {},
   "outputs": [
    {
     "data": {
      "text/plain": [
       "Internet Type    0\n",
       "dtype: int64"
      ]
     },
     "execution_count": 5,
     "metadata": {},
     "output_type": "execute_result"
    }
   ],
   "source": [
    "# checking for null values\n",
    "dataset.isnull().sum()"
   ]
  },
  {
   "cell_type": "code",
   "execution_count": 6,
   "metadata": {},
   "outputs": [
    {
     "data": {
      "text/plain": [
       "Internet Type    object\n",
       "dtype: object"
      ]
     },
     "execution_count": 6,
     "metadata": {},
     "output_type": "execute_result"
    }
   ],
   "source": [
    "dataset.dtypes"
   ]
  },
  {
   "cell_type": "code",
   "execution_count": 7,
   "metadata": {},
   "outputs": [
    {
     "data": {
      "text/plain": [
       "array(['DSL', 'Fiber Optic', 'Cable', 'None'], dtype=object)"
      ]
     },
     "execution_count": 7,
     "metadata": {},
     "output_type": "execute_result"
    }
   ],
   "source": [
    "dataset['Internet Type'].unique()"
   ]
  },
  {
   "cell_type": "code",
   "execution_count": 8,
   "metadata": {},
   "outputs": [],
   "source": [
    "# drop the rows with 'NOne' values\n",
    "dataset = dataset[dataset['Internet Type'] != 'None']"
   ]
  },
  {
   "cell_type": "code",
   "execution_count": 9,
   "metadata": {},
   "outputs": [
    {
     "data": {
      "text/plain": [
       "array(['DSL', 'Fiber Optic', 'Cable'], dtype=object)"
      ]
     },
     "execution_count": 9,
     "metadata": {},
     "output_type": "execute_result"
    }
   ],
   "source": [
    "dataset['Internet Type'].unique()"
   ]
  },
  {
   "cell_type": "code",
   "execution_count": 16,
   "metadata": {},
   "outputs": [
    {
     "data": {
      "image/png": "[encoded data removed]",
      "text/plain": [
       "<Figure size 432x288 with 1 Axes>"
      ]
     },
     "metadata": {
      "needs_background": "light"
     },
     "output_type": "display_data"
    },
    {
     "data": {
      "text/plain": [
       "<AxesSubplot:ylabel='Internet Type'>"
      ]
     },
     "execution_count": 16,
     "metadata": {},
     "output_type": "execute_result"
    },
    {
     "data": {
      "image/png": "[encoded data removed]",
      "text/plain": [
       "<Figure size 432x288 with 1 Axes>"
      ]
     },
     "metadata": {},
     "output_type": "display_data"
    }
   ],
   "source": [
    "# visualize the distribution of Internet Type\n",
    "sns.countplot(x='Internet Type', data=dataset)\n",
    "plt.show()\n",
    "\n",
    "# visualize the distribution of Internet Type using a pie chart\n",
    "dataset['Internet Type'].value_counts().plot(kind='pie', autopct='%1.0f%%', colors=['lightblue', 'lightgreen', 'orange'])"
   ]
  },
  {
   "attachments": {},
   "cell_type": "markdown",
   "metadata": {},
   "source": [
    "##### Insights:\n",
    "The distribution in our data does not follow what we expected but we still need to apply statistical testing to see the significance of it.\n"
   ]
  },
  {
   "cell_type": "code",
   "execution_count": 11,
   "metadata": {},
   "outputs": [],
   "source": [
    "# separate the Internet Type into 3 categories\n",
    "dsl = dataset[dataset['Internet Type'] == 'DSL']\n",
    "fiber = dataset[dataset['Internet Type'] == 'Fiber Optic']\n",
    "cable = dataset[dataset['Internet Type'] == 'Cable']"
   ]
  },
  {
   "attachments": {},
   "cell_type": "markdown",
   "metadata": {},
   "source": [
    "#### Initial Insights:\n",
    "- The data is clean and has no missing values.\n",
    "- The data has 3 types of internet services: DSL, Fiber optic.\n",
    "- Fiber Optic is the most common internet service type in the company.\n",
    "\n",
    "So the distribution of internet types is not as expected. But we need to do some statistical tests to make sure of that."
   ]
  },
  {
   "attachments": {},
   "cell_type": "markdown",
   "metadata": {},
   "source": [
    "### Model Building:"
   ]
  },
  {
   "attachments": {},
   "cell_type": "markdown",
   "metadata": {},
   "source": [
    "#### Define the Hypothesis:\n",
    "- H0: The distribution of internet types is as expected which is (70%  20%  10%) for (DSL, Cable, Fiber Optic) respectively.\n",
    "- H1: The distribution of internet types is not as expected.\n",
    "\n",
    "#### Statistical Test:\n",
    "- `Chi-Square Goodness Of Fit` Test will be used\n",
    "- significance level =[0.1, 0.2, 0.3, 0.4]"
   ]
  },
  {
   "cell_type": "code",
   "execution_count": 23,
   "metadata": {},
   "outputs": [
    {
     "name": "stdout",
     "output_type": "stream",
     "text": [
      "At alpha 0.1 we reject the null hypothesis, the distribution of internet types does not follow the expected proportions.\n",
      "At alpha 0.2 we reject the null hypothesis, the distribution of internet types does not follow the expected proportions.\n",
      "At alpha 0.3 we reject the null hypothesis, the distribution of internet types does not follow the expected proportions.\n",
      "At alpha 0.4 we reject the null hypothesis, the distribution of internet types does not follow the expected proportions.\n"
     ]
    }
   ],
   "source": [
    "# calculate observed frequencies for each Internet Type\n",
    "observed = np.array([len(dsl), len(cable), len(fiber)])\n",
    "\n",
    "# calculate the expected frequencies for each Internet Type\n",
    "expected = np.array([len(dataset) * 0.7, len(dataset) * 0.2, len(dataset) * 0.1])\n",
    "\n",
    "\n",
    "\n",
    "\n",
    "alpha_list = [0.1, 0.2, 0.3, 0.4]\n",
    "\n",
    "for alpha in alpha_list:\n",
    "    # Perform chi-square goodness of fit test\n",
    "    chi_stat, p_value = chisquare(observed, f_exp=expected)\n",
    "\n",
    "    # Determine if we reject or accept the null hypothesis\n",
    "    if p_value < alpha:\n",
    "        print(f\"At alpha {alpha} we reject the null hypothesis, the distribution of internet types does not follow the expected proportions.\")\n",
    "    else:\n",
    "        print(f\"At alpha {alpha} We accept the null hypothesis, the distribution of internet types follows the expected proportions.\")\n"
   ]
  },
  {
   "attachments": {},
   "cell_type": "markdown",
   "metadata": {},
   "source": [
    "#### Results:\n",
    "We managed to reject the null hypothesis and conclude that the Internet Type significantly doesn't follow the distribution of (70% 20% 10%) for (DSL, Cable, Fiber Optic) respectively. Rejecting the null hypothesis means that the observed distribution of internet types is significantly different from the expected distribution of (70% DSL, 20% Cable, 10% Fiber Optic). This indicates that there may be some factors influencing the choice of internet type by customers that are not captured in the expected distribution.\n",
    "\n",
    "To further investigate this, the company can perform a deeper analysis of customer preferences and behaviors to identify the factors that are driving the distribution of internet types. They can also consider offering promotions or incentives to encourage customers to switch to the internet type that the company wants to promote, based on its business strategy.\n",
    "\n",
    "Additionally, the company can use the insights gained from this analysis to optimize its product offerings and marketing strategies to better meet the needs and preferences of its customers. For example, they can create tailored marketing campaigns for specific internet types or develop new products that are more appealing to customers who prefer certain types of internet services. \n",
    "\n"
   ]
  }
 ],
 "metadata": {
  "kernelspec": {
   "display_name": "base",
   "language": "python",
   "name": "python3"
  },
  "language_info": {
   "codemirror_mode": {
    "name": "ipython",
    "version": 3
   },
   "file_extension": ".py",
   "mimetype": "text/x-python",
   "name": "python",
   "nbconvert_exporter": "python",
   "pygments_lexer": "ipython3",
   "version": "3.9.6"
  },
  "orig_nbformat": 4
 },
 "nbformat": 4,
 "nbformat_minor": 2
}
